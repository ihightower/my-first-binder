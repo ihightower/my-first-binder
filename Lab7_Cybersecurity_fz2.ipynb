{
 "cells": [
  {
   "cell_type": "markdown",
   "metadata": {
    "id": "YWpH-oDaBocl"
   },
   "source": [
    "# Cybersecurity\n",
    "**CS1302 Introduction to Computer Programming**\n",
    "___"
   ]
  },
  {
   "cell_type": "markdown",
   "metadata": {
    "id": "85fkrK-2Bocr"
   },
   "source": [
    "Python is a popular tool among hackers and engineers. In this lab, you will learn Cryptology in cybersecurity, which covers\n",
    "- [Cryptography](https://en.wikipedia.org/wiki/Cryptography): Encryption and decryption using a cipher.\n",
    "- [Cryptanalysis](https://en.wikipedia.org/wiki/Cryptanalysis): Devising an attack to break a cipher."
   ]
  },
  {
   "cell_type": "markdown",
   "metadata": {
    "id": "tgt5iulLBoct"
   },
   "source": [
    "## Caesar symmetric key cipher"
   ]
  },
  {
   "cell_type": "markdown",
   "metadata": {
    "id": "84lJ75meBocu"
   },
   "source": [
    "We first implements a simple cipher called the [Caesar cipher](https://en.wikipedia.org/wiki/Caesar_cipher)."
   ]
  },
  {
   "cell_type": "code",
   "execution_count": 1,
   "metadata": {
    "ExecuteTime": {
     "end_time": "2020-11-09T04:55:17.429753Z",
     "start_time": "2020-11-09T04:55:17.423043Z"
    },
    "execution": {
     "iopub.execute_input": "2020-11-18T09:35:24.896010Z",
     "iopub.status.busy": "2020-11-18T09:35:24.895011Z",
     "iopub.status.idle": "2020-11-18T09:35:24.933024Z",
     "shell.execute_reply": "2020-11-18T09:35:24.929009Z",
     "shell.execute_reply.started": "2020-11-18T09:35:24.896010Z"
    },
    "id": "ZnR2wQwdBocv",
    "outputId": "ed847fd1-e9ee-48f8-e994-3f8cdff3b640"
   },
   "outputs": [
    {
     "data": {
      "text/html": [
       "<iframe width=\"912\" height=\"513\" src=\"https://www.youtube.com/embed/sMOZf4GN3oc\" frameborder=\"0\" allow=\"accelerometer; autoplay; clipboard-write; encrypted-media; gyroscope; picture-in-picture\" allowfullscreen></iframe>\n"
      ],
      "text/plain": [
       "<IPython.core.display.HTML object>"
      ]
     },
     "metadata": {},
     "output_type": "display_data"
    }
   ],
   "source": [
    "%%html\n",
    "<iframe width=\"912\" height=\"513\" src=\"https://www.youtube.com/embed/sMOZf4GN3oc\" frameborder=\"0\" allow=\"accelerometer; autoplay; clipboard-write; encrypted-media; gyroscope; picture-in-picture\" allowfullscreen></iframe>"
   ]
  },
  {
   "cell_type": "markdown",
   "metadata": {
    "id": "DgtupqOSBoc-"
   },
   "source": [
    "### Encrypt/decrypt a character"
   ]
  },
  {
   "cell_type": "markdown",
   "metadata": {
    "id": "6xMTEA8BBodA"
   },
   "source": [
    "**How to encrypt a character?**"
   ]
  },
  {
   "cell_type": "markdown",
   "metadata": {
    "id": "MyInXYxQBodB"
   },
   "source": [
    "The following code encrypts a character `char` using a non-negative integer `key`."
   ]
  },
  {
   "cell_type": "code",
   "execution_count": 2,
   "metadata": {
    "ExecuteTime": {
     "end_time": "2020-11-09T04:49:05.851633Z",
     "start_time": "2020-11-09T04:49:05.843866Z"
    },
    "code_folding": [],
    "execution": {
     "iopub.execute_input": "2020-11-18T09:35:24.938040Z",
     "iopub.status.busy": "2020-11-18T09:35:24.937028Z",
     "iopub.status.idle": "2020-11-18T09:35:24.956026Z",
     "shell.execute_reply": "2020-11-18T09:35:24.953031Z",
     "shell.execute_reply.started": "2020-11-18T09:35:24.938040Z"
    },
    "executionInfo": {
     "elapsed": 1680,
     "status": "ok",
     "timestamp": 1605596868295,
     "user": {
      "displayName": "Fiaz Idris",
      "photoUrl": "https://lh3.googleusercontent.com/a-/AOh14Gjh3msgXrgoiFgjjbTUlBSrpBtJZSaHJ6g3pGgAsRg=s64",
      "userId": "06053391564744853671"
     },
     "user_tz": -420
    },
    "id": "25qClpD6BodD"
   },
   "outputs": [],
   "source": [
    "cc_n = 1114112\n",
    "\n",
    "\n",
    "def cc_encrypt_character(char, key):\n",
    "    '''\n",
    "    Return the encryption of a character by an integer key using Caesar cipher.\n",
    "    \n",
    "    Parameters\n",
    "    ----------\n",
    "    char (str): a unicode (UTF-8) character to be encrypted.\n",
    "    key (int): secret key to encrypt char.\n",
    "    '''\n",
    "    char_code = ord(char)\n",
    "    shifted_char_code = (char_code + key) % cc_n\n",
    "    encrypted_char = chr(shifted_char_code)\n",
    "    return encrypted_char"
   ]
  },
  {
   "cell_type": "markdown",
   "metadata": {
    "id": "TLjWrBNkBodK"
   },
   "source": [
    "For example, to encrypt the letter `'A'` using a secret key `5`:"
   ]
  },
  {
   "cell_type": "code",
   "execution_count": 3,
   "metadata": {
    "ExecuteTime": {
     "end_time": "2020-11-09T04:49:05.938296Z",
     "start_time": "2020-11-09T04:49:05.931222Z"
    },
    "colab": {
     "base_uri": "https://localhost:8080/",
     "height": 35
    },
    "execution": {
     "iopub.execute_input": "2020-11-18T09:35:24.963026Z",
     "iopub.status.busy": "2020-11-18T09:35:24.962029Z",
     "iopub.status.idle": "2020-11-18T09:35:24.994069Z",
     "shell.execute_reply": "2020-11-18T09:35:24.991017Z",
     "shell.execute_reply.started": "2020-11-18T09:35:24.963026Z"
    },
    "executionInfo": {
     "elapsed": 765,
     "status": "ok",
     "timestamp": 1605599333585,
     "user": {
      "displayName": "Fiaz Idris",
      "photoUrl": "https://lh3.googleusercontent.com/a-/AOh14Gjh3msgXrgoiFgjjbTUlBSrpBtJZSaHJ6g3pGgAsRg=s64",
      "userId": "06053391564744853671"
     },
     "user_tz": -420
    },
    "id": "IcR9g6poBodL",
    "outputId": "4b49b326-c38a-45e6-93a4-e78c0052acf6"
   },
   "outputs": [
    {
     "data": {
      "text/plain": [
       "'F'"
      ]
     },
     "execution_count": 3,
     "metadata": {},
     "output_type": "execute_result"
    }
   ],
   "source": [
    "cc_encrypt_character('A', 5)"
   ]
  },
  {
   "cell_type": "code",
   "execution_count": 5,
   "metadata": {
    "execution": {
     "iopub.execute_input": "2020-11-18T09:35:38.861255Z",
     "iopub.status.busy": "2020-11-18T09:35:38.860249Z",
     "iopub.status.idle": "2020-11-18T09:35:38.887248Z",
     "shell.execute_reply": "2020-11-18T09:35:38.886248Z",
     "shell.execute_reply.started": "2020-11-18T09:35:38.861255Z"
    }
   },
   "outputs": [
    {
     "name": "stdout",
     "output_type": "stream",
     "text": [
      "plain_char: A\n",
      "char_code: 65\n",
      "key: 5\n",
      "char_code_plus_key: 70\n",
      "shifted_char_code: 70\n",
      "encrypted_char: F\n",
      "A  encrypts to  F (key: 5 )\n"
     ]
    }
   ],
   "source": [
    "cc_n = 1114112\n",
    "# cc_n = 11141120 #ValueError: chr() arg not in range(0x110000) which is equal to 1114112\n",
    "\n",
    "key = 5\n",
    "\n",
    "\n",
    "plain_char = 'A'\n",
    "print('plain_char:', plain_char)\n",
    "\n",
    "\n",
    "char_code = ord(plain_char)\n",
    "print('char_code:', char_code)\n",
    "\n",
    "\n",
    "print('key:', key)\n",
    "\n",
    "char_code_plus_key = (char_code + key)\n",
    "print('char_code_plus_key:', char_code_plus_key)\n",
    "\n",
    "shifted_char_code = (char_code + key) % cc_n\n",
    "print('shifted_char_code:', shifted_char_code)\n",
    "\n",
    "encrypted_char = chr(shifted_char_code)\n",
    "print('encrypted_char:', encrypted_char)\n",
    "\n",
    "print(plain_char, ' encrypts to ', encrypted_char, '(key:', key, ')')\n",
    "\n"
   ]
  },
  {
   "cell_type": "markdown",
   "metadata": {
    "id": "H6AWa449BodU"
   },
   "source": [
    "The character `'A'` is encrypted to the character `'F'` as follows:\n",
    "\n",
    "1. `ord(char)` return the integer `65` that is the code point (integer representation) of the unicode of `'A'`. \n",
    "2. `(char_code + key) % cc_n` cyclic shifts the code by the key `5`.\n",
    "3. `chr(shifted_char_code)` converts the shifted code back to a character, which is `'F'`.\n",
    "\n",
    "| Encryption                      |     |       |     |     |     |     |     |     |\n",
    "| ------------------------------- | --- | ----- | --- | --- | --- | --- | --- | --- |\n",
    "| `char`                          | ... | **A** | B   | C   | D   | E   | F   | ... |\n",
    "| `ord(char)`                     | ... | **65**| 66  | 67  | 68  | 69  | 70  | ... |\n",
    "| `(ord(char) + key) % cc_n`      | ... | **70**| 71  | 72  | 73  | 74  | 75  | ... |\n",
    "| `(chr(ord(char) + key) % cc_n)` | ... | **F** | G   | H   | I   | J   | K   | ... |"
   ]
  },
  {
   "cell_type": "markdown",
   "metadata": {
    "id": "AOfhwTFRBodW"
   },
   "source": [
    "You may learn more about `ord` and `chr` from their docstrings:"
   ]
  },
  {
   "cell_type": "code",
   "execution_count": 6,
   "metadata": {
    "ExecuteTime": {
     "end_time": "2020-11-09T04:49:06.148754Z",
     "start_time": "2020-11-09T04:49:06.138199Z"
    },
    "colab": {
     "base_uri": "https://localhost:8080/"
    },
    "execution": {
     "iopub.execute_input": "2020-11-18T09:35:38.892251Z",
     "iopub.status.busy": "2020-11-18T09:35:38.891249Z",
     "iopub.status.idle": "2020-11-18T09:35:38.904260Z",
     "shell.execute_reply": "2020-11-18T09:35:38.903261Z",
     "shell.execute_reply.started": "2020-11-18T09:35:38.892251Z"
    },
    "executionInfo": {
     "elapsed": 639,
     "status": "ok",
     "timestamp": 1605596955848,
     "user": {
      "displayName": "Fiaz Idris",
      "photoUrl": "https://lh3.googleusercontent.com/a-/AOh14Gjh3msgXrgoiFgjjbTUlBSrpBtJZSaHJ6g3pGgAsRg=s64",
      "userId": "06053391564744853671"
     },
     "user_tz": -420
    },
    "id": "p08M1L_bBodY",
    "outputId": "e7f6956c-072c-443c-dabd-a4c530b4ac6f"
   },
   "outputs": [
    {
     "name": "stdout",
     "output_type": "stream",
     "text": [
      "Help on built-in function ord in module builtins:\n",
      "\n",
      "ord(c, /)\n",
      "    Return the Unicode code point for a one-character string.\n",
      "\n",
      "Help on built-in function chr in module builtins:\n",
      "\n",
      "chr(i, /)\n",
      "    Return a Unicode string of one character with ordinal i; 0 <= i <= 0x10ffff.\n",
      "\n"
     ]
    }
   ],
   "source": [
    "help(ord)\n",
    "help(chr)"
   ]
  },
  {
   "cell_type": "markdown",
   "metadata": {
    "id": "6qnHKLuZBodg"
   },
   "source": [
    "**How to decrypt a character?**"
   ]
  },
  {
   "cell_type": "markdown",
   "metadata": {
    "id": "30NZ1TJtBodh"
   },
   "source": [
    "Mathematically, we define the encryption and decryption of a character for Caesar cipher as\n",
    "$$ \\begin{aligned} E(x,k) &:= x + k \\mod n & \\text{(encryption)} \\\\\n",
    "D(x,k) &:= x - k \\mod n & \\text{(decryption),} \\end{aligned}\n",
    "$$\n",
    "where $x$ is the character code in $\\{0,\\dots,n\\}$ and $k$ is the secret key. `mod` operator above is the modulo operator. In Mathematics, it has a lower precedence than addition and multiplication and is typeset with an extra space accordingly."
   ]
  },
  {
   "cell_type": "markdown",
   "metadata": {
    "id": "uGD1Dw90Bodi"
   },
   "source": [
    "The encryption and decryption satisfies the recoverability condition\n",
    "$$ D(E(x,k),k) = x $$\n",
    "so two people with a common secret key can encrypt and decrypt a character, but others not knowing the key cannot. This is a defining property of a [symmetric cipher](https://en.wikipedia.org/wiki/Symmetric-key_algorithm).  "
   ]
  },
  {
   "cell_type": "markdown",
   "metadata": {
    "id": "IV9jbBdFBodk"
   },
   "source": [
    "The following code decrypts a character using a key."
   ]
  },
  {
   "cell_type": "code",
   "execution_count": 7,
   "metadata": {
    "ExecuteTime": {
     "end_time": "2020-11-09T04:49:06.467913Z",
     "start_time": "2020-11-09T04:49:06.461406Z"
    },
    "execution": {
     "iopub.execute_input": "2020-11-18T09:35:38.908260Z",
     "iopub.status.busy": "2020-11-18T09:35:38.907251Z",
     "iopub.status.idle": "2020-11-18T09:35:38.916260Z",
     "shell.execute_reply": "2020-11-18T09:35:38.915268Z",
     "shell.execute_reply.started": "2020-11-18T09:35:38.908260Z"
    },
    "executionInfo": {
     "elapsed": 636,
     "status": "ok",
     "timestamp": 1605596964878,
     "user": {
      "displayName": "Fiaz Idris",
      "photoUrl": "https://lh3.googleusercontent.com/a-/AOh14Gjh3msgXrgoiFgjjbTUlBSrpBtJZSaHJ6g3pGgAsRg=s64",
      "userId": "06053391564744853671"
     },
     "user_tz": -420
    },
    "id": "oe9dhdauBodm"
   },
   "outputs": [],
   "source": [
    "def cc_decrypt_character(char, key):\n",
    "    '''\n",
    "    Return the decryption of a character by the key using Caesar cipher.\n",
    "    \n",
    "    Parameters\n",
    "    ----------\n",
    "    char (str): a unicode (UTF-8) character to be decrypted.\n",
    "    key (int): secret key to decrypt char.\n",
    "    '''\n",
    "    char_code = ord(char)\n",
    "    shifted_char_code = (char_code - key) % cc_n\n",
    "    decrypted_char = chr(shifted_char_code)\n",
    "    return decrypted_char"
   ]
  },
  {
   "cell_type": "markdown",
   "metadata": {
    "id": "UoemoOWSBodr"
   },
   "source": [
    "For instance, to decrypt the letter `'F'` by the secret key `5`:"
   ]
  },
  {
   "cell_type": "code",
   "execution_count": 8,
   "metadata": {
    "ExecuteTime": {
     "end_time": "2020-11-09T04:49:06.540599Z",
     "start_time": "2020-11-09T04:49:06.533135Z"
    },
    "colab": {
     "base_uri": "https://localhost:8080/",
     "height": 35
    },
    "execution": {
     "iopub.execute_input": "2020-11-18T09:35:38.919256Z",
     "iopub.status.busy": "2020-11-18T09:35:38.918264Z",
     "iopub.status.idle": "2020-11-18T09:35:38.929256Z",
     "shell.execute_reply": "2020-11-18T09:35:38.928328Z",
     "shell.execute_reply.started": "2020-11-18T09:35:38.918264Z"
    },
    "executionInfo": {
     "elapsed": 663,
     "status": "ok",
     "timestamp": 1605596968185,
     "user": {
      "displayName": "Fiaz Idris",
      "photoUrl": "https://lh3.googleusercontent.com/a-/AOh14Gjh3msgXrgoiFgjjbTUlBSrpBtJZSaHJ6g3pGgAsRg=s64",
      "userId": "06053391564744853671"
     },
     "user_tz": -420
    },
    "id": "8cjPj21TBodt",
    "outputId": "35164819-f638-4264-d758-65c7b24759a9"
   },
   "outputs": [
    {
     "data": {
      "text/plain": [
       "'A'"
      ]
     },
     "execution_count": 8,
     "metadata": {},
     "output_type": "execute_result"
    }
   ],
   "source": [
    "cc_decrypt_character('F',5)"
   ]
  },
  {
   "cell_type": "code",
   "execution_count": 9,
   "metadata": {
    "execution": {
     "iopub.execute_input": "2020-11-18T09:35:38.931257Z",
     "iopub.status.busy": "2020-11-18T09:35:38.931257Z",
     "iopub.status.idle": "2020-11-18T09:35:38.942259Z",
     "shell.execute_reply": "2020-11-18T09:35:38.941262Z",
     "shell.execute_reply.started": "2020-11-18T09:35:38.931257Z"
    }
   },
   "outputs": [
    {
     "name": "stdout",
     "output_type": "stream",
     "text": [
      "ciphertext: F\n",
      "char_code: 70\n",
      "key: 5\n",
      "char_code_minus_key: 65\n",
      "shifted_char_code: 65\n",
      "encrypted_char: A\n",
      "F  decrypts to  A (key: 5 )\n"
     ]
    }
   ],
   "source": [
    "cc_n = 1114112\n",
    "# cc_n = 11141120 #ValueError: chr() arg not in range(0x110000) which is equal to 1114112\n",
    "\n",
    "key = 5\n",
    "\n",
    "\n",
    "ciphertext = 'F'\n",
    "print('ciphertext:', ciphertext)\n",
    "\n",
    "\n",
    "char_code = ord(ciphertext)\n",
    "print('char_code:', char_code)\n",
    "\n",
    "\n",
    "print('key:', key)\n",
    "\n",
    "char_code_minus_key = (char_code - key)\n",
    "print('char_code_minus_key:', char_code_minus_key)\n",
    "\n",
    "shifted_char_code = (char_code - key) % cc_n\n",
    "print('shifted_char_code:', shifted_char_code)\n",
    "\n",
    "decrypted_char = chr(shifted_char_code)\n",
    "print('encrypted_char:', decrypted_char)\n",
    "\n",
    "print(ciphertext, ' decrypts to ', decrypted_char, '(key:', key, ')')"
   ]
  },
  {
   "cell_type": "markdown",
   "metadata": {
    "id": "KjTrfZOIBodz"
   },
   "source": [
    "The character `'F'` is decrypted back to `'A'` because\n",
    "`(char_code - key) % cc_n` reverse cyclic shifts the code by the key `5`.\n",
    "\n",
    "| Encryption                      |     |       |     |     |     |     |     |     | Decryption                      |\n",
    "| ------------------------------- | --- | ----- | --- | --- | --- | --- | --- | --- | ------------------------------- |\n",
    "| `char`                          | ... | **A** | B   | C   | D   | E   | F   | ... | `(chr(ord(char) - key) % cc_n)` |\n",
    "| `ord(char)`                     | ... | **65**| 66  | 67  | 68  | 69  | 70  | ... | `(ord(char) - key) % cc_n`      |\n",
    "| `(ord(char) + key) % cc_n`      | ... | **70**| 71  | 72  | 73  | 74  | 75  | ... | `ord(char)`                     |\n",
    "| `(chr(ord(char) + key) % cc_n)` | ... | **F** | G   | H   | I   | J   | K   | ... | `char`                          |"
   ]
  },
  {
   "cell_type": "markdown",
   "metadata": {
    "id": "v6OHoZnqBod1"
   },
   "source": [
    "**Exercise** Why did we set `cc_n = 1114112`? Explain whether the recoverability property may fail if we set `cc_n` to a bigger number or remove `% cc_n` for both `cc_encrypt_character` and `cc_decrypt_character`."
   ]
  },
  {
   "cell_type": "markdown",
   "metadata": {
    "deletable": false,
    "id": "SGTVs_vMBod3",
    "nbgrader": {
     "cell_type": "markdown",
     "checksum": "e73c497e70f1a86fe0ead6483b3a7d17",
     "grade": true,
     "grade_id": "modulo",
     "locked": false,
     "points": 1,
     "schema_version": 3,
     "solution": true,
     "task": false
    }
   },
   "source": [
    "**answer:**  cc_n is set to 1114112 because that is the largest character that can be coded with Unicode. No matter how large the key is, we want to keep the encrypted character with in the unicode range by using the modulo 1114112.  \n",
    "\n",
    "**i learnt this after hard work**"
   ]
  },
  {
   "cell_type": "markdown",
   "metadata": {
    "id": "V59VVbe7Bod4"
   },
   "source": [
    "### Encrypt a plaintext and decrypt a ciphertext"
   ]
  },
  {
   "cell_type": "markdown",
   "metadata": {
    "id": "XU7I0gNcBod5"
   },
   "source": [
    "Of course, it is more interesting to encrypt a string instead of a character. The following code implements this in one line."
   ]
  },
  {
   "cell_type": "code",
   "execution_count": 10,
   "metadata": {
    "ExecuteTime": {
     "end_time": "2020-11-09T04:49:06.914928Z",
     "start_time": "2020-11-09T04:49:06.908781Z"
    },
    "execution": {
     "iopub.execute_input": "2020-11-18T09:35:38.944252Z",
     "iopub.status.busy": "2020-11-18T09:35:38.944252Z",
     "iopub.status.idle": "2020-11-18T09:35:38.952257Z",
     "shell.execute_reply": "2020-11-18T09:35:38.951262Z",
     "shell.execute_reply.started": "2020-11-18T09:35:38.944252Z"
    },
    "executionInfo": {
     "elapsed": 634,
     "status": "ok",
     "timestamp": 1605597065886,
     "user": {
      "displayName": "Fiaz Idris",
      "photoUrl": "https://lh3.googleusercontent.com/a-/AOh14Gjh3msgXrgoiFgjjbTUlBSrpBtJZSaHJ6g3pGgAsRg=s64",
      "userId": "06053391564744853671"
     },
     "user_tz": -420
    },
    "id": "HGPclXBLBod6"
   },
   "outputs": [],
   "source": [
    "def cc_encrypt(plaintext, key):\n",
    "    '''\n",
    "    Return the ciphertext of a plaintext by the key using Caesar cipher.\n",
    "    \n",
    "    Parameters\n",
    "    ----------\n",
    "    plaintext (str): a unicode (UTF-8) message in to be encrypted.\n",
    "    key (int): secret key to encrypt plaintext.\n",
    "    '''\n",
    "    return ''.join([chr((ord(char) + key) % cc_n) for char in plaintext])"
   ]
  },
  {
   "cell_type": "markdown",
   "metadata": {
    "id": "WrkgHAOSBod_"
   },
   "source": [
    "The above function encrypts a message, referred to as the *plaintext*, by replacing each character with its encryption.  \n",
    "This is referred to as a [*substitution cipher*](https://en.wikipedia.org/wiki/Substitution_cipher)."
   ]
  },
  {
   "cell_type": "markdown",
   "metadata": {
    "id": "y5bFBJMwBoeA"
   },
   "source": [
    "**Exercise** Define a function `cc_decrypt` that\n",
    "- takes a string `ciphertext` and an integer `key`, and\n",
    "- returns the plaintext that encrypts to `ciphertext` by the key using Caesar cipher."
   ]
  },
  {
   "cell_type": "code",
   "execution_count": 11,
   "metadata": {
    "ExecuteTime": {
     "end_time": "2020-11-09T04:49:07.109528Z",
     "start_time": "2020-11-09T04:49:07.103739Z"
    },
    "deletable": false,
    "execution": {
     "iopub.execute_input": "2020-11-18T09:35:38.954259Z",
     "iopub.status.busy": "2020-11-18T09:35:38.954259Z",
     "iopub.status.idle": "2020-11-18T09:35:38.965278Z",
     "shell.execute_reply": "2020-11-18T09:35:38.963270Z",
     "shell.execute_reply.started": "2020-11-18T09:35:38.954259Z"
    },
    "executionInfo": {
     "elapsed": 648,
     "status": "ok",
     "timestamp": 1605597070450,
     "user": {
      "displayName": "Fiaz Idris",
      "photoUrl": "https://lh3.googleusercontent.com/a-/AOh14Gjh3msgXrgoiFgjjbTUlBSrpBtJZSaHJ6g3pGgAsRg=s64",
      "userId": "06053391564744853671"
     },
     "user_tz": -420
    },
    "id": "c-wuS_UhBoeB",
    "nbgrader": {
     "cell_type": "code",
     "checksum": "d09d1366e8a92562ab14937d0195d974",
     "grade": false,
     "grade_id": "cc_decrypt",
     "locked": false,
     "schema_version": 3,
     "solution": true,
     "task": false
    }
   },
   "outputs": [],
   "source": [
    "def cc_decrypt(ciphertext, key):\n",
    "    '''\n",
    "    Return the plaintext that encrypts to ciphertext by the key using Caesar cipher.\n",
    "    \n",
    "    Parameters\n",
    "    ----------\n",
    "    ciphertext (str): message to be decrypted.\n",
    "    key (int): secret key to decrypt the ciphertext.\n",
    "    '''\n",
    "    return ''.join([chr((ord(char) - key) % cc_n) for char in ciphertext])"
   ]
  },
  {
   "cell_type": "code",
   "execution_count": 12,
   "metadata": {
    "ExecuteTime": {
     "end_time": "2020-11-09T04:49:07.123365Z",
     "start_time": "2020-11-09T04:49:07.112107Z"
    },
    "code_folding": [
     0
    ],
    "deletable": false,
    "editable": false,
    "execution": {
     "iopub.execute_input": "2020-11-18T09:35:38.972266Z",
     "iopub.status.busy": "2020-11-18T09:35:38.972266Z",
     "iopub.status.idle": "2020-11-18T09:35:38.981257Z",
     "shell.execute_reply": "2020-11-18T09:35:38.979260Z",
     "shell.execute_reply.started": "2020-11-18T09:35:38.972266Z"
    },
    "id": "edRpzttZBoeH",
    "nbgrader": {
     "cell_type": "code",
     "checksum": "3bdf0e0e2e2ab8544e072ed122ee980b",
     "grade": true,
     "grade_id": "test-cc_decrypt",
     "locked": true,
     "points": 1,
     "schema_version": 3,
     "solution": false,
     "task": false
    }
   },
   "outputs": [],
   "source": [
    "# tests\n",
    "assert cc_decrypt(r'bcdefghijklmnopqrstuvwxyz{',1) == 'abcdefghijklmnopqrstuvwxyz'\n",
    "assert cc_decrypt(r'Mjqqt1%\\twqi&',5) == 'Hello, World!'"
   ]
  },
  {
   "cell_type": "markdown",
   "metadata": {},
   "source": [
    "#### My Tests"
   ]
  },
  {
   "cell_type": "code",
   "execution_count": 13,
   "metadata": {
    "execution": {
     "iopub.execute_input": "2020-11-18T09:35:38.986304Z",
     "iopub.status.busy": "2020-11-18T09:35:38.985262Z",
     "iopub.status.idle": "2020-11-18T09:35:39.003290Z",
     "shell.execute_reply": "2020-11-18T09:35:39.000277Z",
     "shell.execute_reply.started": "2020-11-18T09:35:38.986304Z"
    }
   },
   "outputs": [
    {
     "name": "stdout",
     "output_type": "stream",
     "text": [
      "Ju!jt!b!gvdljoh!xbtuf!pg!ujnf!gps!qfpqmf!xjuipvu!boz!jnbhjobujpo\n"
     ]
    }
   ],
   "source": [
    "print(cc_encrypt('It is a fucking waste of time for people without any imagination', 1))"
   ]
  },
  {
   "cell_type": "code",
   "execution_count": 14,
   "metadata": {
    "execution": {
     "iopub.execute_input": "2020-11-18T09:35:39.007283Z",
     "iopub.status.busy": "2020-11-18T09:35:39.006270Z",
     "iopub.status.idle": "2020-11-18T09:35:39.022274Z",
     "shell.execute_reply": "2020-11-18T09:35:39.020271Z",
     "shell.execute_reply.started": "2020-11-18T09:35:39.007283Z"
    }
   },
   "outputs": [
    {
     "name": "stdout",
     "output_type": "stream",
     "text": [
      "J!tff!tpnfuijoh!jo!zpv-!cvu!j!epo(u!lopx!xibu!ju!jt\n"
     ]
    }
   ],
   "source": [
    "print(cc_encrypt('I see something in you, but i don\\'t know what it is', 1))"
   ]
  },
  {
   "cell_type": "code",
   "execution_count": 15,
   "metadata": {
    "colab": {
     "base_uri": "https://localhost:8080/"
    },
    "execution": {
     "iopub.execute_input": "2020-11-18T09:35:39.026277Z",
     "iopub.status.busy": "2020-11-18T09:35:39.025278Z",
     "iopub.status.idle": "2020-11-18T09:35:39.043278Z",
     "shell.execute_reply": "2020-11-18T09:35:39.040276Z",
     "shell.execute_reply.started": "2020-11-18T09:35:39.026277Z"
    },
    "executionInfo": {
     "elapsed": 612,
     "status": "ok",
     "timestamp": 1605597126110,
     "user": {
      "displayName": "Fiaz Idris",
      "photoUrl": "https://lh3.googleusercontent.com/a-/AOh14Gjh3msgXrgoiFgjjbTUlBSrpBtJZSaHJ6g3pGgAsRg=s64",
      "userId": "06053391564744853671"
     },
     "user_tz": -420
    },
    "id": "oqAKnzfgCynz",
    "outputId": "5bf5c050-72aa-4ee2-bcbc-c1923c540d90"
   },
   "outputs": [
    {
     "name": "stdout",
     "output_type": "stream",
     "text": [
      "FGHIJKL𩪇ഡ\n",
      "Gjb{!Jesjt\n",
      "N}ks(aw})\n",
      "O~lt)bx~*\n"
     ]
    }
   ],
   "source": [
    "print(cc_encrypt('ABCDEFG𩪂ജ', 5))\n",
    "print(cc_encrypt('Fiaz Idris', 1))\n",
    "print(cc_encrypt('Fuck You!', 8))\n",
    "print(cc_encrypt('Fuck You!', 9))\n"
   ]
  },
  {
   "cell_type": "code",
   "execution_count": 16,
   "metadata": {
    "execution": {
     "iopub.execute_input": "2020-11-18T09:35:39.048273Z",
     "iopub.status.busy": "2020-11-18T09:35:39.047265Z",
     "iopub.status.idle": "2020-11-18T09:35:39.064295Z",
     "shell.execute_reply": "2020-11-18T09:35:39.061286Z",
     "shell.execute_reply.started": "2020-11-18T09:35:39.048273Z"
    }
   },
   "outputs": [
    {
     "name": "stdout",
     "output_type": "stream",
     "text": [
      "ABCDEFG𩪂ജ\n",
      "Fiaz Idris\n",
      "Fuck You!\n",
      "Fuck You!\n"
     ]
    }
   ],
   "source": [
    "print(cc_decrypt('FGHIJKL𩪇ഡ', 5))\n",
    "print(cc_decrypt('Gjb{!Jesjt', 1))\n",
    "print(cc_decrypt('N}ks(aw})', 8))\n",
    "print(cc_decrypt('O~lt)bx~*', 9))"
   ]
  },
  {
   "cell_type": "markdown",
   "metadata": {
    "id": "u_OT-sWqBoeM"
   },
   "source": [
    "## Brute-force attack"
   ]
  },
  {
   "cell_type": "markdown",
   "metadata": {
    "id": "QaepuGl5BoeO"
   },
   "source": [
    "### Create an English dictionary"
   ]
  },
  {
   "cell_type": "markdown",
   "metadata": {
    "id": "A9oQvxI2BoeP"
   },
   "source": [
    "You will launch a brute-force attack to guess the key that encrypts an English text. The idea is simple: \n",
    "\n",
    "- You try decrypting the ciphertext with different keys, and \n",
    "- see which of the resulting plaintexts make most sense (most english-like)."
   ]
  },
  {
   "cell_type": "markdown",
   "metadata": {
    "id": "FFpLW3LSBoeS"
   },
   "source": [
    "To check whether a plaintext is English-like, we need to have a list of English words. One way is to type them out\n",
    "but this is tedious. Alternatively, we can obtain the list from the *Natural Language Toolkit (NLTK)*: "
   ]
  },
  {
   "cell_type": "code",
   "execution_count": 17,
   "metadata": {
    "ExecuteTime": {
     "end_time": "2020-11-09T04:49:08.206272Z",
     "start_time": "2020-11-09T04:49:07.437113Z"
    },
    "colab": {
     "base_uri": "https://localhost:8080/"
    },
    "execution": {
     "iopub.execute_input": "2020-11-18T09:35:39.071283Z",
     "iopub.status.busy": "2020-11-18T09:35:39.069278Z",
     "iopub.status.idle": "2020-11-18T09:35:44.916787Z",
     "shell.execute_reply": "2020-11-18T09:35:44.915787Z",
     "shell.execute_reply.started": "2020-11-18T09:35:39.070278Z"
    },
    "executionInfo": {
     "elapsed": 2730,
     "status": "ok",
     "timestamp": 1605597170310,
     "user": {
      "displayName": "Fiaz Idris",
      "photoUrl": "https://lh3.googleusercontent.com/a-/AOh14Gjh3msgXrgoiFgjjbTUlBSrpBtJZSaHJ6g3pGgAsRg=s64",
      "userId": "06053391564744853671"
     },
     "user_tz": -420
    },
    "id": "di2U4A2SBoeT",
    "outputId": "f668c1a3-8ec4-458e-f7cb-0261ba8bb3d5"
   },
   "outputs": [
    {
     "name": "stderr",
     "output_type": "stream",
     "text": [
      "[nltk_data] Downloading package words to\n",
      "[nltk_data]     C:\\Users\\jupyter_user\\AppData\\Roaming\\nltk_data...\n",
      "[nltk_data]   Package words is already up-to-date!\n"
     ]
    }
   ],
   "source": [
    "import nltk\n",
    "nltk.download('words')\n",
    "from nltk.corpus import words"
   ]
  },
  {
   "cell_type": "markdown",
   "metadata": {
    "id": "l1tiNKBTBoeb"
   },
   "source": [
    "`words.words()` returns a list of words. We can check whether a string is in the list using the operator `in`. "
   ]
  },
  {
   "cell_type": "code",
   "execution_count": 18,
   "metadata": {
    "execution": {
     "iopub.execute_input": "2020-11-18T09:35:44.918787Z",
     "iopub.status.busy": "2020-11-18T09:35:44.917789Z",
     "iopub.status.idle": "2020-11-18T09:35:45.068804Z",
     "shell.execute_reply": "2020-11-18T09:35:45.067804Z",
     "shell.execute_reply.started": "2020-11-18T09:35:44.918787Z"
    }
   },
   "outputs": [
    {
     "data": {
      "text/plain": [
       "list"
      ]
     },
     "execution_count": 18,
     "metadata": {},
     "output_type": "execute_result"
    }
   ],
   "source": [
    "type(words.words())"
   ]
  },
  {
   "cell_type": "code",
   "execution_count": 19,
   "metadata": {
    "execution": {
     "iopub.execute_input": "2020-11-18T09:35:45.070960Z",
     "iopub.status.busy": "2020-11-18T09:35:45.069812Z",
     "iopub.status.idle": "2020-11-18T09:35:45.208810Z",
     "shell.execute_reply": "2020-11-18T09:35:45.207810Z",
     "shell.execute_reply.started": "2020-11-18T09:35:45.070960Z"
    }
   },
   "outputs": [
    {
     "data": {
      "text/plain": [
       "236736"
      ]
     },
     "execution_count": 19,
     "metadata": {},
     "output_type": "execute_result"
    }
   ],
   "source": [
    "len(words.words())"
   ]
  },
  {
   "cell_type": "code",
   "execution_count": 20,
   "metadata": {
    "execution": {
     "iopub.execute_input": "2020-11-18T09:35:45.210811Z",
     "iopub.status.busy": "2020-11-18T09:35:45.209810Z",
     "iopub.status.idle": "2020-11-18T09:35:46.421924Z",
     "shell.execute_reply": "2020-11-18T09:35:46.420944Z",
     "shell.execute_reply.started": "2020-11-18T09:35:45.210811Z"
    }
   },
   "outputs": [
    {
     "data": {
      "text/html": [
       "<div>\n",
       "<style scoped>\n",
       "    .dataframe tbody tr th:only-of-type {\n",
       "        vertical-align: middle;\n",
       "    }\n",
       "\n",
       "    .dataframe tbody tr th {\n",
       "        vertical-align: top;\n",
       "    }\n",
       "\n",
       "    .dataframe thead th {\n",
       "        text-align: right;\n",
       "    }\n",
       "</style>\n",
       "<table border=\"1\" class=\"dataframe\">\n",
       "  <thead>\n",
       "    <tr style=\"text-align: right;\">\n",
       "      <th></th>\n",
       "      <th>0</th>\n",
       "    </tr>\n",
       "  </thead>\n",
       "  <tbody>\n",
       "    <tr>\n",
       "      <th>0</th>\n",
       "      <td>A</td>\n",
       "    </tr>\n",
       "    <tr>\n",
       "      <th>1</th>\n",
       "      <td>a</td>\n",
       "    </tr>\n",
       "    <tr>\n",
       "      <th>2</th>\n",
       "      <td>aa</td>\n",
       "    </tr>\n",
       "    <tr>\n",
       "      <th>3</th>\n",
       "      <td>aal</td>\n",
       "    </tr>\n",
       "    <tr>\n",
       "      <th>4</th>\n",
       "      <td>aalii</td>\n",
       "    </tr>\n",
       "    <tr>\n",
       "      <th>5</th>\n",
       "      <td>aam</td>\n",
       "    </tr>\n",
       "    <tr>\n",
       "      <th>6</th>\n",
       "      <td>Aani</td>\n",
       "    </tr>\n",
       "    <tr>\n",
       "      <th>7</th>\n",
       "      <td>aardvark</td>\n",
       "    </tr>\n",
       "    <tr>\n",
       "      <th>8</th>\n",
       "      <td>aardwolf</td>\n",
       "    </tr>\n",
       "    <tr>\n",
       "      <th>9</th>\n",
       "      <td>Aaron</td>\n",
       "    </tr>\n",
       "    <tr>\n",
       "      <th>10</th>\n",
       "      <td>Aaronic</td>\n",
       "    </tr>\n",
       "    <tr>\n",
       "      <th>11</th>\n",
       "      <td>Aaronical</td>\n",
       "    </tr>\n",
       "    <tr>\n",
       "      <th>12</th>\n",
       "      <td>Aaronite</td>\n",
       "    </tr>\n",
       "    <tr>\n",
       "      <th>13</th>\n",
       "      <td>Aaronitic</td>\n",
       "    </tr>\n",
       "    <tr>\n",
       "      <th>14</th>\n",
       "      <td>Aaru</td>\n",
       "    </tr>\n",
       "    <tr>\n",
       "      <th>15</th>\n",
       "      <td>Ab</td>\n",
       "    </tr>\n",
       "    <tr>\n",
       "      <th>16</th>\n",
       "      <td>aba</td>\n",
       "    </tr>\n",
       "    <tr>\n",
       "      <th>17</th>\n",
       "      <td>Ababdeh</td>\n",
       "    </tr>\n",
       "    <tr>\n",
       "      <th>18</th>\n",
       "      <td>Ababua</td>\n",
       "    </tr>\n",
       "    <tr>\n",
       "      <th>19</th>\n",
       "      <td>abac</td>\n",
       "    </tr>\n",
       "  </tbody>\n",
       "</table>\n",
       "</div>"
      ],
      "text/plain": [
       "            0\n",
       "0           A\n",
       "1           a\n",
       "2          aa\n",
       "3         aal\n",
       "4       aalii\n",
       "5         aam\n",
       "6        Aani\n",
       "7    aardvark\n",
       "8    aardwolf\n",
       "9       Aaron\n",
       "10    Aaronic\n",
       "11  Aaronical\n",
       "12   Aaronite\n",
       "13  Aaronitic\n",
       "14       Aaru\n",
       "15         Ab\n",
       "16        aba\n",
       "17    Ababdeh\n",
       "18     Ababua\n",
       "19       abac"
      ]
     },
     "execution_count": 20,
     "metadata": {},
     "output_type": "execute_result"
    }
   ],
   "source": [
    "import pandas as pd\n",
    "dfwords = pd.DataFrame(words.words())\n",
    "dfwords.head(20)"
   ]
  },
  {
   "cell_type": "code",
   "execution_count": 21,
   "metadata": {
    "execution": {
     "iopub.execute_input": "2020-11-18T09:35:46.423925Z",
     "iopub.status.busy": "2020-11-18T09:35:46.422919Z",
     "iopub.status.idle": "2020-11-18T09:35:46.445923Z",
     "shell.execute_reply": "2020-11-18T09:35:46.444924Z",
     "shell.execute_reply.started": "2020-11-18T09:35:46.423925Z"
    }
   },
   "outputs": [
    {
     "data": {
      "text/html": [
       "<div>\n",
       "<style scoped>\n",
       "    .dataframe tbody tr th:only-of-type {\n",
       "        vertical-align: middle;\n",
       "    }\n",
       "\n",
       "    .dataframe tbody tr th {\n",
       "        vertical-align: top;\n",
       "    }\n",
       "\n",
       "    .dataframe thead th {\n",
       "        text-align: right;\n",
       "    }\n",
       "</style>\n",
       "<table border=\"1\" class=\"dataframe\">\n",
       "  <thead>\n",
       "    <tr style=\"text-align: right;\">\n",
       "      <th></th>\n",
       "      <th>0</th>\n",
       "    </tr>\n",
       "  </thead>\n",
       "  <tbody>\n",
       "    <tr>\n",
       "      <th>96778</th>\n",
       "      <td>intersession</td>\n",
       "    </tr>\n",
       "    <tr>\n",
       "      <th>21776</th>\n",
       "      <td>bhoy</td>\n",
       "    </tr>\n",
       "    <tr>\n",
       "      <th>9480</th>\n",
       "      <td>antetemple</td>\n",
       "    </tr>\n",
       "    <tr>\n",
       "      <th>107172</th>\n",
       "      <td>lipothymial</td>\n",
       "    </tr>\n",
       "    <tr>\n",
       "      <th>158230</th>\n",
       "      <td>provincialization</td>\n",
       "    </tr>\n",
       "    <tr>\n",
       "      <th>34377</th>\n",
       "      <td>chevance</td>\n",
       "    </tr>\n",
       "    <tr>\n",
       "      <th>189280</th>\n",
       "      <td>stepaunt</td>\n",
       "    </tr>\n",
       "    <tr>\n",
       "      <th>80697</th>\n",
       "      <td>Guetare</td>\n",
       "    </tr>\n",
       "    <tr>\n",
       "      <th>41614</th>\n",
       "      <td>consensually</td>\n",
       "    </tr>\n",
       "    <tr>\n",
       "      <th>119814</th>\n",
       "      <td>mosser</td>\n",
       "    </tr>\n",
       "    <tr>\n",
       "      <th>76089</th>\n",
       "      <td>gelada</td>\n",
       "    </tr>\n",
       "    <tr>\n",
       "      <th>94827</th>\n",
       "      <td>injection</td>\n",
       "    </tr>\n",
       "    <tr>\n",
       "      <th>210700</th>\n",
       "      <td>unabundance</td>\n",
       "    </tr>\n",
       "    <tr>\n",
       "      <th>214919</th>\n",
       "      <td>undesignated</td>\n",
       "    </tr>\n",
       "    <tr>\n",
       "      <th>217858</th>\n",
       "      <td>unidextral</td>\n",
       "    </tr>\n",
       "    <tr>\n",
       "      <th>26688</th>\n",
       "      <td>bronchoscopy</td>\n",
       "    </tr>\n",
       "    <tr>\n",
       "      <th>158048</th>\n",
       "      <td>protostele</td>\n",
       "    </tr>\n",
       "    <tr>\n",
       "      <th>144344</th>\n",
       "      <td>pheasantry</td>\n",
       "    </tr>\n",
       "    <tr>\n",
       "      <th>117613</th>\n",
       "      <td>mistrustfulness</td>\n",
       "    </tr>\n",
       "    <tr>\n",
       "      <th>11907</th>\n",
       "      <td>appositionally</td>\n",
       "    </tr>\n",
       "  </tbody>\n",
       "</table>\n",
       "</div>"
      ],
      "text/plain": [
       "                        0\n",
       "96778        intersession\n",
       "21776                bhoy\n",
       "9480           antetemple\n",
       "107172        lipothymial\n",
       "158230  provincialization\n",
       "34377            chevance\n",
       "189280           stepaunt\n",
       "80697             Guetare\n",
       "41614        consensually\n",
       "119814             mosser\n",
       "76089              gelada\n",
       "94827           injection\n",
       "210700        unabundance\n",
       "214919       undesignated\n",
       "217858         unidextral\n",
       "26688        bronchoscopy\n",
       "158048         protostele\n",
       "144344         pheasantry\n",
       "117613    mistrustfulness\n",
       "11907      appositionally"
      ]
     },
     "execution_count": 21,
     "metadata": {},
     "output_type": "execute_result"
    }
   ],
   "source": [
    "dfwords.sample(20)"
   ]
  },
  {
   "cell_type": "code",
   "execution_count": 22,
   "metadata": {
    "execution": {
     "iopub.execute_input": "2020-11-18T09:35:46.447927Z",
     "iopub.status.busy": "2020-11-18T09:35:46.446920Z",
     "iopub.status.idle": "2020-11-18T09:35:46.561934Z",
     "shell.execute_reply": "2020-11-18T09:35:46.560937Z",
     "shell.execute_reply.started": "2020-11-18T09:35:46.447927Z"
    }
   },
   "outputs": [],
   "source": [
    "dfwords['lowerword'] = dfwords[0].str.lower()\n"
   ]
  },
  {
   "cell_type": "code",
   "execution_count": 23,
   "metadata": {
    "execution": {
     "iopub.execute_input": "2020-11-18T09:35:46.563943Z",
     "iopub.status.busy": "2020-11-18T09:35:46.562948Z",
     "iopub.status.idle": "2020-11-18T09:35:46.575955Z",
     "shell.execute_reply": "2020-11-18T09:35:46.574944Z",
     "shell.execute_reply.started": "2020-11-18T09:35:46.563943Z"
    }
   },
   "outputs": [
    {
     "data": {
      "text/html": [
       "<div>\n",
       "<style scoped>\n",
       "    .dataframe tbody tr th:only-of-type {\n",
       "        vertical-align: middle;\n",
       "    }\n",
       "\n",
       "    .dataframe tbody tr th {\n",
       "        vertical-align: top;\n",
       "    }\n",
       "\n",
       "    .dataframe thead th {\n",
       "        text-align: right;\n",
       "    }\n",
       "</style>\n",
       "<table border=\"1\" class=\"dataframe\">\n",
       "  <thead>\n",
       "    <tr style=\"text-align: right;\">\n",
       "      <th></th>\n",
       "      <th>0</th>\n",
       "      <th>lowerword</th>\n",
       "    </tr>\n",
       "  </thead>\n",
       "  <tbody>\n",
       "    <tr>\n",
       "      <th>236731</th>\n",
       "      <td>yellow</td>\n",
       "      <td>yellow</td>\n",
       "    </tr>\n",
       "    <tr>\n",
       "      <th>236732</th>\n",
       "      <td>yes</td>\n",
       "      <td>yes</td>\n",
       "    </tr>\n",
       "    <tr>\n",
       "      <th>236733</th>\n",
       "      <td>yesterday</td>\n",
       "      <td>yesterday</td>\n",
       "    </tr>\n",
       "    <tr>\n",
       "      <th>236734</th>\n",
       "      <td>you</td>\n",
       "      <td>you</td>\n",
       "    </tr>\n",
       "    <tr>\n",
       "      <th>236735</th>\n",
       "      <td>young</td>\n",
       "      <td>young</td>\n",
       "    </tr>\n",
       "  </tbody>\n",
       "</table>\n",
       "</div>"
      ],
      "text/plain": [
       "                0  lowerword\n",
       "236731     yellow     yellow\n",
       "236732        yes        yes\n",
       "236733  yesterday  yesterday\n",
       "236734        you        you\n",
       "236735      young      young"
      ]
     },
     "execution_count": 23,
     "metadata": {},
     "output_type": "execute_result"
    }
   ],
   "source": [
    "dfwords.tail()"
   ]
  },
  {
   "cell_type": "code",
   "execution_count": 24,
   "metadata": {
    "ExecuteTime": {
     "end_time": "2020-11-09T04:49:08.571221Z",
     "start_time": "2020-11-09T04:49:08.210010Z"
    },
    "colab": {
     "base_uri": "https://localhost:8080/"
    },
    "execution": {
     "iopub.execute_input": "2020-11-18T09:35:46.577949Z",
     "iopub.status.busy": "2020-11-18T09:35:46.576948Z",
     "iopub.status.idle": "2020-11-18T09:35:47.150008Z",
     "shell.execute_reply": "2020-11-18T09:35:47.149000Z",
     "shell.execute_reply.started": "2020-11-18T09:35:46.577949Z"
    },
    "executionInfo": {
     "elapsed": 975,
     "status": "ok",
     "timestamp": 1605597173969,
     "user": {
      "displayName": "Fiaz Idris",
      "photoUrl": "https://lh3.googleusercontent.com/a-/AOh14Gjh3msgXrgoiFgjjbTUlBSrpBtJZSaHJ6g3pGgAsRg=s64",
      "userId": "06053391564744853671"
     },
     "user_tz": -420
    },
    "id": "CnZBg_YdBoec",
    "outputId": "d91a6504-dcf5-4e72-df18-d4d59e0e3079"
   },
   "outputs": [
    {
     "name": "stdout",
     "output_type": "stream",
     "text": [
      "'Ada' in dictionary? True\n",
      "'ada' in dictionary? False\n",
      "'Hello' in dictionary? False\n",
      "'hello' in dictionary? True\n"
     ]
    }
   ],
   "source": [
    "for word in 'Ada', 'ada', 'Hello', 'hello':\n",
    "    print('{!r} in dictionary? {}'.format(word, word in words.words()))"
   ]
  },
  {
   "cell_type": "markdown",
   "metadata": {
    "id": "v47MYw3MBoei"
   },
   "source": [
    "However there are two issues:\n",
    "- Checking membership is slow for a long list.\n",
    "- Both 'Hello' and 'ada' are English-like but they are not in the words_list."
   ]
  },
  {
   "cell_type": "markdown",
   "metadata": {
    "id": "Fz4cedPzBoei"
   },
   "source": [
    "**Exercise** Using the method `lower` of `str` and the constructor `set`, assign `dictionary` to a set of lowercase English words from `words.words()`."
   ]
  },
  {
   "cell_type": "code",
   "execution_count": 25,
   "metadata": {
    "ExecuteTime": {
     "end_time": "2020-11-09T04:49:08.709310Z",
     "start_time": "2020-11-09T04:49:08.574329Z"
    },
    "deletable": false,
    "execution": {
     "iopub.execute_input": "2020-11-18T09:35:47.152002Z",
     "iopub.status.busy": "2020-11-18T09:35:47.151000Z",
     "iopub.status.idle": "2020-11-18T09:35:47.353006Z",
     "shell.execute_reply": "2020-11-18T09:35:47.352013Z",
     "shell.execute_reply.started": "2020-11-18T09:35:47.152002Z"
    },
    "id": "R_3P7SJYBoej",
    "nbgrader": {
     "cell_type": "code",
     "checksum": "c088033e9235e017fc574ee035ead4ba",
     "grade": false,
     "grade_id": "nltk",
     "locked": false,
     "schema_version": 3,
     "solution": true,
     "task": false
    }
   },
   "outputs": [],
   "source": [
    "#Great Uncle's greatest tricks\n",
    "wordlist = words.words() # just a word list variable with duplicates\n",
    "dictionary = {word.lower() for word in wordlist} # it makes a set that means unique.. we call this set comprehension\n"
   ]
  },
  {
   "cell_type": "code",
   "execution_count": 26,
   "metadata": {
    "execution": {
     "iopub.execute_input": "2020-11-18T09:35:47.355016Z",
     "iopub.status.busy": "2020-11-18T09:35:47.354006Z",
     "iopub.status.idle": "2020-11-18T09:35:47.361010Z",
     "shell.execute_reply": "2020-11-18T09:35:47.360023Z",
     "shell.execute_reply.started": "2020-11-18T09:35:47.355016Z"
    }
   },
   "outputs": [
    {
     "data": {
      "text/plain": [
       "['A',\n",
       " 'a',\n",
       " 'aa',\n",
       " 'aal',\n",
       " 'aalii',\n",
       " 'aam',\n",
       " 'Aani',\n",
       " 'aardvark',\n",
       " 'aardwolf',\n",
       " 'Aaron']"
      ]
     },
     "execution_count": 26,
     "metadata": {},
     "output_type": "execute_result"
    }
   ],
   "source": [
    "wordlist[:10]"
   ]
  },
  {
   "cell_type": "code",
   "execution_count": 27,
   "metadata": {
    "execution": {
     "iopub.execute_input": "2020-11-18T09:35:47.366009Z",
     "iopub.status.busy": "2020-11-18T09:35:47.365009Z",
     "iopub.status.idle": "2020-11-18T09:35:47.531024Z",
     "shell.execute_reply": "2020-11-18T09:35:47.530045Z",
     "shell.execute_reply.started": "2020-11-18T09:35:47.366009Z"
    }
   },
   "outputs": [
    {
     "data": {
      "text/plain": [
       "['a',\n",
       " 'aa',\n",
       " 'aal',\n",
       " 'aalii',\n",
       " 'aam',\n",
       " 'aani',\n",
       " 'aardvark',\n",
       " 'aardwolf',\n",
       " 'aaron',\n",
       " 'aaronic']"
      ]
     },
     "execution_count": 27,
     "metadata": {},
     "output_type": "execute_result"
    }
   ],
   "source": [
    "sorted(dictionary)[:10]"
   ]
  },
  {
   "cell_type": "code",
   "execution_count": 28,
   "metadata": {
    "execution": {
     "iopub.execute_input": "2020-11-18T09:35:47.535020Z",
     "iopub.status.busy": "2020-11-18T09:35:47.534021Z",
     "iopub.status.idle": "2020-11-18T09:35:47.542072Z",
     "shell.execute_reply": "2020-11-18T09:35:47.541023Z",
     "shell.execute_reply.started": "2020-11-18T09:35:47.535020Z"
    }
   },
   "outputs": [
    {
     "name": "stdout",
     "output_type": "stream",
     "text": [
      "236736\n",
      "234377\n"
     ]
    }
   ],
   "source": [
    "print(len(wordlist))\n",
    "print(len(dictionary))"
   ]
  },
  {
   "cell_type": "code",
   "execution_count": 29,
   "metadata": {
    "ExecuteTime": {
     "end_time": "2020-11-09T04:49:08.717188Z",
     "start_time": "2020-11-09T04:49:08.712622Z"
    },
    "code_folding": [
     0
    ],
    "deletable": false,
    "editable": false,
    "execution": {
     "iopub.execute_input": "2020-11-18T09:35:47.544025Z",
     "iopub.status.busy": "2020-11-18T09:35:47.544025Z",
     "iopub.status.idle": "2020-11-18T09:35:47.553028Z",
     "shell.execute_reply": "2020-11-18T09:35:47.552032Z",
     "shell.execute_reply.started": "2020-11-18T09:35:47.544025Z"
    },
    "id": "A47BKbTDBoeo",
    "nbgrader": {
     "cell_type": "code",
     "checksum": "c07d5fad71ff980f1896b88c297e6ef1",
     "grade": true,
     "grade_id": "test-nltk",
     "locked": true,
     "points": 1,
     "schema_version": 3,
     "solution": false,
     "task": false
    }
   },
   "outputs": [],
   "source": [
    "# tests\n",
    "assert isinstance(dictionary,set) and len(dictionary) == 234377\n",
    "assert all(word in dictionary for word in ('ada', 'hello'))\n",
    "assert all(word not in dictionary for word in ('Ada', 'hola'))\n",
    "### BEGIN TESTS\n",
    "assert 'world' in dictionary\n",
    "assert not 'mundo' in dictionary\n",
    "### END TESTS"
   ]
  },
  {
   "cell_type": "markdown",
   "metadata": {
    "id": "EgyYuCTNBoe2"
   },
   "source": [
    "### Identify English-like text"
   ]
  },
  {
   "cell_type": "markdown",
   "metadata": {
    "id": "Rv-BYrUrBoe4"
   },
   "source": [
    "To determine how English-like a text is, we calculate the following score:\n",
    "$$\n",
    "\\frac{\\text{number of English words in the text}}{\\text{number of tokens in the text}} \n",
    "$$\n",
    "where tokens are substrings (not necessarily an English word) separated by white space characters in the text."
   ]
  },
  {
   "cell_type": "code",
   "execution_count": 30,
   "metadata": {
    "ExecuteTime": {
     "end_time": "2020-11-09T04:49:08.762724Z",
     "start_time": "2020-11-09T04:49:08.720489Z"
    },
    "execution": {
     "iopub.execute_input": "2020-11-18T09:35:47.555026Z",
     "iopub.status.busy": "2020-11-18T09:35:47.555026Z",
     "iopub.status.idle": "2020-11-18T09:35:47.568026Z",
     "shell.execute_reply": "2020-11-18T09:35:47.567053Z",
     "shell.execute_reply.started": "2020-11-18T09:35:47.555026Z"
    },
    "id": "u0u9sLvvBoe5"
   },
   "outputs": [
    {
     "data": {
      "text/plain": [
       "(1.0, 0.0)"
      ]
     },
     "execution_count": 30,
     "metadata": {},
     "output_type": "execute_result"
    }
   ],
   "source": [
    "def tokenizer(text):\n",
    "    '''Returns the list of tokens of the text.'''\n",
    "    return text.split()\n",
    "\n",
    "def get_score(text):\n",
    "    '''Return the fraction of tokens which appear in dictionary.'''\n",
    "    tokens = tokenizer(text)\n",
    "    words = [token for token in tokens if token in dictionary]\n",
    "    return len(words)/len(tokens)\n",
    "\n",
    "# tests\n",
    "get_score('hello world'), get_score('Hello, World!')"
   ]
  },
  {
   "cell_type": "markdown",
   "metadata": {
    "id": "dt96BOiCBoe_"
   },
   "source": [
    "As shown in tests above, the code fails to handle text with punctuations and uppercase letters properly.  \n",
    "In particular, \n",
    "- while `get_score` recognizes `hello world` as English-like and returns the maximum score of 1, \n",
    "- it fails to recognize `Hello, World!` as English-like and returns the minimum score of 0."
   ]
  },
  {
   "cell_type": "markdown",
   "metadata": {
    "id": "pqGPZbLfBofA"
   },
   "source": [
    "Why? This is because every words in `dictionary`\n",
    "- are in lowercase, and\n",
    "- have no leading/trailing punctuations."
   ]
  },
  {
   "cell_type": "markdown",
   "metadata": {
    "id": "40zfKxwCBofB"
   },
   "source": [
    "**Exercise** Define a funtion `tokenizer` that \n",
    "- takes a string `text` as an argument, and\n",
    "- returns a `list` of tokens obtained by\n",
    "  1. splitting `text` into a list using `split()`;\n",
    "  2. removing leading/trailing punctuations in `string.punctuation` using the `strip` method; and\n",
    "  3. converting all items of the list to lowercase using `lower()`."
   ]
  },
  {
   "cell_type": "code",
   "execution_count": 31,
   "metadata": {
    "execution": {
     "iopub.execute_input": "2020-11-18T09:35:47.570045Z",
     "iopub.status.busy": "2020-11-18T09:35:47.569036Z",
     "iopub.status.idle": "2020-11-18T09:35:47.578035Z",
     "shell.execute_reply": "2020-11-18T09:35:47.577031Z",
     "shell.execute_reply.started": "2020-11-18T09:35:47.570045Z"
    }
   },
   "outputs": [
    {
     "data": {
      "text/plain": [
       "'!\"#$%&\\'()*+,-./:;<=>?@[\\\\]^_`{|}~'"
      ]
     },
     "execution_count": 31,
     "metadata": {},
     "output_type": "execute_result"
    }
   ],
   "source": [
    "import string # import string as we need to use string.punctuation\n",
    "string.punctuation"
   ]
  },
  {
   "cell_type": "code",
   "execution_count": 32,
   "metadata": {
    "execution": {
     "iopub.execute_input": "2020-11-18T09:35:47.580144Z",
     "iopub.status.busy": "2020-11-18T09:35:47.579022Z",
     "iopub.status.idle": "2020-11-18T09:35:47.588029Z",
     "shell.execute_reply": "2020-11-18T09:35:47.587046Z",
     "shell.execute_reply.started": "2020-11-18T09:35:47.580144Z"
    }
   },
   "outputs": [],
   "source": [
    "mystring = 'Hello, World!'\n"
   ]
  },
  {
   "cell_type": "code",
   "execution_count": 33,
   "metadata": {
    "execution": {
     "iopub.execute_input": "2020-11-18T09:35:47.590026Z",
     "iopub.status.busy": "2020-11-18T09:35:47.590026Z",
     "iopub.status.idle": "2020-11-18T09:35:47.599027Z",
     "shell.execute_reply": "2020-11-18T09:35:47.598030Z",
     "shell.execute_reply.started": "2020-11-18T09:35:47.590026Z"
    }
   },
   "outputs": [
    {
     "data": {
      "text/plain": [
       "['Hello,', 'World!']"
      ]
     },
     "execution_count": 33,
     "metadata": {},
     "output_type": "execute_result"
    }
   ],
   "source": [
    "mystring.split()"
   ]
  },
  {
   "cell_type": "code",
   "execution_count": 34,
   "metadata": {
    "execution": {
     "iopub.execute_input": "2020-11-18T09:35:47.601027Z",
     "iopub.status.busy": "2020-11-18T09:35:47.600028Z",
     "iopub.status.idle": "2020-11-18T09:35:47.610028Z",
     "shell.execute_reply": "2020-11-18T09:35:47.609028Z",
     "shell.execute_reply.started": "2020-11-18T09:35:47.601027Z"
    }
   },
   "outputs": [
    {
     "data": {
      "text/plain": [
       "['hello', 'world']"
      ]
     },
     "execution_count": 34,
     "metadata": {},
     "output_type": "execute_result"
    }
   ],
   "source": [
    "[eachword.strip(string.punctuation).lower() for eachword in mystring.split()]"
   ]
  },
  {
   "cell_type": "code",
   "execution_count": 35,
   "metadata": {
    "ExecuteTime": {
     "end_time": "2020-11-09T04:49:08.771679Z",
     "start_time": "2020-11-09T04:49:08.765297Z"
    },
    "deletable": false,
    "execution": {
     "iopub.execute_input": "2020-11-18T09:35:47.611028Z",
     "iopub.status.busy": "2020-11-18T09:35:47.611028Z",
     "iopub.status.idle": "2020-11-18T09:35:47.619031Z",
     "shell.execute_reply": "2020-11-18T09:35:47.618035Z",
     "shell.execute_reply.started": "2020-11-18T09:35:47.611028Z"
    },
    "id": "5pgGxNFoBofD",
    "nbgrader": {
     "cell_type": "code",
     "checksum": "9247e682967c8c3e7486a3a069f9b646",
     "grade": false,
     "grade_id": "tokenizer",
     "locked": false,
     "schema_version": 3,
     "solution": true,
     "task": false
    }
   },
   "outputs": [],
   "source": [
    "# another of your Great Uncle's tricks.. but don't worry.. this is baby stuff for someone above me.... which in reality is most people\n",
    "# in this domain.\n",
    "# strip only removes leading and trailing chracters, not in between\n",
    "\n",
    "def tokenizer(text):\n",
    "    '''Returns the list of tokens of the text such that \n",
    "    1) each token has no leading or training spaces/punctuations, and \n",
    "    2) all letters in each tokens are in lowercase.'''\n",
    "    return [eachword.strip(string.punctuation).lower() for eachword in text.split()]"
   ]
  },
  {
   "cell_type": "code",
   "execution_count": 36,
   "metadata": {
    "execution": {
     "iopub.execute_input": "2020-11-18T09:35:47.621033Z",
     "iopub.status.busy": "2020-11-18T09:35:47.620025Z",
     "iopub.status.idle": "2020-11-18T09:35:47.632031Z",
     "shell.execute_reply": "2020-11-18T09:35:47.631027Z",
     "shell.execute_reply.started": "2020-11-18T09:35:47.621033Z"
    }
   },
   "outputs": [
    {
     "data": {
      "text/plain": [
       "['hello', 'world']"
      ]
     },
     "execution_count": 36,
     "metadata": {},
     "output_type": "execute_result"
    }
   ],
   "source": [
    "tokenizer(mystring)"
   ]
  },
  {
   "cell_type": "code",
   "execution_count": 61,
   "metadata": {
    "execution": {
     "iopub.execute_input": "2020-11-18T09:40:17.698186Z",
     "iopub.status.busy": "2020-11-18T09:40:17.697170Z",
     "iopub.status.idle": "2020-11-18T09:40:17.712199Z",
     "shell.execute_reply": "2020-11-18T09:40:17.710168Z",
     "shell.execute_reply.started": "2020-11-18T09:40:17.698186Z"
    }
   },
   "outputs": [
    {
     "data": {
      "text/plain": [
       "'a,b'"
      ]
     },
     "execution_count": 61,
     "metadata": {},
     "output_type": "execute_result"
    }
   ],
   "source": [
    "'a,b'.strip(string.punctuation)"
   ]
  },
  {
   "cell_type": "code",
   "execution_count": 49,
   "metadata": {
    "execution": {
     "iopub.execute_input": "2020-11-18T09:38:53.189606Z",
     "iopub.status.busy": "2020-11-18T09:38:53.189606Z",
     "iopub.status.idle": "2020-11-18T09:38:53.204617Z",
     "shell.execute_reply": "2020-11-18T09:38:53.203610Z",
     "shell.execute_reply.started": "2020-11-18T09:38:53.189606Z"
    }
   },
   "outputs": [
    {
     "data": {
      "text/plain": [
       "'jean-pierre'"
      ]
     },
     "execution_count": 49,
     "metadata": {},
     "output_type": "execute_result"
    }
   ],
   "source": [
    "'Jean-Pierre?'.strip(string.punctuation).lower()"
   ]
  },
  {
   "cell_type": "code",
   "execution_count": 45,
   "metadata": {
    "ExecuteTime": {
     "end_time": "2020-11-09T04:49:08.785210Z",
     "start_time": "2020-11-09T04:49:08.774009Z"
    },
    "code_folding": [
     0
    ],
    "deletable": false,
    "editable": false,
    "execution": {
     "iopub.execute_input": "2020-11-18T09:37:05.411977Z",
     "iopub.status.busy": "2020-11-18T09:37:05.410982Z",
     "iopub.status.idle": "2020-11-18T09:37:05.420976Z",
     "shell.execute_reply": "2020-11-18T09:37:05.419982Z",
     "shell.execute_reply.started": "2020-11-18T09:37:05.410982Z"
    },
    "id": "-L0689AdBofH",
    "nbgrader": {
     "cell_type": "code",
     "checksum": "f02c8337f50c9078d12c224bdc8a6c90",
     "grade": true,
     "grade_id": "test-tokenizer",
     "locked": true,
     "points": 1,
     "schema_version": 3,
     "solution": false,
     "task": false
    }
   },
   "outputs": [],
   "source": [
    "# tests\n",
    "assert tokenizer('Hello, World!') == ['hello', 'world']\n",
    "assert get_score('Hello, World!') >= 0.99999\n",
    "assert tokenizer('Do you know Jean-Pierre?') == ['do', 'you', 'know', 'jean-pierre']\n",
    "assert get_score('Do you know Jean-Pierre?') >= 0.99999"
   ]
  },
  {
   "cell_type": "markdown",
   "metadata": {
    "id": "NpjUmksxBofM"
   },
   "source": [
    "### Launch a brute-force attack"
   ]
  },
  {
   "cell_type": "markdown",
   "metadata": {
    "id": "wEP434y5BofO"
   },
   "source": [
    "**Exercise** Define the function `cc_attack` that \n",
    "- takes as arguments\n",
    "    - a string `ciphertext`,\n",
    "    - a floating point number `threshold` in the interval $(0,1)$ with a default value of $0.6$, and\n",
    "- returns a generator that  \n",
    "    - generates one-by-one in ascending order guesses of the key that\n",
    "    - decrypt `ciphertext` to texts with scores at least the `threshold`."
   ]
  },
  {
   "cell_type": "code",
   "execution_count": 38,
   "metadata": {
    "execution": {
     "iopub.execute_input": "2020-11-18T09:35:47.645033Z",
     "iopub.status.busy": "2020-11-18T09:35:47.644028Z",
     "iopub.status.idle": "2020-11-18T09:35:47.655033Z",
     "shell.execute_reply": "2020-11-18T09:35:47.654032Z",
     "shell.execute_reply.started": "2020-11-18T09:35:47.645033Z"
    }
   },
   "outputs": [],
   "source": [
    "import random"
   ]
  },
  {
   "cell_type": "code",
   "execution_count": 69,
   "metadata": {
    "ExecuteTime": {
     "end_time": "2020-11-09T04:49:08.795134Z",
     "start_time": "2020-11-09T04:49:08.789111Z"
    },
    "deletable": false,
    "execution": {
     "iopub.execute_input": "2020-11-18T09:43:34.407745Z",
     "iopub.status.busy": "2020-11-18T09:43:34.406745Z",
     "iopub.status.idle": "2020-11-18T09:43:34.419728Z",
     "shell.execute_reply": "2020-11-18T09:43:34.417740Z",
     "shell.execute_reply.started": "2020-11-18T09:43:34.407745Z"
    },
    "id": "1sLg8JVnBofP",
    "nbgrader": {
     "cell_type": "code",
     "checksum": "164ae0302fc76ba33e73d32c87ca2aaf",
     "grade": false,
     "grade_id": "cc_attack",
     "locked": false,
     "schema_version": 3,
     "solution": true,
     "task": false
    }
   },
   "outputs": [],
   "source": [
    "def cc_attack(ciphertext, threshold = 0.6):\n",
    "    '''Returns a generator that generates the next guess of the key that \n",
    "    decrypts the ciphertext to a text with get_score(text) at least the threshold.\n",
    "    '''\n",
    "    for i in range(cc_n):\n",
    "        decrypted_text = cc_decrypt(ciphertext, i )\n",
    "        decrypted_text_score = get_score(decrypted_text)\n",
    "#         print(decrypted_text)\n",
    "        if decrypted_text_score >= threshold:\n",
    "            print('in cc_attack:', i, decrypted_text)\n",
    "            yield i\n",
    "    \n",
    "    # YOUR CODE HERE\n",
    "    pass"
   ]
  },
  {
   "cell_type": "code",
   "execution_count": 77,
   "metadata": {
    "execution": {
     "iopub.execute_input": "2020-11-18T09:45:01.863550Z",
     "iopub.status.busy": "2020-11-18T09:45:01.862549Z",
     "iopub.status.idle": "2020-11-18T09:45:15.268735Z",
     "shell.execute_reply": "2020-11-18T09:45:15.266741Z",
     "shell.execute_reply.started": "2020-11-18T09:45:01.863550Z"
    }
   },
   "outputs": [
    {
     "name": "stdout",
     "output_type": "stream",
     "text": [
      "lord of the world  >>  knqc\u001fne\u001fsgd\u001fvnqkc\n",
      "attacking  knqc\u001fne\u001fsgd\u001fvnqkc\n",
      "in cc_attack: 1114111 lord of the world\n",
      "guess of the key: 1114111\n",
      "score: 1.0\n",
      "text :lord of the world\n",
      "================\n",
      "knqc\u001fne\u001fsgd\u001fvnqkc  decrypted to  lord of the world  using key:  1114111  with score:  1.0\n"
     ]
    }
   ],
   "source": [
    "original_text = 'lord of the world'\n",
    "cc_n = 1114112\n",
    "key = random.randint(0, cc_n)\n",
    "key = cc_n - 1\n",
    "\n",
    "\n",
    "encrypted_text = cc_encrypt(original_text, key)\n",
    "print(original_text, ' >> ', encrypted_text)\n",
    "\n",
    "print('attacking ', encrypted_text)\n",
    "\n",
    "key_generator = cc_attack(encrypted_text)\n",
    "key_guess = next(key_generator)\n",
    "\n",
    "text = cc_decrypt(encrypted_text, key_guess)\n",
    "print('guess of the key: {}\\nscore: {}\\ntext :{}'.format(key_guess,get_score(text),text))\n",
    "\n",
    "print('================')\n",
    "print(encrypted_text, ' decrypted to ', text, ' using key: ', key_guess, ' with score: ', get_score(text) )"
   ]
  },
  {
   "cell_type": "code",
   "execution_count": 70,
   "metadata": {
    "execution": {
     "iopub.execute_input": "2020-11-18T09:43:38.343108Z",
     "iopub.status.busy": "2020-11-18T09:43:38.341093Z",
     "iopub.status.idle": "2020-11-18T09:43:38.672130Z",
     "shell.execute_reply": "2020-11-18T09:43:38.670139Z",
     "shell.execute_reply.started": "2020-11-18T09:43:38.343108Z"
    }
   },
   "outputs": [
    {
     "name": "stdout",
     "output_type": "stream",
     "text": [
      "in cc_attack: 12345 Hello, World!\n",
      "guess of the key: 12345\n",
      "score: 1.0\n",
      "text :Hello, World!\n",
      "================\n",
      "めゞゥゥエづすゐエカゥゝず  decrypted to  Hello, World!  using key:  12345  with score:  1.0\n"
     ]
    }
   ],
   "source": [
    "encrypted_text = 'めゞゥゥエづすゐエカゥゝず'\n",
    "\n",
    "key_generator = cc_attack(encrypted_text)\n",
    "key_guess = next(key_generator)\n",
    "\n",
    "text = cc_decrypt(encrypted_text, key_guess)\n",
    "print('guess of the key: {}\\nscore: {}\\ntext :{}'.format(key_guess,get_score(text),text))\n",
    "\n",
    "print('================')\n",
    "print(encrypted_text, ' decrypted to ', text, ' using key: ', key_guess, ' with score: ', get_score(text) )"
   ]
  },
  {
   "cell_type": "code",
   "execution_count": 41,
   "metadata": {
    "execution": {
     "iopub.execute_input": "2020-11-18T09:35:48.983155Z",
     "iopub.status.busy": "2020-11-18T09:35:48.982154Z",
     "iopub.status.idle": "2020-11-18T09:35:48.990161Z",
     "shell.execute_reply": "2020-11-18T09:35:48.989154Z",
     "shell.execute_reply.started": "2020-11-18T09:35:48.983155Z"
    }
   },
   "outputs": [
    {
     "data": {
      "text/plain": [
       "'めゞゥゥエづすゐエカゥゝず'"
      ]
     },
     "execution_count": 41,
     "metadata": {},
     "output_type": "execute_result"
    }
   ],
   "source": [
    "cc_encrypt(\"Hello, World!\",12345)"
   ]
  },
  {
   "cell_type": "code",
   "execution_count": 42,
   "metadata": {
    "execution": {
     "iopub.execute_input": "2020-11-18T09:35:48.992152Z",
     "iopub.status.busy": "2020-11-18T09:35:48.991156Z",
     "iopub.status.idle": "2020-11-18T09:35:49.001154Z",
     "shell.execute_reply": "2020-11-18T09:35:49.000155Z",
     "shell.execute_reply.started": "2020-11-18T09:35:48.992152Z"
    }
   },
   "outputs": [
    {
     "data": {
      "text/plain": [
       "'Hello, World!'"
      ]
     },
     "execution_count": 42,
     "metadata": {},
     "output_type": "execute_result"
    }
   ],
   "source": [
    "cc_decrypt('めゞゥゥエづすゐエカゥゝず', 12345)"
   ]
  },
  {
   "cell_type": "code",
   "execution_count": 43,
   "metadata": {
    "ExecuteTime": {
     "end_time": "2020-11-09T04:49:08.899492Z",
     "start_time": "2020-11-09T04:49:08.798626Z"
    },
    "code_folding": [
     0
    ],
    "deletable": false,
    "editable": false,
    "execution": {
     "iopub.execute_input": "2020-11-18T09:35:49.003154Z",
     "iopub.status.busy": "2020-11-18T09:35:49.002154Z",
     "iopub.status.idle": "2020-11-18T09:35:49.143166Z",
     "shell.execute_reply": "2020-11-18T09:35:49.142168Z",
     "shell.execute_reply.started": "2020-11-18T09:35:49.003154Z"
    },
    "id": "eqvWnbnoBofU",
    "nbgrader": {
     "cell_type": "code",
     "checksum": "8332c0ce06af0207eefd4552efde6f80",
     "grade": true,
     "grade_id": "test-cc_attack",
     "locked": true,
     "points": 1,
     "schema_version": 3,
     "solution": false,
     "task": false
    }
   },
   "outputs": [
    {
     "name": "stdout",
     "output_type": "stream",
     "text": [
      "12345 Hello, World!\n",
      "guess of the key: 12345\n",
      "score: 1.0\n",
      "text :Hello, World!\n"
     ]
    }
   ],
   "source": [
    "# tests\n",
    "ciphertext = cc_encrypt(\"Hello, World!\",12345)\n",
    "key_generator = cc_attack(ciphertext)\n",
    "key_guess = next(key_generator)\n",
    "assert key_guess == 12345\n",
    "text = cc_decrypt(ciphertext, key_guess)\n",
    "print('guess of the key: {}\\nscore: {}\\ntext :{}'.format(key_guess,get_score(text),text))"
   ]
  },
  {
   "cell_type": "markdown",
   "metadata": {
    "id": "NmYl4P4-BofZ"
   },
   "source": [
    "## Challenge"
   ]
  },
  {
   "cell_type": "markdown",
   "metadata": {},
   "source": [
    "**I just learnt this from the wikipedia... and it can be done with some hard work!**  \n",
    "I will do it later for my own interest... but do not want to spend time now!"
   ]
  },
  {
   "cell_type": "markdown",
   "metadata": {
    "id": "tJTopxQeBofa"
   },
   "source": [
    "Another symmetric key cipher is [columnar transposition cipher](https://en.wikipedia.org/wiki/Transposition_cipher#Columnar_transposition). A transposition cipher encrypts a text by permuting instead of substituting characters."
   ]
  },
  {
   "cell_type": "markdown",
   "metadata": {
    "ExecuteTime": {
     "end_time": "2020-11-02T16:48:02.519406Z",
     "start_time": "2020-11-02T16:48:02.515508Z"
    },
    "id": "77ZaMe4PBofb"
   },
   "source": [
    "**Exercise** Study and implement the irregular case of the [columnar transposition cipher](https://en.wikipedia.org/wiki/Transposition_cipher#Columnar_transposition) as described in Wikipedia page. Define the functions \n",
    "- `ct_encrypt(plaintext, key)` for encryption, and \n",
    "- `ct_decrypt(ciphertext, key)` for decryption. \n",
    "\n",
    "You can assume the plaintext is in uppercase and has no spaces/punctuations. "
   ]
  },
  {
   "cell_type": "markdown",
   "metadata": {
    "id": "T7bagOyZBofc"
   },
   "source": [
    "*Hints:* See the text cases for an example of `plaintext`, `key`, and the corresponding `ciphertext`. You can but are not required to follow the solution template below:\n",
    "\n",
    "```Python\n",
    "def argsort(seq):\n",
    "    '''A helper function that returns the tuple of indices that would sort the\n",
    "    sequence seq.'''\n",
    "    return tuple(x[0] for x in sorted(enumerate(seq), key=lambda x: x[1]))\n",
    "\n",
    "\n",
    "def ct_idx(length, key):\n",
    "    '''A helper function that returns the tuple of indices that would permute \n",
    "    the letters of a message according to the key using the irregular case of \n",
    "    columnar transposition cipher.'''\n",
    "    last_row_size = length % len(key)\n",
    "    num_rows = length // len(key) + (1 if last_row_size else 0)\n",
    "    seq = tuple(range(length))\n",
    "    matrix = ____________________________________________________________________\n",
    "    return tuple(matrix[i][j] for j in argsort(key)\n",
    "                 for i in range(num_rows - (1 if j >= last_row_size else 0)))\n",
    "\n",
    "\n",
    "def ct_encrypt(plaintext, key):\n",
    "    '''\n",
    "    Return the ciphertext of a plaintext by the key using the irregular case\n",
    "    of columnar transposition cipher.\n",
    "    \n",
    "    Parameters\n",
    "    ----------\n",
    "    plaintext (str): a message in uppercase without punctuations/spaces.\n",
    "    key (str): secret key to encrypt plaintext.\n",
    "    '''\n",
    "    return ''.join([plaintext[i] for i in ct_idx(len(plaintext), key)])\n",
    "\n",
    "\n",
    "def ct_decrypt(ciphertext, key):\n",
    "    '''\n",
    "    Return the plaintext of the ciphertext by the key using the irregular case\n",
    "    of columnar transposition cipher.\n",
    "    \n",
    "    Parameters\n",
    "    ----------\n",
    "    ciphertext (str): a string in uppercase without punctuations/spaces.\n",
    "    key (str): secret key to decrypt ciphertext.\n",
    "    '''        \n",
    "    return _______________________________________________________________________\n",
    "```"
   ]
  },
  {
   "cell_type": "code",
   "execution_count": 44,
   "metadata": {
    "ExecuteTime": {
     "end_time": "2020-11-09T04:49:08.911252Z",
     "start_time": "2020-11-09T04:49:08.902297Z"
    },
    "deletable": false,
    "execution": {
     "iopub.execute_input": "2020-11-18T09:35:49.145169Z",
     "iopub.status.busy": "2020-11-18T09:35:49.144168Z",
     "iopub.status.idle": "2020-11-18T09:35:49.364191Z",
     "shell.execute_reply": "2020-11-18T09:35:49.362188Z",
     "shell.execute_reply.started": "2020-11-18T09:35:49.145169Z"
    },
    "id": "iKF4YoCHBofd",
    "nbgrader": {
     "cell_type": "code",
     "checksum": "98df17cad7f85438965c855febc2b736",
     "grade": false,
     "grade_id": "ct",
     "locked": false,
     "schema_version": 3,
     "solution": true,
     "task": false
    }
   },
   "outputs": [
    {
     "ename": "NotImplementedError",
     "evalue": "",
     "output_type": "error",
     "traceback": [
      "\u001b[1;31m---------------------------------------------------------------------------\u001b[0m",
      "\u001b[1;31mNotImplementedError\u001b[0m                       Traceback (most recent call last)",
      "\u001b[1;32m<ipython-input-44-15b94d1fa268>\u001b[0m in \u001b[0;36m<module>\u001b[1;34m\u001b[0m\n\u001b[0;32m      1\u001b[0m \u001b[1;31m# YOUR CODE HERE\u001b[0m\u001b[1;33m\u001b[0m\u001b[1;33m\u001b[0m\u001b[1;33m\u001b[0m\u001b[0m\n\u001b[1;32m----> 2\u001b[1;33m \u001b[1;32mraise\u001b[0m \u001b[0mNotImplementedError\u001b[0m\u001b[1;33m(\u001b[0m\u001b[1;33m)\u001b[0m\u001b[1;33m\u001b[0m\u001b[1;33m\u001b[0m\u001b[0m\n\u001b[0m",
      "\u001b[1;31mNotImplementedError\u001b[0m: "
     ]
    }
   ],
   "source": [
    "# YOUR CODE HERE\n",
    "raise NotImplementedError()"
   ]
  },
  {
   "cell_type": "code",
   "execution_count": null,
   "metadata": {
    "ExecuteTime": {
     "end_time": "2020-11-09T04:49:08.921470Z",
     "start_time": "2020-11-09T04:49:08.913769Z"
    },
    "deletable": false,
    "editable": false,
    "execution": {
     "iopub.status.busy": "2020-11-18T09:35:49.365188Z",
     "iopub.status.idle": "2020-11-18T09:35:49.365188Z"
    },
    "id": "kQc_cWBGBofk",
    "nbgrader": {
     "cell_type": "code",
     "checksum": "9c49b1d04cedd8e23783f1a4c47319c3",
     "grade": true,
     "grade_id": "test-ct",
     "locked": true,
     "points": 1,
     "schema_version": 3,
     "solution": false,
     "task": false
    }
   },
   "outputs": [],
   "source": [
    "# tests\n",
    "key = 'ZEBRAS'\n",
    "plaintext = 'WEAREDISCOVEREDFLEEATONCE'\n",
    "ciphertext = 'EVLNACDTESEAROFODEECWIREE'\n",
    "assert ct_encrypt(plaintext, key) == ciphertext\n",
    "assert ct_decrypt(ciphertext, key) == plaintext"
   ]
  },
  {
   "cell_type": "code",
   "execution_count": 95,
   "metadata": {
    "execution": {
     "iopub.execute_input": "2020-11-18T10:04:32.145108Z",
     "iopub.status.busy": "2020-11-18T10:04:32.145108Z",
     "iopub.status.idle": "2020-11-18T10:04:32.156124Z",
     "shell.execute_reply": "2020-11-18T10:04:32.155121Z",
     "shell.execute_reply.started": "2020-11-18T10:04:32.145108Z"
    }
   },
   "outputs": [],
   "source": [
    "import math\n",
    "# key=input(\"Enter keyword text (Contains unique letters only): \").lower().replace(\" \", \"\")\n",
    "# plain_text = input(\"Enter plain text (Letters only): \").lower().replace(\" \", \"\")\n",
    "key = 'ZEBRAS'\n",
    "plain_text = 'WEAREDISCOVEREDFLEEATONCE'\n",
    "ciphertext = 'EVLNACDTESEAROFODEECWIREE'"
   ]
  },
  {
   "cell_type": "code",
   "execution_count": 95,
   "metadata": {
    "execution": {
     "iopub.execute_input": "2020-11-18T10:04:32.145108Z",
     "iopub.status.busy": "2020-11-18T10:04:32.145108Z",
     "iopub.status.idle": "2020-11-18T10:04:32.156124Z",
     "shell.execute_reply": "2020-11-18T10:04:32.155121Z",
     "shell.execute_reply.started": "2020-11-18T10:04:32.145108Z"
    }
   },
   "outputs": [
    {
     "name": "stdout",
     "output_type": "stream",
     "text": [
      "[['X', 'X', 'X', 'X', 'X', 'X'], ['X', 'X', 'X', 'X', 'X', 'X'], ['X', 'X', 'X', 'X', 'X', 'X'], ['X', 'X', 'X', 'X', 'X', 'X'], ['X', 'X', 'X', 'X', 'X', 'X']]\n"
     ]
    }
   ],
   "source": [
    "import math\n",
    "\n"
   ]
  },
  {
   "cell_type": "code",
   "execution_count": 107,
   "metadata": {
    "execution": {
     "iopub.execute_input": "2020-11-18T10:13:51.587613Z",
     "iopub.status.busy": "2020-11-18T10:13:51.586613Z",
     "iopub.status.idle": "2020-11-18T10:13:51.594621Z",
     "shell.execute_reply": "2020-11-18T10:13:51.593617Z",
     "shell.execute_reply.started": "2020-11-18T10:13:51.587613Z"
    }
   },
   "outputs": [
    {
     "name": "stdout",
     "output_type": "stream",
     "text": [
      "Encryption\n",
      "Plain text is fz: WEAREDISCOVEREDFLEEATONCE\n",
      "Cipher text is fz: EVLNXACDTXESEAXROFOXDEECXWIREE\n"
     ]
    }
   ],
   "source": []
  },
  {
   "cell_type": "code",
   "execution_count": 119,
   "metadata": {
    "execution": {
     "iopub.execute_input": "2020-11-18T10:18:15.957232Z",
     "iopub.status.busy": "2020-11-18T10:18:15.957232Z",
     "iopub.status.idle": "2020-11-18T10:18:15.971307Z",
     "shell.execute_reply": "2020-11-18T10:18:15.970244Z",
     "shell.execute_reply.started": "2020-11-18T10:18:15.957232Z"
    }
   },
   "outputs": [
    {
     "name": "stdout",
     "output_type": "stream",
     "text": [
      "Encryption\n",
      "Plain text is fz: WEAREDISCOVEREDFLEEATONCE\n",
      "Cipher text is fz: EVLNXACDTXESEAXROFOXDEECXWIREE\n"
     ]
    }
   ],
   "source": [
    "def ct_encrypt(plain_text, key):\n",
    "    len_key = len(key)\n",
    "    len_plain = len(plain_text)\n",
    "    row = int(math.ceil(len_plain / len_key))\n",
    "    matrix = [ ['X']*len_key for i in range(row) ]\n",
    "\n",
    "#     print(matrix)\n",
    "    t = 0\n",
    "    len_key = len(key)\n",
    "    \n",
    "    for r in range(row):\n",
    "        for c,ch in enumerate(plain_text[t : t+ len_key]):\n",
    "            matrix[r][c] = ch\n",
    "        t += len_key\n",
    "\n",
    "    # print(matrix)\n",
    "    sort_order = sorted([(ch,i) for i,ch in enumerate(key)])    #to make alphabetically order of chars\n",
    "    # print(sort_order)\n",
    "\n",
    "    cipher_text = ''\n",
    "    for ch,c in sort_order:\n",
    "        for r in range(row):\n",
    "            cipher_text += matrix[r][c]\n",
    "\n",
    "    print(\"Encryption\")\n",
    "    print(\"Plain text is fz:\",plain_text)\n",
    "    print(\"Cipher text is fz:\",cipher_text)\n",
    "\n",
    "key = 'ZEBRAS'\n",
    "plain_text = 'WEAREDISCOVEREDFLEEATONCE'\n",
    "ct_encrypt(plain_text, key)"
   ]
  },
  {
   "cell_type": "code",
   "execution_count": 140,
   "metadata": {
    "execution": {
     "iopub.execute_input": "2020-11-18T10:42:28.468039Z",
     "iopub.status.busy": "2020-11-18T10:42:28.467042Z",
     "iopub.status.idle": "2020-11-18T10:42:28.481036Z",
     "shell.execute_reply": "2020-11-18T10:42:28.480035Z",
     "shell.execute_reply.started": "2020-11-18T10:42:28.468039Z"
    }
   },
   "outputs": [
    {
     "name": "stdout",
     "output_type": "stream",
     "text": [
      "Decryption\n",
      "Cipher text is: EVLNACDTESEAROFODEECWIREE\n",
      "Plain text is : ECOEWADDVIRTELROEENEFSCAE\n"
     ]
    }
   ],
   "source": [
    "def ct_decrypt(cipher_text, key):\n",
    "    len_key = len(key)\n",
    "    len_cipher_text = len(cipher_text)\n",
    "    row = int(math.ceil(len_cipher_text / len_key))\n",
    "    \n",
    "    matrix_new = [ ['X']*len_key for i in range(row) ]\n",
    "    key_order = [ key.index(ch) for ch in sorted(list(key))]    #to make original key order when we know keyword\n",
    "    # print(key_order)\n",
    "\n",
    "    t = 0\n",
    "    for c in key_order:\n",
    "        for r,ch in enumerate(cipher_text[t : t+ row]):\n",
    "            matrix_new[r][c] = ch\n",
    "        t += row\n",
    "    # print(matrix_new) \n",
    "\n",
    "    p_text = ''\n",
    "    for r in range(row):\n",
    "        for c in range(len_key):\n",
    "            p_text += matrix_new[r][c] if matrix_new[r][c] != 'X' else ''\n",
    "\n",
    "    print(\"Decryption\")\n",
    "    print(\"Cipher text is:\",cipher_text)\n",
    "    print(\"Plain text is :\",p_text)\n",
    "    \n",
    "key = 'ZEBRAS'\n",
    "plain_text = 'WEAREDISCOVEREDFLEEATONCE'\n",
    "cipher_text = 'EVLNACDTESEAROFODEECWIREE'\n",
    "\n",
    "ct_decrypt(cipher_text, key)\n",
    "\n",
    "\n"
   ]
  },
  {
   "cell_type": "code",
   "execution_count": 120,
   "metadata": {
    "execution": {
     "iopub.execute_input": "2020-11-18T10:21:35.096025Z",
     "iopub.status.busy": "2020-11-18T10:21:35.095041Z",
     "iopub.status.idle": "2020-11-18T10:21:35.116027Z",
     "shell.execute_reply": "2020-11-18T10:21:35.113057Z",
     "shell.execute_reply.started": "2020-11-18T10:21:35.096025Z"
    }
   },
   "outputs": [],
   "source": [
    "from itertools import*\n",
    "def f(a,b):a,c,s=a.upper(),''.join,sorted;return c(map(c,zip_longest(*[v for k,v in s([(v,b[i::len({*a})])for i,v in enumerate(s({*a},key=a.find))])],fillvalue='')))"
   ]
  },
  {
   "cell_type": "code",
   "execution_count": 122,
   "metadata": {
    "execution": {
     "iopub.execute_input": "2020-11-18T10:22:01.413364Z",
     "iopub.status.busy": "2020-11-18T10:22:01.413364Z",
     "iopub.status.idle": "2020-11-18T10:22:01.424370Z",
     "shell.execute_reply": "2020-11-18T10:22:01.422370Z",
     "shell.execute_reply.started": "2020-11-18T10:22:01.413364Z"
    }
   },
   "outputs": [
    {
     "data": {
      "text/plain": [
       "'WEAREDISCOVEREDFLEEATONCE'"
      ]
     },
     "execution_count": 122,
     "metadata": {},
     "output_type": "execute_result"
    }
   ],
   "source": [
    "plain_text"
   ]
  },
  {
   "cell_type": "code",
   "execution_count": 123,
   "metadata": {
    "execution": {
     "iopub.execute_input": "2020-11-18T10:22:03.989595Z",
     "iopub.status.busy": "2020-11-18T10:22:03.988596Z",
     "iopub.status.idle": "2020-11-18T10:22:03.998618Z",
     "shell.execute_reply": "2020-11-18T10:22:03.997613Z",
     "shell.execute_reply.started": "2020-11-18T10:22:03.989595Z"
    }
   },
   "outputs": [
    {
     "data": {
      "text/plain": [
       "'ZEBRAS'"
      ]
     },
     "execution_count": 123,
     "metadata": {},
     "output_type": "execute_result"
    }
   ],
   "source": [
    "key"
   ]
  },
  {
   "cell_type": "code",
   "execution_count": 124,
   "metadata": {
    "execution": {
     "iopub.execute_input": "2020-11-18T10:22:09.971144Z",
     "iopub.status.busy": "2020-11-18T10:22:09.970140Z",
     "iopub.status.idle": "2020-11-18T10:22:09.985141Z",
     "shell.execute_reply": "2020-11-18T10:22:09.983145Z",
     "shell.execute_reply.started": "2020-11-18T10:22:09.971144Z"
    }
   },
   "outputs": [
    {
     "data": {
      "text/plain": [
       "'ASZBRE'"
      ]
     },
     "execution_count": 124,
     "metadata": {},
     "output_type": "execute_result"
    }
   ],
   "source": [
    "f(cipher_text, key)"
   ]
  },
  {
   "cell_type": "code",
   "execution_count": 133,
   "metadata": {
    "execution": {
     "iopub.execute_input": "2020-11-18T10:29:45.777897Z",
     "iopub.status.busy": "2020-11-18T10:29:45.776898Z",
     "iopub.status.idle": "2020-11-18T10:29:45.791914Z",
     "shell.execute_reply": "2020-11-18T10:29:45.788918Z",
     "shell.execute_reply.started": "2020-11-18T10:29:45.777897Z"
    }
   },
   "outputs": [
    {
     "data": {
      "text/plain": [
       "'EVLNACDTESEAROFODEECWIREE'"
      ]
     },
     "execution_count": 133,
     "metadata": {},
     "output_type": "execute_result"
    }
   ],
   "source": [
    "key = 'ZEBRAS'\n",
    "plain_text = 'WEAREDISCOVEREDFLEEATONCE'\n",
    "cipher_text = 'EVLNACDTESEAROFODEECWIREE'\n",
    "\n",
    "encrypt(plain_text, key)"
   ]
  },
  {
   "cell_type": "code",
   "execution_count": 129,
   "metadata": {
    "execution": {
     "iopub.execute_input": "2020-11-18T10:28:55.768444Z",
     "iopub.status.busy": "2020-11-18T10:28:55.766839Z",
     "iopub.status.idle": "2020-11-18T10:28:55.817478Z",
     "shell.execute_reply": "2020-11-18T10:28:55.812571Z",
     "shell.execute_reply.started": "2020-11-18T10:28:55.768444Z"
    }
   },
   "outputs": [],
   "source": [
    "def encrypt(message, keyword):\n",
    "    matrix = createEncMatrix(len(keyword), message)\n",
    "    keywordSequence = getKeywordSequence(keyword)\n",
    "\n",
    "    ciphertext = \"\";\n",
    "    for num in range(len(keywordSequence)):\n",
    "        pos = keywordSequence.index(num+1)\n",
    "        for row in range(len(matrix)):\n",
    "            if len(matrix[row]) > pos:\n",
    "                ciphertext += matrix[row][pos]\n",
    "    return ciphertext\n",
    "\n",
    "\n",
    "def createEncMatrix(width, message):\n",
    "    r = 0\n",
    "    c = 0\n",
    "    matrix = [[]]\n",
    "    for pos, ch in enumerate(message):\n",
    "        matrix[r].append(ch)\n",
    "        c += 1\n",
    "        if c >= width:\n",
    "            c = 0\n",
    "            r += 1\n",
    "            matrix.append([])\n",
    "\n",
    "    return matrix\n",
    "\n",
    "\n",
    "def getKeywordSequence(keyword):\n",
    "    sequence = []\n",
    "    for pos, ch in enumerate(keyword):\n",
    "        previousLetters = keyword[:pos]\n",
    "        newNumber = 1\n",
    "        for previousPos, previousCh in enumerate(previousLetters):\n",
    "            if previousCh > ch:\n",
    "                sequence[previousPos] += 1\n",
    "            else:\n",
    "                newNumber += 1\n",
    "        sequence.append(newNumber)\n",
    "    return sequence\n"
   ]
  },
  {
   "cell_type": "code",
   "execution_count": 137,
   "metadata": {
    "execution": {
     "iopub.execute_input": "2020-11-18T10:41:11.484163Z",
     "iopub.status.busy": "2020-11-18T10:41:11.484163Z",
     "iopub.status.idle": "2020-11-18T10:41:11.504166Z",
     "shell.execute_reply": "2020-11-18T10:41:11.503165Z",
     "shell.execute_reply.started": "2020-11-18T10:41:11.484163Z"
    }
   },
   "outputs": [],
   "source": [
    "def decrypt(message, keyword):\n",
    "    matrix = createDecrMatrix(getKeywordSequence(keyword), message)\n",
    "\n",
    "    plaintext = \"\";\n",
    "    for r in range(len(matrix)):\n",
    "        for c in range (len(matrix[r])):\n",
    "            plaintext += matrix[r][c]\n",
    "    return plaintext\n",
    "\n",
    "\n",
    "def createDecrMatrix(keywordSequence, message):\n",
    "    width = len(keywordSequence)\n",
    "    height = len(message) / width\n",
    "    if height * width < len(message):\n",
    "        height += 1\n",
    "\n",
    "    matrix = createEmptyMatrix(width, height, len(message))\n",
    "\n",
    "    pos = 0\n",
    "    for num in range(len(keywordSequence)):\n",
    "        column = keywordSequence.index(num+1)\n",
    "\n",
    "        r = 0\n",
    "        while (r < len(matrix)) and (len(matrix[r]) > column):\n",
    "            matrix[r][column] = message[pos]\n",
    "            r += 1\n",
    "            pos += 1\n",
    "\n",
    "    return matrix\n",
    "\n",
    "\n",
    "def createEmptyMatrix(width, height, length):\n",
    "    matrix = []\n",
    "    totalAdded = 0\n",
    "    for r in range(height):\n",
    "        matrix.append([])\n",
    "        for c in range(width):\n",
    "            if totalAdded >= length:\n",
    "                return matrix\n",
    "            matrix[r].append('')\n",
    "            totalAdded += 1\n",
    "    return matrix\n",
    "\n",
    "\n",
    "def getKeywordSequence(keyword):\n",
    "    sequence = []\n",
    "    for pos, ch in enumerate(keyword):\n",
    "        previousLetters = keyword[:pos]\n",
    "        newNumber = 1\n",
    "        for previousPos, previousCh in enumerate(previousLetters):\n",
    "            if previousCh > ch:\n",
    "                sequence[previousPos] += 1\n",
    "            else:\n",
    "                newNumber += 1\n",
    "        sequence.append(newNumber)\n",
    "    return sequence\n"
   ]
  },
  {
   "cell_type": "code",
   "execution_count": 138,
   "metadata": {
    "execution": {
     "iopub.execute_input": "2020-11-18T10:41:18.558789Z",
     "iopub.status.busy": "2020-11-18T10:41:18.557790Z",
     "iopub.status.idle": "2020-11-18T10:41:18.612801Z",
     "shell.execute_reply": "2020-11-18T10:41:18.610796Z",
     "shell.execute_reply.started": "2020-11-18T10:41:18.558789Z"
    }
   },
   "outputs": [
    {
     "ename": "TypeError",
     "evalue": "'float' object cannot be interpreted as an integer",
     "output_type": "error",
     "traceback": [
      "\u001b[1;31m---------------------------------------------------------------------------\u001b[0m",
      "\u001b[1;31mTypeError\u001b[0m                                 Traceback (most recent call last)",
      "\u001b[1;32m<ipython-input-138-059c9f80ae70>\u001b[0m in \u001b[0;36m<module>\u001b[1;34m\u001b[0m\n\u001b[0;32m      3\u001b[0m \u001b[0mcipher_text\u001b[0m \u001b[1;33m=\u001b[0m \u001b[1;34m'EVLNACDTESEAROFODEECWIREE'\u001b[0m\u001b[1;33m\u001b[0m\u001b[1;33m\u001b[0m\u001b[0m\n\u001b[0;32m      4\u001b[0m \u001b[1;33m\u001b[0m\u001b[0m\n\u001b[1;32m----> 5\u001b[1;33m \u001b[0mdecrypt\u001b[0m\u001b[1;33m(\u001b[0m\u001b[0mcipher_text\u001b[0m\u001b[1;33m,\u001b[0m \u001b[0mkey\u001b[0m\u001b[1;33m)\u001b[0m\u001b[1;33m\u001b[0m\u001b[1;33m\u001b[0m\u001b[0m\n\u001b[0m",
      "\u001b[1;32m<ipython-input-137-17445bcfa12f>\u001b[0m in \u001b[0;36mdecrypt\u001b[1;34m(message, keyword)\u001b[0m\n\u001b[0;32m      1\u001b[0m \u001b[1;32mdef\u001b[0m \u001b[0mdecrypt\u001b[0m\u001b[1;33m(\u001b[0m\u001b[0mmessage\u001b[0m\u001b[1;33m,\u001b[0m \u001b[0mkeyword\u001b[0m\u001b[1;33m)\u001b[0m\u001b[1;33m:\u001b[0m\u001b[1;33m\u001b[0m\u001b[1;33m\u001b[0m\u001b[0m\n\u001b[1;32m----> 2\u001b[1;33m     \u001b[0mmatrix\u001b[0m \u001b[1;33m=\u001b[0m \u001b[0mcreateDecrMatrix\u001b[0m\u001b[1;33m(\u001b[0m\u001b[0mgetKeywordSequence\u001b[0m\u001b[1;33m(\u001b[0m\u001b[0mkeyword\u001b[0m\u001b[1;33m)\u001b[0m\u001b[1;33m,\u001b[0m \u001b[0mmessage\u001b[0m\u001b[1;33m)\u001b[0m\u001b[1;33m\u001b[0m\u001b[1;33m\u001b[0m\u001b[0m\n\u001b[0m\u001b[0;32m      3\u001b[0m \u001b[1;33m\u001b[0m\u001b[0m\n\u001b[0;32m      4\u001b[0m     \u001b[0mplaintext\u001b[0m \u001b[1;33m=\u001b[0m \u001b[1;34m\"\"\u001b[0m\u001b[1;33m;\u001b[0m\u001b[1;33m\u001b[0m\u001b[1;33m\u001b[0m\u001b[0m\n\u001b[0;32m      5\u001b[0m     \u001b[1;32mfor\u001b[0m \u001b[0mr\u001b[0m \u001b[1;32min\u001b[0m \u001b[0mrange\u001b[0m\u001b[1;33m(\u001b[0m\u001b[0mlen\u001b[0m\u001b[1;33m(\u001b[0m\u001b[0mmatrix\u001b[0m\u001b[1;33m)\u001b[0m\u001b[1;33m)\u001b[0m\u001b[1;33m:\u001b[0m\u001b[1;33m\u001b[0m\u001b[1;33m\u001b[0m\u001b[0m\n",
      "\u001b[1;32m<ipython-input-137-17445bcfa12f>\u001b[0m in \u001b[0;36mcreateDecrMatrix\u001b[1;34m(keywordSequence, message)\u001b[0m\n\u001b[0;32m     15\u001b[0m         \u001b[0mheight\u001b[0m \u001b[1;33m+=\u001b[0m \u001b[1;36m1\u001b[0m\u001b[1;33m\u001b[0m\u001b[1;33m\u001b[0m\u001b[0m\n\u001b[0;32m     16\u001b[0m \u001b[1;33m\u001b[0m\u001b[0m\n\u001b[1;32m---> 17\u001b[1;33m     \u001b[0mmatrix\u001b[0m \u001b[1;33m=\u001b[0m \u001b[0mcreateEmptyMatrix\u001b[0m\u001b[1;33m(\u001b[0m\u001b[0mwidth\u001b[0m\u001b[1;33m,\u001b[0m \u001b[0mheight\u001b[0m\u001b[1;33m,\u001b[0m \u001b[0mlen\u001b[0m\u001b[1;33m(\u001b[0m\u001b[0mmessage\u001b[0m\u001b[1;33m)\u001b[0m\u001b[1;33m)\u001b[0m\u001b[1;33m\u001b[0m\u001b[1;33m\u001b[0m\u001b[0m\n\u001b[0m\u001b[0;32m     18\u001b[0m \u001b[1;33m\u001b[0m\u001b[0m\n\u001b[0;32m     19\u001b[0m     \u001b[0mpos\u001b[0m \u001b[1;33m=\u001b[0m \u001b[1;36m0\u001b[0m\u001b[1;33m\u001b[0m\u001b[1;33m\u001b[0m\u001b[0m\n",
      "\u001b[1;32m<ipython-input-137-17445bcfa12f>\u001b[0m in \u001b[0;36mcreateEmptyMatrix\u001b[1;34m(width, height, length)\u001b[0m\n\u001b[0;32m     33\u001b[0m     \u001b[0mmatrix\u001b[0m \u001b[1;33m=\u001b[0m \u001b[1;33m[\u001b[0m\u001b[1;33m]\u001b[0m\u001b[1;33m\u001b[0m\u001b[1;33m\u001b[0m\u001b[0m\n\u001b[0;32m     34\u001b[0m     \u001b[0mtotalAdded\u001b[0m \u001b[1;33m=\u001b[0m \u001b[1;36m0\u001b[0m\u001b[1;33m\u001b[0m\u001b[1;33m\u001b[0m\u001b[0m\n\u001b[1;32m---> 35\u001b[1;33m     \u001b[1;32mfor\u001b[0m \u001b[0mr\u001b[0m \u001b[1;32min\u001b[0m \u001b[0mrange\u001b[0m\u001b[1;33m(\u001b[0m\u001b[0mheight\u001b[0m\u001b[1;33m)\u001b[0m\u001b[1;33m:\u001b[0m\u001b[1;33m\u001b[0m\u001b[1;33m\u001b[0m\u001b[0m\n\u001b[0m\u001b[0;32m     36\u001b[0m         \u001b[0mmatrix\u001b[0m\u001b[1;33m.\u001b[0m\u001b[0mappend\u001b[0m\u001b[1;33m(\u001b[0m\u001b[1;33m[\u001b[0m\u001b[1;33m]\u001b[0m\u001b[1;33m)\u001b[0m\u001b[1;33m\u001b[0m\u001b[1;33m\u001b[0m\u001b[0m\n\u001b[0;32m     37\u001b[0m         \u001b[1;32mfor\u001b[0m \u001b[0mc\u001b[0m \u001b[1;32min\u001b[0m \u001b[0mrange\u001b[0m\u001b[1;33m(\u001b[0m\u001b[0mwidth\u001b[0m\u001b[1;33m)\u001b[0m\u001b[1;33m:\u001b[0m\u001b[1;33m\u001b[0m\u001b[1;33m\u001b[0m\u001b[0m\n",
      "\u001b[1;31mTypeError\u001b[0m: 'float' object cannot be interpreted as an integer"
     ]
    }
   ],
   "source": [
    "key = 'ZEBRAS'\n",
    "plain_text = 'WEAREDISCOVEREDFLEEATONCE'\n",
    "cipher_text = 'EVLNACDTESEAROFODEECWIREE'\n",
    "\n",
    "decrypt(cipher_text, key)"
   ]
  },
  {
   "cell_type": "code",
   "execution_count": 84,
   "metadata": {
    "execution": {
     "iopub.execute_input": "2020-11-18T09:50:31.034004Z",
     "iopub.status.busy": "2020-11-18T09:50:31.032988Z",
     "iopub.status.idle": "2020-11-18T09:50:31.063995Z",
     "shell.execute_reply": "2020-11-18T09:50:31.060026Z",
     "shell.execute_reply.started": "2020-11-18T09:50:31.034004Z"
    }
   },
   "outputs": [],
   "source": [
    "def argsort(seq):\n",
    "    '''A helper function that returns the tuple of indices that would sort the\n",
    "    sequence seq.'''\n",
    "    return tuple(x[0] for x in sorted(enumerate(seq), key=lambda x: x[1]))\n",
    "\n",
    "\n",
    "def ct_idx(length, key):\n",
    "    '''A helper function that returns the tuple of indices that would permute \n",
    "    the letters of a message according to the key using the irregular case of \n",
    "    columnar transposition cipher.'''\n",
    "    last_row_size = length % len(key)\n",
    "    num_rows = length // len(key) + (1 if last_row_size else 0)\n",
    "    seq = tuple(range(length))\n",
    "    matrix = [[1,2,3],[4,5,6]]\n",
    "    return tuple(matrix[i][j] for j in argsort(key)\n",
    "                 for i in range(num_rows - (1 if j >= last_row_size else 0)))\n",
    "\n",
    "\n",
    "def ct_encrypt(plaintext, key):\n",
    "    '''\n",
    "    Return the ciphertext of a plaintext by the key using the irregular case\n",
    "    of columnar transposition cipher.\n",
    "\n",
    "    Parameters\n",
    "    ----------\n",
    "    plaintext (str): a message in uppercase without punctuations/spaces.\n",
    "    key (str): secret key to encrypt plaintext.\n",
    "    '''\n",
    "    return ''.join([plaintext[i] for i in ct_idx(len(plaintext), key)])\n",
    "\n",
    "\n",
    "def ct_decrypt(ciphertext, key):\n",
    "    '''\n",
    "    Return the plaintext of the ciphertext by the key using the irregular case\n",
    "    of columnar transposition cipher.\n",
    "\n",
    "    Parameters\n",
    "    ----------\n",
    "    ciphertext (str): a string in uppercase without punctuations/spaces.\n",
    "    key (str): secret key to decrypt ciphertext.\n",
    "    '''        \n",
    "    return 'hello'"
   ]
  },
  {
   "cell_type": "code",
   "execution_count": 86,
   "metadata": {
    "execution": {
     "iopub.execute_input": "2020-11-18T09:50:56.915297Z",
     "iopub.status.busy": "2020-11-18T09:50:56.915297Z",
     "iopub.status.idle": "2020-11-18T09:50:56.923304Z",
     "shell.execute_reply": "2020-11-18T09:50:56.922298Z",
     "shell.execute_reply.started": "2020-11-18T09:50:56.915297Z"
    }
   },
   "outputs": [
    {
     "data": {
      "text/plain": [
       "['A', 'B', 'E', 'R', 'S', 'Z']"
      ]
     },
     "execution_count": 86,
     "metadata": {},
     "output_type": "execute_result"
    }
   ],
   "source": [
    "sorted(key)"
   ]
  },
  {
   "cell_type": "code",
   "execution_count": 89,
   "metadata": {
    "execution": {
     "iopub.execute_input": "2020-11-18T09:53:57.716441Z",
     "iopub.status.busy": "2020-11-18T09:53:57.715445Z",
     "iopub.status.idle": "2020-11-18T09:53:57.751452Z",
     "shell.execute_reply": "2020-11-18T09:53:57.750475Z",
     "shell.execute_reply.started": "2020-11-18T09:53:57.716441Z"
    }
   },
   "outputs": [
    {
     "ename": "IndexError",
     "evalue": "list index out of range",
     "output_type": "error",
     "traceback": [
      "\u001b[1;31m---------------------------------------------------------------------------\u001b[0m",
      "\u001b[1;31mIndexError\u001b[0m                                Traceback (most recent call last)",
      "\u001b[1;32m<ipython-input-89-a0e6f3771277>\u001b[0m in \u001b[0;36m<module>\u001b[1;34m\u001b[0m\n\u001b[0;32m      5\u001b[0m \u001b[1;33m\u001b[0m\u001b[0m\n\u001b[0;32m      6\u001b[0m \u001b[0margsort\u001b[0m\u001b[1;33m(\u001b[0m\u001b[0mkey\u001b[0m\u001b[1;33m)\u001b[0m \u001b[1;31m# ZEBRAS becomes sorted like this ->>> ['A', 'B', 'E', 'R', 'S', 'Z'] then to this ->>> (4, 2, 1, 3, 5, 0)\u001b[0m\u001b[1;33m\u001b[0m\u001b[1;33m\u001b[0m\u001b[0m\n\u001b[1;32m----> 7\u001b[1;33m \u001b[0mct_encrypt\u001b[0m\u001b[1;33m(\u001b[0m\u001b[0mplaintext\u001b[0m\u001b[1;33m,\u001b[0m \u001b[0mkey\u001b[0m\u001b[1;33m)\u001b[0m\u001b[1;33m\u001b[0m\u001b[1;33m\u001b[0m\u001b[0m\n\u001b[0m",
      "\u001b[1;32m<ipython-input-84-e4bf4bdf8a37>\u001b[0m in \u001b[0;36mct_encrypt\u001b[1;34m(plaintext, key)\u001b[0m\n\u001b[0;32m     27\u001b[0m     \u001b[0mkey\u001b[0m \u001b[1;33m(\u001b[0m\u001b[0mstr\u001b[0m\u001b[1;33m)\u001b[0m\u001b[1;33m:\u001b[0m \u001b[0msecret\u001b[0m \u001b[0mkey\u001b[0m \u001b[0mto\u001b[0m \u001b[0mencrypt\u001b[0m \u001b[0mplaintext\u001b[0m\u001b[1;33m.\u001b[0m\u001b[1;33m\u001b[0m\u001b[1;33m\u001b[0m\u001b[0m\n\u001b[0;32m     28\u001b[0m     '''\n\u001b[1;32m---> 29\u001b[1;33m     \u001b[1;32mreturn\u001b[0m \u001b[1;34m''\u001b[0m\u001b[1;33m.\u001b[0m\u001b[0mjoin\u001b[0m\u001b[1;33m(\u001b[0m\u001b[1;33m[\u001b[0m\u001b[0mplaintext\u001b[0m\u001b[1;33m[\u001b[0m\u001b[0mi\u001b[0m\u001b[1;33m]\u001b[0m \u001b[1;32mfor\u001b[0m \u001b[0mi\u001b[0m \u001b[1;32min\u001b[0m \u001b[0mct_idx\u001b[0m\u001b[1;33m(\u001b[0m\u001b[0mlen\u001b[0m\u001b[1;33m(\u001b[0m\u001b[0mplaintext\u001b[0m\u001b[1;33m)\u001b[0m\u001b[1;33m,\u001b[0m \u001b[0mkey\u001b[0m\u001b[1;33m)\u001b[0m\u001b[1;33m]\u001b[0m\u001b[1;33m)\u001b[0m\u001b[1;33m\u001b[0m\u001b[1;33m\u001b[0m\u001b[0m\n\u001b[0m\u001b[0;32m     30\u001b[0m \u001b[1;33m\u001b[0m\u001b[0m\n\u001b[0;32m     31\u001b[0m \u001b[1;33m\u001b[0m\u001b[0m\n",
      "\u001b[1;32m<ipython-input-84-e4bf4bdf8a37>\u001b[0m in \u001b[0;36mct_idx\u001b[1;34m(length, key)\u001b[0m\n\u001b[0;32m     13\u001b[0m     \u001b[0mseq\u001b[0m \u001b[1;33m=\u001b[0m \u001b[0mtuple\u001b[0m\u001b[1;33m(\u001b[0m\u001b[0mrange\u001b[0m\u001b[1;33m(\u001b[0m\u001b[0mlength\u001b[0m\u001b[1;33m)\u001b[0m\u001b[1;33m)\u001b[0m\u001b[1;33m\u001b[0m\u001b[1;33m\u001b[0m\u001b[0m\n\u001b[0;32m     14\u001b[0m     \u001b[0mmatrix\u001b[0m \u001b[1;33m=\u001b[0m \u001b[1;33m[\u001b[0m\u001b[1;33m[\u001b[0m\u001b[1;36m1\u001b[0m\u001b[1;33m,\u001b[0m\u001b[1;36m2\u001b[0m\u001b[1;33m,\u001b[0m\u001b[1;36m3\u001b[0m\u001b[1;33m]\u001b[0m\u001b[1;33m,\u001b[0m\u001b[1;33m[\u001b[0m\u001b[1;36m4\u001b[0m\u001b[1;33m,\u001b[0m\u001b[1;36m5\u001b[0m\u001b[1;33m,\u001b[0m\u001b[1;36m6\u001b[0m\u001b[1;33m]\u001b[0m\u001b[1;33m]\u001b[0m\u001b[1;33m\u001b[0m\u001b[1;33m\u001b[0m\u001b[0m\n\u001b[1;32m---> 15\u001b[1;33m     return tuple(matrix[i][j] for j in argsort(key)\n\u001b[0m\u001b[0;32m     16\u001b[0m                  for i in range(num_rows - (1 if j >= last_row_size else 0)))\n\u001b[0;32m     17\u001b[0m \u001b[1;33m\u001b[0m\u001b[0m\n",
      "\u001b[1;32m<ipython-input-84-e4bf4bdf8a37>\u001b[0m in \u001b[0;36m<genexpr>\u001b[1;34m(.0)\u001b[0m\n\u001b[0;32m     14\u001b[0m     \u001b[0mmatrix\u001b[0m \u001b[1;33m=\u001b[0m \u001b[1;33m[\u001b[0m\u001b[1;33m[\u001b[0m\u001b[1;36m1\u001b[0m\u001b[1;33m,\u001b[0m\u001b[1;36m2\u001b[0m\u001b[1;33m,\u001b[0m\u001b[1;36m3\u001b[0m\u001b[1;33m]\u001b[0m\u001b[1;33m,\u001b[0m\u001b[1;33m[\u001b[0m\u001b[1;36m4\u001b[0m\u001b[1;33m,\u001b[0m\u001b[1;36m5\u001b[0m\u001b[1;33m,\u001b[0m\u001b[1;36m6\u001b[0m\u001b[1;33m]\u001b[0m\u001b[1;33m]\u001b[0m\u001b[1;33m\u001b[0m\u001b[1;33m\u001b[0m\u001b[0m\n\u001b[0;32m     15\u001b[0m     return tuple(matrix[i][j] for j in argsort(key)\n\u001b[1;32m---> 16\u001b[1;33m                  for i in range(num_rows - (1 if j >= last_row_size else 0)))\n\u001b[0m\u001b[0;32m     17\u001b[0m \u001b[1;33m\u001b[0m\u001b[0m\n\u001b[0;32m     18\u001b[0m \u001b[1;33m\u001b[0m\u001b[0m\n",
      "\u001b[1;31mIndexError\u001b[0m: list index out of range"
     ]
    }
   ],
   "source": [
    "# tests\n",
    "key = 'ZEBRAS'\n",
    "plaintext = 'WEAREDISCOVEREDFLEEATONCE'\n",
    "ciphertext = 'EVLNACDTESEAROFODEECWIREE'\n",
    "\n",
    "argsort(key) # ZEBRAS becomes sorted like this ->>> ['A', 'B', 'E', 'R', 'S', 'Z'] then to this ->>> (4, 2, 1, 3, 5, 0)\n",
    "ct_encrypt(plaintext, key)"
   ]
  }
 ],
 "metadata": {
  "colab": {
   "name": "Lab7_Cybersecurity-Copy1.ipynb",
   "provenance": []
  },
  "kernelspec": {
   "display_name": "Python 3",
   "language": "python",
   "name": "python3"
  },
  "language_info": {
   "codemirror_mode": {
    "name": "ipython",
    "version": 3
   },
   "file_extension": ".py",
   "mimetype": "text/x-python",
   "name": "python",
   "nbconvert_exporter": "python",
   "pygments_lexer": "ipython3",
   "version": "3.7.4"
  },
  "latex_envs": {
   "LaTeX_envs_menu_present": true,
   "autoclose": false,
   "autocomplete": true,
   "bibliofile": "biblio.bib",
   "cite_by": "apalike",
   "current_citInitial": 1,
   "eqLabelWithNumbers": true,
   "eqNumInitial": 1,
   "hotkeys": {
    "equation": "Ctrl-E",
    "itemize": "Ctrl-I"
   },
   "labels_anchors": false,
   "latex_user_defs": false,
   "report_style_numbering": false,
   "user_envs_cfg": false
  },
  "rise": {
   "enable_chalkboard": true,
   "scroll": true,
   "theme": "white"
  },
  "toc": {
   "base_numbering": 1,
   "nav_menu": {
    "height": "195px",
    "width": "330px"
   },
   "number_sections": true,
   "sideBar": true,
   "skip_h1_title": true,
   "title_cell": "Table of Contents",
   "title_sidebar": "Contents",
   "toc_cell": false,
   "toc_position": {
    "height": "454.418px",
    "left": "1533px",
    "top": "110.284px",
    "width": "435.327px"
   },
   "toc_section_display": true,
   "toc_window_display": false
  }
 },
 "nbformat": 4,
 "nbformat_minor": 4
}
