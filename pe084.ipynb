{
 "cells": [
  {
   "cell_type": "markdown",
   "metadata": {},
   "source": [
    "# Import"
   ]
  },
  {
   "cell_type": "code",
   "execution_count": 10,
   "metadata": {
    "collapsed": true,
    "jupyter": {
     "outputs_hidden": true
    },
    "tags": []
   },
   "outputs": [
    {
     "name": "stdout",
     "output_type": "stream",
     "text": [
      "Collecting pandas\n",
      "  Downloading pandas-1.3.4-cp37-cp37m-manylinux_2_17_x86_64.manylinux2014_x86_64.whl (11.3 MB)\n",
      "\u001b[K     |████████████████████████████████| 11.3 MB 4.7 MB/s eta 0:00:01\n",
      "\u001b[?25hCollecting numpy>=1.17.3\n",
      "  Downloading numpy-1.21.4-cp37-cp37m-manylinux_2_12_x86_64.manylinux2010_x86_64.whl (15.7 MB)\n",
      "\u001b[K     |████████████████████████████████| 15.7 MB 66.1 MB/s eta 0:00:01\n",
      "\u001b[?25hRequirement already satisfied: python-dateutil>=2.7.3 in /srv/conda/envs/notebook/lib/python3.7/site-packages (from pandas) (2.8.2)\n",
      "Requirement already satisfied: pytz>=2017.3 in /srv/conda/envs/notebook/lib/python3.7/site-packages (from pandas) (2021.3)\n",
      "Requirement already satisfied: six>=1.5 in /srv/conda/envs/notebook/lib/python3.7/site-packages (from python-dateutil>=2.7.3->pandas) (1.16.0)\n",
      "Installing collected packages: numpy, pandas\n",
      "Successfully installed numpy-1.21.4 pandas-1.3.4\n"
     ]
    }
   ],
   "source": [
    "!pip install pandas"
   ]
  },
  {
   "cell_type": "code",
   "execution_count": 1,
   "metadata": {},
   "outputs": [
    {
     "name": "stdout",
     "output_type": "stream",
     "text": [
      "last saved 11nov 14:05\n"
     ]
    }
   ],
   "source": [
    "print('last saved 11nov 14:05')"
   ]
  },
  {
   "cell_type": "code",
   "execution_count": 31,
   "metadata": {},
   "outputs": [],
   "source": [
    "import random\n",
    "import pandas as pd\n",
    "import time\n"
   ]
  },
  {
   "cell_type": "markdown",
   "metadata": {},
   "source": [
    "# Project Euler P084"
   ]
  },
  {
   "attachments": {
    "c5fa81b7-06d8-440c-a2cb-213ff9f9283b.png": {
     "image/png": "[encoded data removed]"
    }
   },
   "cell_type": "markdown",
   "metadata": {},
   "source": [
    "![image.png](attachment:c5fa81b7-06d8-440c-a2cb-213ff9f9283b.png)"
   ]
  },
  {
   "cell_type": "markdown",
   "metadata": {
    "tags": []
   },
   "source": [
    "In the game, Monopoly, the standard board is set up in the following way:\n",
    "\n",
    "Community Chest (2/16 cards):\n",
    "* Advance to GO\n",
    "* Go to JAIL\n",
    "\n",
    "Chance (10/16 cards):\n",
    "\n",
    "* Advance to GO\n",
    "* Go to JAIL\n",
    "* Go to C1\n",
    "* Go to E3\n",
    "* Go to H2\n",
    "* Go to R1\n",
    "* Go to next R (railway company)\n",
    "* Go to next R\n",
    "* Go to next U (utility company)\n",
    "* Go back 3 squares.\n",
    "\n",
    "\n",
    "The heart of this problem concerns the likelihood of visiting a particular square. That is, the probability of finishing at that square after a roll. For this reason it should be clear that, with the exception of G2J for which the probability of finishing on it is zero, the CH squares will have the lowest probabilities, as 5/8 request a movement to another square, and it is the final square that the player finishes at on each roll that we are interested in. We shall make no distinction between \"Just Visiting\" and being sent to JAIL, and we shall also ignore the rule about requiring a double to \"get out of jail\", assuming that they pay to get out on their next turn.\n",
    "\n",
    "By starting at GO and numbering the squares sequentially from 00 to 39 we can concatenate these two-digit numbers to produce strings that correspond with sets of squares.\n",
    "\n",
    "Statistically it can be shown that the three most popular squares, in order, are JAIL (6.24%) = Square 10, E3 (3.18%) = Square 24, and GO (3.09%) = Square 00. So these three most popular squares can be listed with the six-digit modal string: 102400.\n",
    "\n",
    "If, instead of using two 6-sided dice, two 4-sided dice are used, find the six-digit modal string."
   ]
  },
  {
   "cell_type": "markdown",
   "metadata": {
    "tags": []
   },
   "source": [
    "## Set Monopoly Squares"
   ]
  },
  {
   "cell_type": "code",
   "execution_count": 11,
   "metadata": {},
   "outputs": [
    {
     "name": "stdout",
     "output_type": "stream",
     "text": [
      "[10, 99, 99, 99, 99, 99, 99, 99, 99, 99, 99, 99, 99, 99, 99, 0]\n",
      "[99, 5, 99, 24, [12, 28], 99, [5, 15, 25, 35], 10, 99, [5, 15, 25, 35], -3, 99, 11, 0, 99, 39]\n"
     ]
    }
   ],
   "source": [
    "#pe084 - Monopoly odds\n",
    "lst_monopoly_squares = [\n",
    "    'GO', 'A1', 'CC1', 'A2', 'T1', 'R1', 'B1', 'CH1', 'B2', 'B3', 'JAIL', 'C1',\n",
    "    'U1', 'C2', 'C3', 'R2', 'D1', 'CC2', 'D2', 'D3', 'FP', 'E1', 'CH2', 'E2',\n",
    "    'E3', 'R3', 'F1', 'F2', 'U2', 'F3', 'G2J', 'G1', 'G2', 'CC3', 'G3', 'R4',\n",
    "    'CH3', 'H1', 'T2', 'H2'\n",
    "]\n",
    "\n",
    "lst_comchest = [0, 10] + [99] * 14\n",
    "random.shuffle(lst_comchest)\n",
    "\n",
    "lst_chance = [0, 10, 11, 24, 39, 5, [5, 15, 25, 35], [5, 15, 25, 35], [12, 28], -3] + [99] * 6\n",
    "random.shuffle(lst_chance)\n",
    "\n",
    "print(lst_comchest)\n",
    "print(lst_chance)\n",
    "\n"
   ]
  },
  {
   "cell_type": "code",
   "execution_count": 12,
   "metadata": {},
   "outputs": [],
   "source": [
    "lst_comchest_pos = [2, 17, 33]\n",
    "lst_chance_pos = [7, 22, 36]"
   ]
  },
  {
   "cell_type": "code",
   "execution_count": 13,
   "metadata": {},
   "outputs": [
    {
     "name": "stdout",
     "output_type": "stream",
     "text": [
      "comechest cards:  [10, 99, 99, 99, 99, 99, 99, 99, 99, 99, 99, 99, 99, 99, 99, 0]\n",
      "chance cards:  [99, 5, 99, 24, [12, 28], 99, [5, 15, 25, 35], 10, 99, [5, 15, 25, 35], -3, 99, 11, 0, 99, 39]\n"
     ]
    }
   ],
   "source": [
    "gCOMCHESTLOC = 0\n",
    "gCHANCELOC = 0\n",
    "gRollingDoubles = 0\n",
    "\n",
    "\n",
    "\n",
    "print('comechest cards: ', lst_comchest)\n",
    "print('chance cards: ',lst_chance)"
   ]
  },
  {
   "cell_type": "markdown",
   "metadata": {},
   "source": [
    "## Functions"
   ]
  },
  {
   "cell_type": "markdown",
   "metadata": {},
   "source": [
    "### func: move_from"
   ]
  },
  {
   "cell_type": "code",
   "execution_count": 88,
   "metadata": {},
   "outputs": [],
   "source": [
    "def move_from(currpos):\n",
    "    \n",
    "    global gRollingDoubles\n",
    "    \n",
    "    dice_sides = 6\n",
    "    \n",
    "    dice1 = random.randint(1, dice_sides)\n",
    "    dice2 = random.randint(1, dice_sides)\n",
    "    \n",
    "    dice_roll = dice1 + dice2\n",
    "    \n",
    "    if dice1 == dice2:\n",
    "        gRollingDoubles += 1\n",
    "    else:\n",
    "        gRollingDoubles = 0\n",
    " \n",
    "    if gRollingDoubles == 1:\n",
    "        logger.debug(f'rolled 1st double in {currpos}')\n",
    "        pass\n",
    "    \n",
    "    if gRollingDoubles == 2:\n",
    "        logger.debug(f'rolled 2nd double in {currpos}')\n",
    "        pass\n",
    "    \n",
    "    if gRollingDoubles == 3:\n",
    "        logger.debug(f'rolled 3rd double in {currpos}... and now going to jail')\n",
    "#         print('rolled 3 doubles, going to jail.. from ', newpos)\n",
    "        newpos = 10 # go to jail\n",
    "        gRollingDoubles = 0\n",
    "        return newpos\n",
    "\n",
    "    \n",
    "    newpos = (currpos + dice_roll) % 40\n",
    " \n",
    " \n",
    "    logger.debug(f'...... dice rolled: {dice_roll}, from: {currpos} to: {newpos}')\n",
    "    \n",
    "    \n",
    "    if newpos == 20:\n",
    "        logger.debug(f'in {newpos}... should go to jail. RollingDouble#:{gRollingDoubles}')\n",
    "        newpos = 10\n",
    "        gRollingDoubles = 0\n",
    "\n",
    "\n",
    "    \n",
    "\n",
    "#     print('\\n...... dice rolled', currpos, dice_roll, newpos)\n",
    "    return newpos"
   ]
  },
  {
   "cell_type": "markdown",
   "metadata": {},
   "source": [
    "...... dice rolled: 6, from: 25 to: 31\n",
    "...... dice rolled: 9, from: 31 to: 0\n",
    "rolled 1st double in 0\n",
    "...... dice rolled: 10, from: 0 to: 10\n",
    "...... dice rolled: 10, from: 10 to: 10"
   ]
  },
  {
   "cell_type": "markdown",
   "metadata": {},
   "source": [
    "### func: take_chance_card"
   ]
  },
  {
   "cell_type": "code",
   "execution_count": 20,
   "metadata": {},
   "outputs": [],
   "source": [
    "# chace cards:  [11, -3, [12, 28], 99, 99, [5, 15, 25, 35], 99, 0, [5, 15, 25, 35], 39, 99, 99, 24, 5, 10, 99]\n",
    "def take_chance_card(currpos):\n",
    "    global gCHANCELOC\n",
    "    newpos = currpos\n",
    "    \n",
    "    chance_card = lst_chance[gCHANCELOC]\n",
    "    logger.info(f'  in pos:{currpos}, seq: {gCHANCELOC}, card: {chance_card} {type(chance_card)}')\n",
    "#     print('  in pos:', currpos, ' seq: ', gCHANCELOC, ' card: ',  chance_card, type(chance_card))\n",
    "\n",
    "    if (chance_card == 99):\n",
    "        newpos = currpos\n",
    "        pass\n",
    "#         print(' STAYING PUT RIGHT HERE')\n",
    "    elif (type(chance_card) is int and chance_card < 0):\n",
    "        newpos = currpos + chance_card\n",
    "        newpos %= 40\n",
    "        \n",
    "#         print('>>> moving to: ', newpos)\n",
    "        \n",
    "    elif (type(chance_card) is int):   \n",
    "        newpos = chance_card\n",
    "#         print('>>> moving to: ', newpos)\n",
    "        \n",
    "    else:\n",
    "#         print('>>> moving to: ', 'sorry i am a list, i think')\n",
    "                \n",
    "        if currpos > chance_card[-1]:\n",
    "            newpos = chance_card[0]\n",
    "        else:    \n",
    "            for i in chance_card:\n",
    "                if currpos > i:\n",
    "                    continue\n",
    "                else:\n",
    "                    newpos = i\n",
    "                    break\n",
    "        \n",
    "    \n",
    "    \n",
    "    gCHANCELOC += 1\n",
    "    gCHANCELOC %= len(lst_chance)\n",
    "    \n",
    "    return newpos\n",
    "    "
   ]
  },
  {
   "cell_type": "markdown",
   "metadata": {},
   "source": [
    "### func: take_comchest_card"
   ]
  },
  {
   "cell_type": "code",
   "execution_count": 61,
   "metadata": {
    "tags": []
   },
   "outputs": [],
   "source": [
    "# comechest cards:  [99, 99, 99, 0, 99, 99, 99, 99, 99, 10, 99, 99, 99, 99, 99, 99]\n",
    "\n",
    "def take_comchest_card(currpos):\n",
    "    global gCOMCHESTLOC\n",
    "    newpos = currpos\n",
    "    \n",
    "    comchest_card = lst_comchest[gCOMCHESTLOC]\n",
    "    logger.info(f'  in pos:{currpos}, seq: {gCOMCHESTLOC}, card: {comchest_card} {type(comchest_card)}')\n",
    "#     print('  in pos:', currpos, ' seq: ', gCOMCHESTLOC, ' card: ', comchest_card, type(comchest_card))\n",
    "    \n",
    "    if (comchest_card == 99):\n",
    "        newpos = currpos\n",
    "        pass\n",
    "#         print(' STAYING PUT RIGHT HERE')\n",
    "    elif (type(comchest_card) is int):\n",
    "        newpos = comchest_card\n",
    "#         print('>>> moving to: ', newpos)\n",
    "        \n",
    "    else:\n",
    "        pass\n",
    "#         print('>>> moving to: ', 'sorry i am a list, i think')\n",
    "\n",
    "        \n",
    "        \n",
    "        if currpos > comchest_card[-1]:\n",
    "            newpos = comchest_card[0]\n",
    "        else:    \n",
    "            for i in comchest_card:\n",
    "                if currpos > i:\n",
    "                    continue\n",
    "                else:\n",
    "                    newpos = i\n",
    "                    break        \n",
    "        \n",
    "    gCOMCHESTLOC += 1\n",
    "    gCOMCHESTLOC %= len(lst_comchest)\n",
    "    \n",
    "    return newpos"
   ]
  },
  {
   "cell_type": "markdown",
   "metadata": {},
   "source": [
    "# Run Simulation"
   ]
  },
  {
   "cell_type": "code",
   "execution_count": 89,
   "metadata": {},
   "outputs": [],
   "source": [
    "currpos = 0\n",
    "dictsq = {}\n",
    "\n",
    "simcount = 1000000\n",
    "# logger.setLevel(logging.DEBUG)\n",
    "# logger.setLevel(logging.INFO)\n",
    "logger.setLevel(logging.CRITICAL)\n"
   ]
  },
  {
   "cell_type": "code",
   "execution_count": 90,
   "metadata": {
    "_cell_guid": "b1076dfc-b9ad-4769-8c92-a6c4dae69d19",
    "_uuid": "8f2839f25d086af736a60e9eeb907d3b93b6e0e5",
    "jupyter": {
     "source_hidden": true
    },
    "tags": []
   },
   "outputs": [
    {
     "name": "stdout",
     "output_type": "stream",
     "text": [
      "{0: 32195, 1: 21878, 2: 19451, 3: 21836, 4: 23999, 5: 31020, 6: 23600, 7: 9335, 8: 23619, 9: 23643, 10: 67174, 11: 28025, 12: 27380, 13: 24924, 14: 25777, 15: 30493, 16: 29569, 17: 27149, 18: 31083, 19: 32382, 21: 29699, 22: 10940, 23: 26944, 24: 30893, 25: 28319, 26: 24068, 27: 22446, 28: 24284, 29: 22548, 30: 23398, 31: 23859, 32: 24146, 33: 22958, 34: 24030, 35: 24338, 36: 8559, 37: 23624, 38: 22906, 39: 27509}\n"
     ]
    },
    {
     "data": {
      "text/html": [
       "<div>\n",
       "<style scoped>\n",
       "    .dataframe tbody tr th:only-of-type {\n",
       "        vertical-align: middle;\n",
       "    }\n",
       "\n",
       "    .dataframe tbody tr th {\n",
       "        vertical-align: top;\n",
       "    }\n",
       "\n",
       "    .dataframe thead th {\n",
       "        text-align: right;\n",
       "    }\n",
       "</style>\n",
       "<table border=\"1\" class=\"dataframe\">\n",
       "  <thead>\n",
       "    <tr style=\"text-align: right;\">\n",
       "      <th></th>\n",
       "      <th>0</th>\n",
       "      <th>1</th>\n",
       "    </tr>\n",
       "  </thead>\n",
       "  <tbody>\n",
       "    <tr>\n",
       "      <th>0</th>\n",
       "      <td>10</td>\n",
       "      <td>67174</td>\n",
       "    </tr>\n",
       "    <tr>\n",
       "      <th>1</th>\n",
       "      <td>19</td>\n",
       "      <td>32382</td>\n",
       "    </tr>\n",
       "    <tr>\n",
       "      <th>17</th>\n",
       "      <td>0</td>\n",
       "      <td>32195</td>\n",
       "    </tr>\n",
       "    <tr>\n",
       "      <th>13</th>\n",
       "      <td>18</td>\n",
       "      <td>31083</td>\n",
       "    </tr>\n",
       "    <tr>\n",
       "      <th>26</th>\n",
       "      <td>5</td>\n",
       "      <td>31020</td>\n",
       "    </tr>\n",
       "    <tr>\n",
       "      <th>27</th>\n",
       "      <td>24</td>\n",
       "      <td>30893</td>\n",
       "    </tr>\n",
       "    <tr>\n",
       "      <th>6</th>\n",
       "      <td>15</td>\n",
       "      <td>30493</td>\n",
       "    </tr>\n",
       "    <tr>\n",
       "      <th>21</th>\n",
       "      <td>21</td>\n",
       "      <td>29699</td>\n",
       "    </tr>\n",
       "    <tr>\n",
       "      <th>16</th>\n",
       "      <td>16</td>\n",
       "      <td>29569</td>\n",
       "    </tr>\n",
       "    <tr>\n",
       "      <th>22</th>\n",
       "      <td>25</td>\n",
       "      <td>28319</td>\n",
       "    </tr>\n",
       "    <tr>\n",
       "      <th>12</th>\n",
       "      <td>11</td>\n",
       "      <td>28025</td>\n",
       "    </tr>\n",
       "    <tr>\n",
       "      <th>14</th>\n",
       "      <td>39</td>\n",
       "      <td>27509</td>\n",
       "    </tr>\n",
       "    <tr>\n",
       "      <th>5</th>\n",
       "      <td>12</td>\n",
       "      <td>27380</td>\n",
       "    </tr>\n",
       "    <tr>\n",
       "      <th>10</th>\n",
       "      <td>17</td>\n",
       "      <td>27149</td>\n",
       "    </tr>\n",
       "    <tr>\n",
       "      <th>38</th>\n",
       "      <td>23</td>\n",
       "      <td>26944</td>\n",
       "    </tr>\n",
       "    <tr>\n",
       "      <th>34</th>\n",
       "      <td>14</td>\n",
       "      <td>25777</td>\n",
       "    </tr>\n",
       "    <tr>\n",
       "      <th>28</th>\n",
       "      <td>13</td>\n",
       "      <td>24924</td>\n",
       "    </tr>\n",
       "    <tr>\n",
       "      <th>23</th>\n",
       "      <td>35</td>\n",
       "      <td>24338</td>\n",
       "    </tr>\n",
       "    <tr>\n",
       "      <th>20</th>\n",
       "      <td>28</td>\n",
       "      <td>24284</td>\n",
       "    </tr>\n",
       "    <tr>\n",
       "      <th>32</th>\n",
       "      <td>32</td>\n",
       "      <td>24146</td>\n",
       "    </tr>\n",
       "    <tr>\n",
       "      <th>7</th>\n",
       "      <td>26</td>\n",
       "      <td>24068</td>\n",
       "    </tr>\n",
       "    <tr>\n",
       "      <th>11</th>\n",
       "      <td>34</td>\n",
       "      <td>24030</td>\n",
       "    </tr>\n",
       "    <tr>\n",
       "      <th>25</th>\n",
       "      <td>4</td>\n",
       "      <td>23999</td>\n",
       "    </tr>\n",
       "    <tr>\n",
       "      <th>36</th>\n",
       "      <td>31</td>\n",
       "      <td>23859</td>\n",
       "    </tr>\n",
       "    <tr>\n",
       "      <th>15</th>\n",
       "      <td>9</td>\n",
       "      <td>23643</td>\n",
       "    </tr>\n",
       "    <tr>\n",
       "      <th>8</th>\n",
       "      <td>37</td>\n",
       "      <td>23624</td>\n",
       "    </tr>\n",
       "    <tr>\n",
       "      <th>9</th>\n",
       "      <td>8</td>\n",
       "      <td>23619</td>\n",
       "    </tr>\n",
       "    <tr>\n",
       "      <th>33</th>\n",
       "      <td>6</td>\n",
       "      <td>23600</td>\n",
       "    </tr>\n",
       "    <tr>\n",
       "      <th>3</th>\n",
       "      <td>30</td>\n",
       "      <td>23398</td>\n",
       "    </tr>\n",
       "    <tr>\n",
       "      <th>30</th>\n",
       "      <td>33</td>\n",
       "      <td>22958</td>\n",
       "    </tr>\n",
       "    <tr>\n",
       "      <th>24</th>\n",
       "      <td>38</td>\n",
       "      <td>22906</td>\n",
       "    </tr>\n",
       "    <tr>\n",
       "      <th>31</th>\n",
       "      <td>29</td>\n",
       "      <td>22548</td>\n",
       "    </tr>\n",
       "    <tr>\n",
       "      <th>2</th>\n",
       "      <td>27</td>\n",
       "      <td>22446</td>\n",
       "    </tr>\n",
       "    <tr>\n",
       "      <th>4</th>\n",
       "      <td>1</td>\n",
       "      <td>21878</td>\n",
       "    </tr>\n",
       "    <tr>\n",
       "      <th>18</th>\n",
       "      <td>3</td>\n",
       "      <td>21836</td>\n",
       "    </tr>\n",
       "    <tr>\n",
       "      <th>37</th>\n",
       "      <td>2</td>\n",
       "      <td>19451</td>\n",
       "    </tr>\n",
       "    <tr>\n",
       "      <th>35</th>\n",
       "      <td>22</td>\n",
       "      <td>10940</td>\n",
       "    </tr>\n",
       "    <tr>\n",
       "      <th>19</th>\n",
       "      <td>7</td>\n",
       "      <td>9335</td>\n",
       "    </tr>\n",
       "    <tr>\n",
       "      <th>29</th>\n",
       "      <td>36</td>\n",
       "      <td>8559</td>\n",
       "    </tr>\n",
       "  </tbody>\n",
       "</table>\n",
       "</div>"
      ],
      "text/plain": [
       "     0      1\n",
       "0   10  67174\n",
       "1   19  32382\n",
       "17   0  32195\n",
       "13  18  31083\n",
       "26   5  31020\n",
       "27  24  30893\n",
       "6   15  30493\n",
       "21  21  29699\n",
       "16  16  29569\n",
       "22  25  28319\n",
       "12  11  28025\n",
       "14  39  27509\n",
       "5   12  27380\n",
       "10  17  27149\n",
       "38  23  26944\n",
       "34  14  25777\n",
       "28  13  24924\n",
       "23  35  24338\n",
       "20  28  24284\n",
       "32  32  24146\n",
       "7   26  24068\n",
       "11  34  24030\n",
       "25   4  23999\n",
       "36  31  23859\n",
       "15   9  23643\n",
       "8   37  23624\n",
       "9    8  23619\n",
       "33   6  23600\n",
       "3   30  23398\n",
       "30  33  22958\n",
       "24  38  22906\n",
       "31  29  22548\n",
       "2   27  22446\n",
       "4    1  21878\n",
       "18   3  21836\n",
       "37   2  19451\n",
       "35  22  10940\n",
       "19   7   9335\n",
       "29  36   8559"
      ]
     },
     "execution_count": 90,
     "metadata": {},
     "output_type": "execute_result"
    }
   ],
   "source": [
    "\n",
    "for simu in range(simcount):\n",
    "    # time.sleep(1)\n",
    "\n",
    "    currpos = move_from(currpos)\n",
    "    \n",
    "#     print(' in position now:', currpos, lst_monopoly_squares[currpos])\n",
    "    \n",
    "    if currpos in lst_chance_pos:\n",
    "        \n",
    "        # logger.setLevel(logging.CRITICAL)\n",
    "        \n",
    "        logger.info('\\n>>> i am taking chance')\n",
    "#         print('\\n>>> i am taking chance')\n",
    "        currpos = take_chance_card(currpos)\n",
    "        logger.info(f'   moved to {currpos}\\n')\n",
    "        \n",
    "        # logger.setLevel(logging.INFO)\n",
    "#         print('.... moved to', currpos)\n",
    "        pass\n",
    "        #print(mychance_card)\n",
    "    \n",
    "    if currpos in lst_comchest_pos:\n",
    "        # logger.setLevel(logging.CRITICAL)\n",
    "        # logger.setLevel(logging.INFO)\n",
    "        logger.info('\\n>>> i am taking community chest')\n",
    "#         print('\\n>>> i am community chest')\n",
    "        currpos = take_comchest_card(currpos)\n",
    "        logger.info(f'   moved to {currpos}\\n')\n",
    "        # logger.setLevel(logging.INFO)\n",
    "\n",
    "#         print('.... moved to', currpos)\n",
    "        #print(mycomchest_card)\n",
    "        \n",
    "\n",
    "    dictsq[currpos] = dictsq.get(currpos, 0) + 1\n",
    "\n",
    "#     print(dice2, cuminsquare, insquare)\n",
    "\n",
    "print(dict(sorted(dictsq.items())))\n",
    "\n",
    "data_items = dictsq.items()\n",
    "data_list = list(data_items)\n",
    "\n",
    "df = pd.DataFrame(data_list)\n",
    "df.sort_values([1], ascending=False)\n",
    "\n",
    "# answer: 102400"
   ]
  },
  {
   "cell_type": "markdown",
   "metadata": {},
   "source": [
    "# Testing Area"
   ]
  },
  {
   "cell_type": "code",
   "execution_count": 27,
   "metadata": {},
   "outputs": [
    {
     "ename": "ZeroDivisionError",
     "evalue": "division by zero",
     "output_type": "error",
     "traceback": [
      "\u001b[0;31m---------------------------------------------------------------------------\u001b[0m",
      "\u001b[0;31mZeroDivisionError\u001b[0m                         Traceback (most recent call last)",
      "\u001b[0;32m/tmp/ipykernel_67/2354412189.py\u001b[0m in \u001b[0;36m<module>\u001b[0;34m\u001b[0m\n\u001b[0;32m----> 1\u001b[0;31m \u001b[0;36m1\u001b[0m\u001b[0;34m/\u001b[0m\u001b[0;36m0\u001b[0m\u001b[0;34m\u001b[0m\u001b[0;34m\u001b[0m\u001b[0m\n\u001b[0m",
      "\u001b[0;31mZeroDivisionError\u001b[0m: division by zero"
     ]
    }
   ],
   "source": [
    "1/0"
   ]
  },
  {
   "cell_type": "markdown",
   "metadata": {
    "jp-MarkdownHeadingCollapsed": true,
    "tags": []
   },
   "source": [
    "<a id=\"section-one\"></a>\n",
    "## Helper Functions\n",
    "\n",
    "**^html links hidden here, fork notebook then click this cell to see it**\n",
    "<a id=\"section-two\"></a>\n",
    "## Section Two\n",
    "**^html links hidden here, fork notebook then click this cell to see it**\n"
   ]
  },
  {
   "cell_type": "code",
   "execution_count": 23,
   "metadata": {},
   "outputs": [
    {
     "name": "stdout",
     "output_type": "stream",
     "text": [
      "JAIL 10\n",
      "C1 11\n",
      "E3 24\n",
      "H2 39\n",
      "R1 5\n",
      "['R1', 'R2', 'R3', 'R4']\n",
      "^R 5\n",
      "^R 15\n",
      "^R 25\n",
      "^R 35\n",
      "['U1', 'U2']\n",
      "^U 12\n",
      "^U 28\n",
      "['CC1', 'CC2', 'CC3']\n",
      "^CC 2\n",
      "^CC 17\n",
      "^CC 33\n",
      "['CH1', 'CH2', 'CH3']\n",
      "^CH 7\n",
      "^CH 22\n",
      "^CH 36\n"
     ]
    }
   ],
   "source": [
    "import re\n",
    "\n",
    "lst1 = ['JAIL', 'C1', 'E3', 'H2', 'R1']\n",
    "\n",
    "for x in lst1:    \n",
    "    print(x, lst_monopoly_squares.index(x))\n",
    "\n",
    "lst2 = ['^R', '^U', '^CC', '^CH']\n",
    "\n",
    "for x in lst2:    \n",
    "    r = re.compile(x)\n",
    "    new_list = list(filter(r.match, lst_monopoly_squares))\n",
    "    print(new_list)\n",
    "    \n",
    "    for y in new_list:\n",
    "        print(x, lst_monopoly_squares.index(y))"
   ]
  },
  {
   "cell_type": "markdown",
   "metadata": {},
   "source": [
    "## Testing Area"
   ]
  },
  {
   "cell_type": "code",
   "execution_count": 24,
   "metadata": {},
   "outputs": [],
   "source": [
    "# # open the image\n",
    "# img = Image.open('../input/monopoly-image/test.jpg')\n",
    "# # Get the image size\n",
    "# img_size = img.size\n",
    "\n",
    "# print(\"The image size is: {}\".format(img_size))\n",
    "\n",
    "\n",
    "# font = PIL.ImageFont.truetype(\"sans-serif.ttf\", 16)\n",
    "# # draw.text((x, y),\"Sample Text\",(r,g,b))\n",
    "# PIL.draw.text((0, 0),\"Sample Text\",(255,255,255),font=font)\n",
    "\n",
    "# img.resize(size=(800,800))\n",
    "\n",
    "# # img.save('sample-out.jpg')\n",
    "\n",
    "\n",
    "# # Just having the image as the last line in the cell will display it in the notebook\n",
    "# img.show()"
   ]
  },
  {
   "cell_type": "code",
   "execution_count": 25,
   "metadata": {},
   "outputs": [],
   "source": [
    "# from PIL import Image\n",
    "# import requests\n",
    "\n",
    "# url = 'https://m.media-amazon.com/images/I/81oC5pYhh2L._AC_SL1500_.jpg'\n",
    "# im = Image.open(requests.get(url, stream=True).raw)"
   ]
  },
  {
   "cell_type": "code",
   "execution_count": 26,
   "metadata": {},
   "outputs": [
    {
     "ename": "NameError",
     "evalue": "name 'im' is not defined",
     "output_type": "error",
     "traceback": [
      "\u001b[0;31m---------------------------------------------------------------------------\u001b[0m",
      "\u001b[0;31mNameError\u001b[0m                                 Traceback (most recent call last)",
      "\u001b[0;32m/tmp/ipykernel_67/3637634594.py\u001b[0m in \u001b[0;36m<module>\u001b[0;34m\u001b[0m\n\u001b[0;32m----> 1\u001b[0;31m \u001b[0mim\u001b[0m\u001b[0;34m.\u001b[0m\u001b[0mshow\u001b[0m\u001b[0;34m\u001b[0m\u001b[0;34m\u001b[0m\u001b[0m\n\u001b[0m",
      "\u001b[0;31mNameError\u001b[0m: name 'im' is not defined"
     ]
    }
   ],
   "source": [
    "im.show"
   ]
  },
  {
   "cell_type": "code",
   "execution_count": null,
   "metadata": {
    "tags": []
   },
   "outputs": [],
   "source": [
    "mylist = [5, 15, 25, 35]\n",
    "\n",
    "currno = 36\n",
    "\n",
    "if currno > mylist[-1]:\n",
    "    selection = mylist[0]\n",
    "else:    \n",
    "    for i in mylist:\n",
    "        if currno > i:\n",
    "            continue\n",
    "        else:\n",
    "            selection = i\n",
    "            break\n",
    "\n",
    "print(selection)\n",
    "    "
   ]
  },
  {
   "cell_type": "markdown",
   "metadata": {},
   "source": [
    "## Test Markdown"
   ]
  },
  {
   "cell_type": "markdown",
   "metadata": {},
   "source": [
    "Clicking on each link jumps you to the section that is marked. It is really intuitive to use! \n",
    "I would recommend adding a table of contents to any of your published notebooks, so that the reader doesn't get lost.\n",
    "You would want everyone to enjoy reading that kernel that you spent so long on!\n",
    "\n",
    "Links use HTML to target your browser to that specific section of your Kaggle notebook.\n",
    "To see the inner workings and code, please fork this notebook and click on the cells to see the markdown code\n",
    "\n",
    "* [Introduction](#section-one)\n",
    "* [Body](#section-two)\n",
    "    - [Subsectionaaa 1](#subsection-one)\n",
    "    - [Subsectionaaa 2](#anything-you-like)\n",
    "* [Conclusionaaa](#section-three)"
   ]
  },
  {
   "cell_type": "markdown",
   "metadata": {},
   "source": [
    "## Logging Test"
   ]
  },
  {
   "cell_type": "code",
   "execution_count": 2,
   "metadata": {},
   "outputs": [],
   "source": [
    "# del logging, logger, ch, formatter\n",
    "from importlib import reload\n",
    "import logging\n",
    "logging.shutdown()\n",
    "reload(logging)\n",
    "\n",
    "\n",
    "# create logger\n",
    "logger = logging.getLogger('simple_example')\n",
    "logger.setLevel(logging.DEBUG)\n",
    "\n",
    " # create console handler and set level to debug\n",
    "ch = logging.StreamHandler()\n",
    "ch.setLevel(logging.DEBUG)\n",
    "\n",
    "# create formatter\n",
    "#formatter = logging.Formatter('%(asctime)s - %(name)s - %(levelname)s - %(message)s')\n",
    "\n",
    "# add formatter to ch\n",
    "#ch.setFormatter(formatter)\n",
    "\n",
    "# add ch to logger\n",
    "logger.addHandler(ch)\n"
   ]
  },
  {
   "cell_type": "code",
   "execution_count": 3,
   "metadata": {},
   "outputs": [
    {
     "name": "stderr",
     "output_type": "stream",
     "text": [
      "debug message\n",
      "info message\n",
      "warn message\n",
      "error message\n",
      "critical message\n"
     ]
    }
   ],
   "source": [
    "# 'application' code\n",
    "logger.debug('debug message')\n",
    "logger.info('info message')\n",
    "logger.info('warn message')\n",
    "logger.error('error message')\n",
    "logger.critical('critical message')"
   ]
  }
 ],
 "metadata": {
  "kernelspec": {
   "display_name": "Python 3 (ipykernel)",
   "language": "python",
   "name": "python3"
  },
  "language_info": {
   "codemirror_mode": {
    "name": "ipython",
    "version": 3
   },
   "file_extension": ".py",
   "mimetype": "text/x-python",
   "name": "python",
   "nbconvert_exporter": "python",
   "pygments_lexer": "ipython3",
   "version": "3.7.10"
  },
  "toc-autonumbering": true
 },
 "nbformat": 4,
 "nbformat_minor": 4
}
