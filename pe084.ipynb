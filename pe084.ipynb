{
  "nbformat": 4,
  "nbformat_minor": 0,
  "metadata": {
    "kernelspec": {
      "display_name": "Python 3 (ipykernel)",
      "language": "python",
      "name": "python3"
    },
    "language_info": {
      "codemirror_mode": {
        "name": "ipython",
        "version": 3
      },
      "file_extension": ".py",
      "mimetype": "text/x-python",
      "name": "python",
      "nbconvert_exporter": "python",
      "pygments_lexer": "ipython3",
      "version": "3.7.10"
    },
    "toc-autonumbering": true,
    "colab": {
      "name": "pe084.ipynb",
      "provenance": [],
      "toc_visible": true,
      "include_colab_link": true
    }
  },
  "cells": [
    {
      "cell_type": "markdown",
      "metadata": {
        "id": "view-in-github",
        "colab_type": "text"
      },
      "source": [
        "<a href=\"https://colab.research.google.com/github/ihightower/my-first-binder/blob/main/pe084.ipynb\" target=\"_parent\"><img src=\"https://colab.research.google.com/assets/colab-badge.svg\" alt=\"Open In Colab\"/></a>"
      ]
    },
    {
      "cell_type": "markdown",
      "metadata": {
        "id": "kLyvBzqaZGU0"
      },
      "source": [
        "# Import"
      ]
    },
    {
      "cell_type": "code",
      "metadata": {
        "collapsed": true,
        "jupyter": {
          "outputs_hidden": true
        },
        "tags": [],
        "id": "duhX_hrsZGU_"
      },
      "source": [
        "# !pip install pandas"
      ],
      "execution_count": 77,
      "outputs": []
    },
    {
      "cell_type": "code",
      "metadata": {
        "colab": {
          "base_uri": "https://localhost:8080/"
        },
        "id": "1fIvD5W3ZGVC",
        "outputId": "c93f3263-0654-4d32-9b79-41f52a04b011"
      },
      "source": [
        "print('last saved 11nov 14:05')"
      ],
      "execution_count": 78,
      "outputs": [
        {
          "output_type": "stream",
          "name": "stdout",
          "text": [
            "last saved 11nov 14:05\n"
          ]
        }
      ]
    },
    {
      "cell_type": "code",
      "metadata": {
        "id": "zjZH2J9hZGVD"
      },
      "source": [
        "import random\n",
        "import pandas as pd\n",
        "import time\n"
      ],
      "execution_count": 79,
      "outputs": []
    },
    {
      "cell_type": "code",
      "metadata": {
        "id": "bkuZ_XQyZGVf"
      },
      "source": [
        "# del logging, logger, ch, formatter\n",
        "from importlib import reload\n",
        "import logging\n",
        "logging.shutdown()\n",
        "reload(logging)\n",
        "\n",
        "\n",
        "# create logger\n",
        "logger = logging.getLogger('simple_example')\n",
        "logger.setLevel(logging.DEBUG)\n",
        "\n",
        " # create console handler and set level to debug\n",
        "ch = logging.StreamHandler()\n",
        "ch.setLevel(logging.DEBUG)\n",
        "\n",
        "# create formatter\n",
        "#formatter = logging.Formatter('%(asctime)s - %(name)s - %(levelname)s - %(message)s')\n",
        "\n",
        "# add formatter to ch\n",
        "#ch.setFormatter(formatter)\n",
        "\n",
        "# add ch to logger\n",
        "logger.addHandler(ch)\n"
      ],
      "execution_count": 80,
      "outputs": []
    },
    {
      "cell_type": "markdown",
      "metadata": {
        "id": "2dkxl8XRZGVE"
      },
      "source": [
        "# Project Euler P084"
      ]
    },
    {
      "cell_type": "markdown",
      "metadata": {
        "id": "3PVvd-e6ZGVF"
      },
      "source": [
        "<img src=\"https://projecteuler.net/project/images/p084_monopoly_board.png\">\n",
        "\n",
        "\n"
      ]
    },
    {
      "cell_type": "markdown",
      "metadata": {
        "tags": [],
        "id": "N6TEU_PZZGVG"
      },
      "source": [
        "In the game, Monopoly, the standard board is set up in the following way:\n",
        "\n",
        "Community Chest (2/16 cards):\n",
        "* Advance to GO\n",
        "* Go to JAIL\n",
        "\n",
        "Chance (10/16 cards):\n",
        "\n",
        "* Advance to GO\n",
        "* Go to JAIL\n",
        "* Go to C1\n",
        "* Go to E3\n",
        "* Go to H2\n",
        "* Go to R1\n",
        "* Go to next R (railway company)\n",
        "* Go to next R\n",
        "* Go to next U (utility company)\n",
        "* Go back 3 squares.\n",
        "\n",
        "\n",
        "The heart of this problem concerns the likelihood of visiting a particular square. That is, the probability of finishing at that square after a roll. For this reason it should be clear that, with the exception of G2J for which the probability of finishing on it is zero, the CH squares will have the lowest probabilities, as 5/8 request a movement to another square, and it is the final square that the player finishes at on each roll that we are interested in. We shall make no distinction between \"Just Visiting\" and being sent to JAIL, and we shall also ignore the rule about requiring a double to \"get out of jail\", assuming that they pay to get out on their next turn.\n",
        "\n",
        "By starting at GO and numbering the squares sequentially from 00 to 39 we can concatenate these two-digit numbers to produce strings that correspond with sets of squares.\n",
        "\n",
        "Statistically it can be shown that the three most popular squares, in order, are JAIL (6.24%) = Square 10, E3 (3.18%) = Square 24, and GO (3.09%) = Square 00. So these three most popular squares can be listed with the six-digit modal string: 102400.\n",
        "\n",
        "If, instead of using two 6-sided dice, two 4-sided dice are used, find the six-digit modal string."
      ]
    },
    {
      "cell_type": "markdown",
      "metadata": {
        "id": "5Q4Nu0eacyMM"
      },
      "source": [
        "# Code Starts"
      ]
    },
    {
      "cell_type": "markdown",
      "metadata": {
        "tags": [],
        "id": "2JIxjx8kZGVI"
      },
      "source": [
        "## Set Monopoly Squares"
      ]
    },
    {
      "cell_type": "code",
      "metadata": {
        "colab": {
          "base_uri": "https://localhost:8080/"
        },
        "id": "vRPzpHeEZGVJ",
        "outputId": "a21a9b43-8295-4d1b-945c-d9984351765b"
      },
      "source": [
        "#pe084 - Monopoly odds\n",
        "lst_monopoly_squares = [\n",
        "    'GO', 'A1', 'CC1', 'A2', 'T1', 'R1', 'B1', 'CH1', 'B2', 'B3', 'JAIL', 'C1',\n",
        "    'U1', 'C2', 'C3', 'R2', 'D1', 'CC2', 'D2', 'D3', 'FP', 'E1', 'CH2', 'E2',\n",
        "    'E3', 'R3', 'F1', 'F2', 'U2', 'F3', 'G2J', 'G1', 'G2', 'CC3', 'G3', 'R4',\n",
        "    'CH3', 'H1', 'T2', 'H2'\n",
        "]\n",
        "\n",
        "lst_comchest = [0, 10] + [99] * 14\n",
        "random.shuffle(lst_comchest)\n",
        "\n",
        "lst_chance = [0, 10, 11, 24, 39, 5, [5, 15, 25, 35], [5, 15, 25, 35], [12, 28], -3] + [99] * 6\n",
        "random.shuffle(lst_chance)\n",
        "\n",
        "print(lst_comchest)\n",
        "print(lst_chance)\n",
        "\n"
      ],
      "execution_count": 81,
      "outputs": [
        {
          "output_type": "stream",
          "name": "stdout",
          "text": [
            "[99, 99, 99, 99, 99, 99, 99, 10, 99, 99, 99, 99, 0, 99, 99, 99]\n",
            "[10, 24, [5, 15, 25, 35], 99, 11, 39, [12, 28], 99, 99, 99, -3, 5, [5, 15, 25, 35], 99, 0, 99]\n"
          ]
        }
      ]
    },
    {
      "cell_type": "code",
      "metadata": {
        "id": "yNeYX9m9ZGVL"
      },
      "source": [
        "lst_comchest_pos = [2, 17, 33]\n",
        "lst_chance_pos = [7, 22, 36]"
      ],
      "execution_count": 82,
      "outputs": []
    },
    {
      "cell_type": "code",
      "metadata": {
        "colab": {
          "base_uri": "https://localhost:8080/"
        },
        "id": "ECykQYTWZGVM",
        "outputId": "56310bd8-29e8-4c6f-9337-57597c0b7eba"
      },
      "source": [
        "print('comechest cards: ', lst_comchest)\n",
        "print('chance cards: ',lst_chance)"
      ],
      "execution_count": 83,
      "outputs": [
        {
          "output_type": "stream",
          "name": "stdout",
          "text": [
            "comechest cards:  [99, 99, 99, 99, 99, 99, 99, 10, 99, 99, 99, 99, 0, 99, 99, 99]\n",
            "chance cards:  [10, 24, [5, 15, 25, 35], 99, 11, 39, [12, 28], 99, 99, 99, -3, 5, [5, 15, 25, 35], 99, 0, 99]\n"
          ]
        }
      ]
    },
    {
      "cell_type": "markdown",
      "metadata": {
        "id": "vavyoejPZGVN"
      },
      "source": [
        "## Functions"
      ]
    },
    {
      "cell_type": "markdown",
      "metadata": {
        "id": "KAkTrrQuZGVO"
      },
      "source": [
        "### func: move_from"
      ]
    },
    {
      "cell_type": "code",
      "metadata": {
        "id": "WY0UFbNjZGVQ"
      },
      "source": [
        "def move_from(currpos):\n",
        "    \n",
        "    global gRollingDoubles\n",
        "    \n",
        "    dice_sides = 6\n",
        "    \n",
        "    dice1 = random.randint(1, dice_sides)\n",
        "    dice2 = random.randint(1, dice_sides)\n",
        "    \n",
        "    dice_roll = dice1 + dice2\n",
        "    \n",
        "    if dice1 == dice2:\n",
        "        gRollingDoubles += 1\n",
        "    else:\n",
        "        gRollingDoubles = 0\n",
        " \n",
        "    if gRollingDoubles == 1:\n",
        "        logger.debug(f'       rolled 1st double in {currpos}')\n",
        "        # logger.setLevel(logging.WARNING)\n",
        "        pass\n",
        "    \n",
        "    if gRollingDoubles == 2:\n",
        "        logger.warning(f'       rolled 2nd double in {currpos}')\n",
        "        # logger.setLevel(logging.WARNING)\n",
        "        pass\n",
        "    \n",
        "    if gRollingDoubles == 3:\n",
        "        # logger.setLevel(logging.DEBUG)\n",
        "        \n",
        "        logger.critical(f'       rolled 3rd double in {currpos}... and now going to jail')\n",
        " #         print('rolled 3 doubles, going to jail.. from ', newpos)\n",
        "        newpos = 10 # go to jail\n",
        "        gRollingDoubles = 0\n",
        "        \n",
        "        logger.critical(f'...... dice rolled: {dice1}+{dice2}={dice_roll}, from: {currpos} to: {newpos}')\n",
        "        return newpos\n",
        "\n",
        "    \n",
        "    newpos = (currpos + dice_roll) % 40\n",
        " \n",
        " \n",
        "    logger.debug(f'...... dice rolled: {dice1}+{dice2}={dice_roll}, from: {currpos} to: {newpos}')\n",
        "    \n",
        "    \n",
        "    if newpos == 20:\n",
        "        logger.debug(f'in {newpos}... should go to jail. RollingDouble#:{gRollingDoubles}')\n",
        "        newpos = 10\n",
        "        gRollingDoubles = 0\n",
        "\n",
        "\n",
        "    \n",
        "\n",
        " #     print('\\n...... dice rolled', currpos, dice_roll, newpos)\n",
        "    return newpos"
      ],
      "execution_count": 131,
      "outputs": []
    },
    {
      "cell_type": "markdown",
      "metadata": {
        "id": "4m3EKsiVZGVR"
      },
      "source": [
        "\n",
        "\n",
        "```\n",
        "...... dice rolled: 6, from: 25 to: 31\n",
        "...... dice rolled: 9, from: 31 to: 0\n",
        "rolled 1st double in 0\n",
        "...... dice rolled: 10, from: 0 to: 10\n",
        "...... dice rolled: 10, from: 10 to: 10\n",
        "```\n",
        "\n"
      ]
    },
    {
      "cell_type": "markdown",
      "metadata": {
        "id": "X-aghdeUZGVS"
      },
      "source": [
        "### func: take_chance_card"
      ]
    },
    {
      "cell_type": "code",
      "metadata": {
        "id": "VAJK4cncZGVT"
      },
      "source": [
        "# chace cards:  [11, -3, [12, 28], 99, 99, [5, 15, 25, 35], 99, 0, [5, 15, 25, 35], 39, 99, 99, 24, 5, 10, 99]\n",
        "def take_chance_card(currpos):\n",
        "    global gCHANCELOC\n",
        "    newpos = currpos\n",
        "    \n",
        "    chance_card = lst_chance[gCHANCELOC]\n",
        "    logger.info(f'  in pos:{currpos}, seq: {gCHANCELOC}, card: {chance_card} {type(chance_card)}')\n",
        " #     print('  in pos:', currpos, ' seq: ', gCHANCELOC, ' card: ',  chance_card, type(chance_card))\n",
        "\n",
        "    if (chance_card == 99):\n",
        "        newpos = currpos\n",
        "        pass\n",
        " #         print(' STAYING PUT RIGHT HERE')\n",
        "    elif (type(chance_card) is int and chance_card < 0):\n",
        "        newpos = currpos + chance_card\n",
        "        newpos %= 40\n",
        "        \n",
        " #         print('>>> moving to: ', newpos)\n",
        "        \n",
        "    elif (type(chance_card) is int):   \n",
        "        newpos = chance_card\n",
        " #         print('>>> moving to: ', newpos)\n",
        "        \n",
        "    else:\n",
        " #         print('>>> moving to: ', 'sorry i am a list, i think')\n",
        "                \n",
        "        if currpos > chance_card[-1]:\n",
        "            newpos = chance_card[0]\n",
        "        else:    \n",
        "            for i in chance_card:\n",
        "                if currpos > i:\n",
        "                    continue\n",
        "                else:\n",
        "                    newpos = i\n",
        "                    break\n",
        "        \n",
        "    \n",
        "    \n",
        "    gCHANCELOC += 1\n",
        "    gCHANCELOC %= len(lst_chance)\n",
        "    \n",
        "    return newpos\n",
        "    "
      ],
      "execution_count": 85,
      "outputs": []
    },
    {
      "cell_type": "markdown",
      "metadata": {
        "id": "-C81EsMKZGVU"
      },
      "source": [
        "### func: take_comchest_card"
      ]
    },
    {
      "cell_type": "code",
      "metadata": {
        "tags": [],
        "id": "5d-Xk-7cZGVU"
      },
      "source": [
        "# comechest cards:  [99, 99, 99, 0, 99, 99, 99, 99, 99, 10, 99, 99, 99, 99, 99, 99]\n",
        "\n",
        "def take_comchest_card(currpos):\n",
        "    global gCOMCHESTLOC\n",
        "    newpos = currpos\n",
        "    \n",
        "    comchest_card = lst_comchest[gCOMCHESTLOC]\n",
        "    logger.info(f'  in pos:{currpos}, seq: {gCOMCHESTLOC}, card: {comchest_card} {type(comchest_card)}')\n",
        "  #     print('  in pos:', currpos, ' seq: ', gCOMCHESTLOC, ' card: ', comchest_card, type(comchest_card))\n",
        "    \n",
        "    if (comchest_card == 99):\n",
        "        newpos = currpos\n",
        "        pass\n",
        " #         print(' STAYING PUT RIGHT HERE')\n",
        "    elif (type(comchest_card) is int):\n",
        "        newpos = comchest_card\n",
        " #         print('>>> moving to: ', newpos)\n",
        "        \n",
        "    else:\n",
        "        pass\n",
        " #         print('>>> moving to: ', 'sorry i am a list, i think')\n",
        "\n",
        "        \n",
        "        \n",
        "        if currpos > comchest_card[-1]:\n",
        "            newpos = comchest_card[0]\n",
        "        else:    \n",
        "            for i in comchest_card:\n",
        "                if currpos > i:\n",
        "                    continue\n",
        "                else:\n",
        "                    newpos = i\n",
        "                    break        \n",
        "        \n",
        "    gCOMCHESTLOC += 1\n",
        "    gCOMCHESTLOC %= len(lst_comchest)\n",
        "    \n",
        "    return newpos"
      ],
      "execution_count": 86,
      "outputs": []
    },
    {
      "cell_type": "markdown",
      "metadata": {
        "id": "lq0GNFZKg5VM"
      },
      "source": [
        "### func: run_simulation"
      ]
    },
    {
      "cell_type": "code",
      "metadata": {
        "id": "XK-taoRPZGVW"
      },
      "source": [
        "def run_simulation(simcount, currpos=0):\n",
        "  for simu in range(simcount):\n",
        "      # time.sleep(1)\n",
        "\n",
        "      currpos = move_from(currpos)\n",
        "      \n",
        "  #     print(' in position now:', currpos, lst_monopoly_squares[currpos])\n",
        "      \n",
        "      if currpos in lst_chance_pos:\n",
        "          \n",
        "          # logger.setLevel(logging.CRITICAL)\n",
        "          \n",
        "          logger.info('\\n>>> i am taking chance')\n",
        "  #         print('\\n>>> i am taking chance')\n",
        "          currpos = take_chance_card(currpos)\n",
        "          logger.info(f'   moved to {currpos}\\n')\n",
        "          \n",
        "          # logger.setLevel(logging.INFO)\n",
        "  #         print('.... moved to', currpos)\n",
        "          pass\n",
        "          #print(mychance_card)\n",
        "      \n",
        "      if currpos in lst_comchest_pos:\n",
        "          # logger.setLevel(logging.CRITICAL)\n",
        "          # logger.setLevel(logging.INFO)\n",
        "          logger.info('\\n>>> i am taking community chest')\n",
        "  #         print('\\n>>> i am community chest')\n",
        "          currpos = take_comchest_card(currpos)\n",
        "          logger.info(f'   moved to {currpos}\\n')\n",
        "          # logger.setLevel(logging.INFO)\n",
        "\n",
        "  #         print('.... moved to', currpos)\n",
        "          #print(mycomchest_card)\n",
        "          \n",
        "      if gRollingDoubles == 0:\n",
        "        dictsq[currpos] = dictsq.get(currpos, 0) + 1\n",
        "\n",
        "  #     print(dice2, cuminsquare, insquare)\n",
        "\n",
        "  print(dict(sorted(dictsq.items())))\n",
        "\n",
        "  data_items = dictsq.items()\n",
        "  data_list = list(data_items)\n",
        "\n",
        "  df = pd.DataFrame(data_list)\n",
        "  return df\n",
        "  #df.sort_values([1], ascending=False)\n",
        "\n",
        " "
      ],
      "execution_count": 124,
      "outputs": []
    },
    {
      "cell_type": "markdown",
      "metadata": {
        "id": "UMFkcVBQZGVV"
      },
      "source": [
        "# Run Simulation"
      ]
    },
    {
      "cell_type": "markdown",
      "metadata": {
        "id": "sVV0NVL2OPbF"
      },
      "source": [
        "<a href=\"https://projecteuler.net/problem=84\">problem link</a>"
      ]
    },
    {
      "cell_type": "code",
      "metadata": {
        "colab": {
          "base_uri": "https://localhost:8080/"
        },
        "id": "TAQ4W5nUOwFX",
        "outputId": "a062e18a-0227-4291-e6a6-988a7c120278"
      },
      "source": [
        "df.sum()"
      ],
      "execution_count": 117,
      "outputs": [
        {
          "output_type": "execute_result",
          "data": {
            "text/plain": [
              "0        760\n",
              "1    1000000\n",
              "dtype: int64"
            ]
          },
          "metadata": {},
          "execution_count": 117
        }
      ]
    },
    {
      "cell_type": "code",
      "metadata": {
        "id": "rQ4-lU62OwD_"
      },
      "source": [
        ""
      ],
      "execution_count": null,
      "outputs": []
    },
    {
      "cell_type": "code",
      "metadata": {
        "id": "f7gIqoc2fduv",
        "colab": {
          "base_uri": "https://localhost:8080/",
          "height": 1000
        },
        "outputId": "3f48aba7-e109-4da5-bd79-fe7ac2de5f74"
      },
      "source": [
        " # answer: 102400\n",
        "\n",
        "currpos = 0 #helllo\n",
        "dictsq = {}\n",
        "\n",
        "gCOMCHESTLOC = 0\n",
        "gCHANCELOC = 0\n",
        "gRollingDoubles = 0\n",
        "\n",
        "# logger.setLevel(logging.WARNING)\n",
        "logger.setLevel(logging.CRITICAL)\n",
        "\n",
        "simcount = 10000\n",
        "\n",
        "df = run_simulation(simcount)\n",
        "df['pct'] = df.iloc[:,1]/simcount *100\n",
        "\n",
        "df.sort_values([1], ascending=False)"
      ],
      "execution_count": 132,
      "outputs": [
        {
          "output_type": "stream",
          "name": "stderr",
          "text": [
            "       rolled 3rd double in 3... and now going to jail\n",
            "...... dice rolled: 4+4=8, from: 3 to: 10\n",
            "       rolled 3rd double in 14... and now going to jail\n",
            "...... dice rolled: 4+4=8, from: 14 to: 10\n",
            "       rolled 3rd double in 15... and now going to jail\n",
            "...... dice rolled: 1+1=2, from: 15 to: 10\n",
            "       rolled 3rd double in 0... and now going to jail\n",
            "...... dice rolled: 5+5=10, from: 0 to: 10\n",
            "       rolled 3rd double in 4... and now going to jail\n",
            "...... dice rolled: 6+6=12, from: 4 to: 10\n",
            "       rolled 3rd double in 31... and now going to jail\n",
            "...... dice rolled: 6+6=12, from: 31 to: 10\n",
            "       rolled 3rd double in 15... and now going to jail\n",
            "...... dice rolled: 5+5=10, from: 15 to: 10\n",
            "       rolled 3rd double in 4... and now going to jail\n",
            "...... dice rolled: 6+6=12, from: 4 to: 10\n",
            "       rolled 3rd double in 39... and now going to jail\n",
            "...... dice rolled: 4+4=8, from: 39 to: 10\n",
            "       rolled 3rd double in 6... and now going to jail\n",
            "...... dice rolled: 3+3=6, from: 6 to: 10\n",
            "       rolled 3rd double in 38... and now going to jail\n",
            "...... dice rolled: 3+3=6, from: 38 to: 10\n",
            "       rolled 3rd double in 31... and now going to jail\n",
            "...... dice rolled: 4+4=8, from: 31 to: 10\n",
            "       rolled 3rd double in 0... and now going to jail\n",
            "...... dice rolled: 5+5=10, from: 0 to: 10\n",
            "       rolled 3rd double in 8... and now going to jail\n",
            "...... dice rolled: 5+5=10, from: 8 to: 10\n",
            "       rolled 3rd double in 34... and now going to jail\n",
            "...... dice rolled: 3+3=6, from: 34 to: 10\n",
            "       rolled 3rd double in 8... and now going to jail\n",
            "...... dice rolled: 3+3=6, from: 8 to: 10\n",
            "       rolled 3rd double in 35... and now going to jail\n",
            "...... dice rolled: 6+6=12, from: 35 to: 10\n",
            "       rolled 3rd double in 35... and now going to jail\n",
            "...... dice rolled: 5+5=10, from: 35 to: 10\n",
            "       rolled 3rd double in 25... and now going to jail\n",
            "...... dice rolled: 3+3=6, from: 25 to: 10\n",
            "       rolled 3rd double in 24... and now going to jail\n",
            "...... dice rolled: 2+2=4, from: 24 to: 10\n",
            "       rolled 3rd double in 13... and now going to jail\n",
            "...... dice rolled: 1+1=2, from: 13 to: 10\n",
            "       rolled 3rd double in 14... and now going to jail\n",
            "...... dice rolled: 6+6=12, from: 14 to: 10\n",
            "       rolled 3rd double in 14... and now going to jail\n",
            "...... dice rolled: 1+1=2, from: 14 to: 10\n",
            "       rolled 3rd double in 21... and now going to jail\n",
            "...... dice rolled: 6+6=12, from: 21 to: 10\n",
            "       rolled 3rd double in 24... and now going to jail\n",
            "...... dice rolled: 4+4=8, from: 24 to: 10\n",
            "       rolled 3rd double in 14... and now going to jail\n",
            "...... dice rolled: 6+6=12, from: 14 to: 10\n",
            "       rolled 3rd double in 26... and now going to jail\n",
            "...... dice rolled: 4+4=8, from: 26 to: 10\n",
            "       rolled 3rd double in 34... and now going to jail\n",
            "...... dice rolled: 6+6=12, from: 34 to: 10\n",
            "       rolled 3rd double in 21... and now going to jail\n",
            "...... dice rolled: 3+3=6, from: 21 to: 10\n",
            "       rolled 3rd double in 12... and now going to jail\n",
            "...... dice rolled: 3+3=6, from: 12 to: 10\n",
            "       rolled 3rd double in 1... and now going to jail\n",
            "...... dice rolled: 6+6=12, from: 1 to: 10\n",
            "       rolled 3rd double in 23... and now going to jail\n",
            "...... dice rolled: 4+4=8, from: 23 to: 10\n"
          ]
        },
        {
          "output_type": "stream",
          "name": "stdout",
          "text": [
            "{0: 279, 1: 174, 2: 168, 3: 193, 4: 218, 5: 249, 6: 177, 7: 79, 8: 190, 9: 194, 10: 593, 11: 227, 12: 230, 13: 218, 14: 194, 15: 257, 16: 221, 17: 253, 18: 273, 19: 280, 21: 251, 22: 82, 23: 228, 24: 277, 25: 215, 26: 241, 27: 183, 28: 219, 29: 187, 30: 184, 31: 198, 32: 213, 33: 201, 34: 203, 35: 231, 36: 74, 37: 192, 38: 192, 39: 222}\n"
          ]
        },
        {
          "output_type": "execute_result",
          "data": {
            "text/html": [
              "<div>\n",
              "<style scoped>\n",
              "    .dataframe tbody tr th:only-of-type {\n",
              "        vertical-align: middle;\n",
              "    }\n",
              "\n",
              "    .dataframe tbody tr th {\n",
              "        vertical-align: top;\n",
              "    }\n",
              "\n",
              "    .dataframe thead th {\n",
              "        text-align: right;\n",
              "    }\n",
              "</style>\n",
              "<table border=\"1\" class=\"dataframe\">\n",
              "  <thead>\n",
              "    <tr style=\"text-align: right;\">\n",
              "      <th></th>\n",
              "      <th>0</th>\n",
              "      <th>1</th>\n",
              "      <th>pct</th>\n",
              "    </tr>\n",
              "  </thead>\n",
              "  <tbody>\n",
              "    <tr>\n",
              "      <th>0</th>\n",
              "      <td>10</td>\n",
              "      <td>593</td>\n",
              "      <td>5.93</td>\n",
              "    </tr>\n",
              "    <tr>\n",
              "      <th>31</th>\n",
              "      <td>19</td>\n",
              "      <td>280</td>\n",
              "      <td>2.80</td>\n",
              "    </tr>\n",
              "    <tr>\n",
              "      <th>30</th>\n",
              "      <td>0</td>\n",
              "      <td>279</td>\n",
              "      <td>2.79</td>\n",
              "    </tr>\n",
              "    <tr>\n",
              "      <th>4</th>\n",
              "      <td>24</td>\n",
              "      <td>277</td>\n",
              "      <td>2.77</td>\n",
              "    </tr>\n",
              "    <tr>\n",
              "      <th>12</th>\n",
              "      <td>18</td>\n",
              "      <td>273</td>\n",
              "      <td>2.73</td>\n",
              "    </tr>\n",
              "    <tr>\n",
              "      <th>1</th>\n",
              "      <td>15</td>\n",
              "      <td>257</td>\n",
              "      <td>2.57</td>\n",
              "    </tr>\n",
              "    <tr>\n",
              "      <th>25</th>\n",
              "      <td>17</td>\n",
              "      <td>253</td>\n",
              "      <td>2.53</td>\n",
              "    </tr>\n",
              "    <tr>\n",
              "      <th>21</th>\n",
              "      <td>21</td>\n",
              "      <td>251</td>\n",
              "      <td>2.51</td>\n",
              "    </tr>\n",
              "    <tr>\n",
              "      <th>6</th>\n",
              "      <td>5</td>\n",
              "      <td>249</td>\n",
              "      <td>2.49</td>\n",
              "    </tr>\n",
              "    <tr>\n",
              "      <th>33</th>\n",
              "      <td>26</td>\n",
              "      <td>241</td>\n",
              "      <td>2.41</td>\n",
              "    </tr>\n",
              "    <tr>\n",
              "      <th>18</th>\n",
              "      <td>35</td>\n",
              "      <td>231</td>\n",
              "      <td>2.31</td>\n",
              "    </tr>\n",
              "    <tr>\n",
              "      <th>16</th>\n",
              "      <td>12</td>\n",
              "      <td>230</td>\n",
              "      <td>2.30</td>\n",
              "    </tr>\n",
              "    <tr>\n",
              "      <th>2</th>\n",
              "      <td>23</td>\n",
              "      <td>228</td>\n",
              "      <td>2.28</td>\n",
              "    </tr>\n",
              "    <tr>\n",
              "      <th>28</th>\n",
              "      <td>11</td>\n",
              "      <td>227</td>\n",
              "      <td>2.27</td>\n",
              "    </tr>\n",
              "    <tr>\n",
              "      <th>26</th>\n",
              "      <td>39</td>\n",
              "      <td>222</td>\n",
              "      <td>2.22</td>\n",
              "    </tr>\n",
              "    <tr>\n",
              "      <th>23</th>\n",
              "      <td>16</td>\n",
              "      <td>221</td>\n",
              "      <td>2.21</td>\n",
              "    </tr>\n",
              "    <tr>\n",
              "      <th>3</th>\n",
              "      <td>28</td>\n",
              "      <td>219</td>\n",
              "      <td>2.19</td>\n",
              "    </tr>\n",
              "    <tr>\n",
              "      <th>20</th>\n",
              "      <td>4</td>\n",
              "      <td>218</td>\n",
              "      <td>2.18</td>\n",
              "    </tr>\n",
              "    <tr>\n",
              "      <th>11</th>\n",
              "      <td>13</td>\n",
              "      <td>218</td>\n",
              "      <td>2.18</td>\n",
              "    </tr>\n",
              "    <tr>\n",
              "      <th>8</th>\n",
              "      <td>25</td>\n",
              "      <td>215</td>\n",
              "      <td>2.15</td>\n",
              "    </tr>\n",
              "    <tr>\n",
              "      <th>37</th>\n",
              "      <td>32</td>\n",
              "      <td>213</td>\n",
              "      <td>2.13</td>\n",
              "    </tr>\n",
              "    <tr>\n",
              "      <th>9</th>\n",
              "      <td>34</td>\n",
              "      <td>203</td>\n",
              "      <td>2.03</td>\n",
              "    </tr>\n",
              "    <tr>\n",
              "      <th>34</th>\n",
              "      <td>33</td>\n",
              "      <td>201</td>\n",
              "      <td>2.01</td>\n",
              "    </tr>\n",
              "    <tr>\n",
              "      <th>13</th>\n",
              "      <td>31</td>\n",
              "      <td>198</td>\n",
              "      <td>1.98</td>\n",
              "    </tr>\n",
              "    <tr>\n",
              "      <th>35</th>\n",
              "      <td>9</td>\n",
              "      <td>194</td>\n",
              "      <td>1.94</td>\n",
              "    </tr>\n",
              "    <tr>\n",
              "      <th>7</th>\n",
              "      <td>14</td>\n",
              "      <td>194</td>\n",
              "      <td>1.94</td>\n",
              "    </tr>\n",
              "    <tr>\n",
              "      <th>24</th>\n",
              "      <td>3</td>\n",
              "      <td>193</td>\n",
              "      <td>1.93</td>\n",
              "    </tr>\n",
              "    <tr>\n",
              "      <th>22</th>\n",
              "      <td>37</td>\n",
              "      <td>192</td>\n",
              "      <td>1.92</td>\n",
              "    </tr>\n",
              "    <tr>\n",
              "      <th>15</th>\n",
              "      <td>38</td>\n",
              "      <td>192</td>\n",
              "      <td>1.92</td>\n",
              "    </tr>\n",
              "    <tr>\n",
              "      <th>10</th>\n",
              "      <td>8</td>\n",
              "      <td>190</td>\n",
              "      <td>1.90</td>\n",
              "    </tr>\n",
              "    <tr>\n",
              "      <th>29</th>\n",
              "      <td>29</td>\n",
              "      <td>187</td>\n",
              "      <td>1.87</td>\n",
              "    </tr>\n",
              "    <tr>\n",
              "      <th>5</th>\n",
              "      <td>30</td>\n",
              "      <td>184</td>\n",
              "      <td>1.84</td>\n",
              "    </tr>\n",
              "    <tr>\n",
              "      <th>14</th>\n",
              "      <td>27</td>\n",
              "      <td>183</td>\n",
              "      <td>1.83</td>\n",
              "    </tr>\n",
              "    <tr>\n",
              "      <th>27</th>\n",
              "      <td>6</td>\n",
              "      <td>177</td>\n",
              "      <td>1.77</td>\n",
              "    </tr>\n",
              "    <tr>\n",
              "      <th>19</th>\n",
              "      <td>1</td>\n",
              "      <td>174</td>\n",
              "      <td>1.74</td>\n",
              "    </tr>\n",
              "    <tr>\n",
              "      <th>32</th>\n",
              "      <td>2</td>\n",
              "      <td>168</td>\n",
              "      <td>1.68</td>\n",
              "    </tr>\n",
              "    <tr>\n",
              "      <th>17</th>\n",
              "      <td>22</td>\n",
              "      <td>82</td>\n",
              "      <td>0.82</td>\n",
              "    </tr>\n",
              "    <tr>\n",
              "      <th>36</th>\n",
              "      <td>7</td>\n",
              "      <td>79</td>\n",
              "      <td>0.79</td>\n",
              "    </tr>\n",
              "    <tr>\n",
              "      <th>38</th>\n",
              "      <td>36</td>\n",
              "      <td>74</td>\n",
              "      <td>0.74</td>\n",
              "    </tr>\n",
              "  </tbody>\n",
              "</table>\n",
              "</div>"
            ],
            "text/plain": [
              "     0    1   pct\n",
              "0   10  593  5.93\n",
              "31  19  280  2.80\n",
              "30   0  279  2.79\n",
              "4   24  277  2.77\n",
              "12  18  273  2.73\n",
              "1   15  257  2.57\n",
              "25  17  253  2.53\n",
              "21  21  251  2.51\n",
              "6    5  249  2.49\n",
              "33  26  241  2.41\n",
              "18  35  231  2.31\n",
              "16  12  230  2.30\n",
              "2   23  228  2.28\n",
              "28  11  227  2.27\n",
              "26  39  222  2.22\n",
              "23  16  221  2.21\n",
              "3   28  219  2.19\n",
              "20   4  218  2.18\n",
              "11  13  218  2.18\n",
              "8   25  215  2.15\n",
              "37  32  213  2.13\n",
              "9   34  203  2.03\n",
              "34  33  201  2.01\n",
              "13  31  198  1.98\n",
              "35   9  194  1.94\n",
              "7   14  194  1.94\n",
              "24   3  193  1.93\n",
              "22  37  192  1.92\n",
              "15  38  192  1.92\n",
              "10   8  190  1.90\n",
              "29  29  187  1.87\n",
              "5   30  184  1.84\n",
              "14  27  183  1.83\n",
              "27   6  177  1.77\n",
              "19   1  174  1.74\n",
              "32   2  168  1.68\n",
              "17  22   82  0.82\n",
              "36   7   79  0.79\n",
              "38  36   74  0.74"
            ]
          },
          "metadata": {},
          "execution_count": 132
        }
      ]
    },
    {
      "cell_type": "code",
      "metadata": {
        "id": "sC8QKJbPiBfR",
        "colab": {
          "base_uri": "https://localhost:8080/",
          "height": 1000
        },
        "outputId": "5de1d676-bf92-4533-fdaf-d7ca69780ed1"
      },
      "source": [
        ""
      ],
      "execution_count": 103,
      "outputs": [
        {
          "output_type": "execute_result",
          "data": {
            "text/html": [
              "<div>\n",
              "<style scoped>\n",
              "    .dataframe tbody tr th:only-of-type {\n",
              "        vertical-align: middle;\n",
              "    }\n",
              "\n",
              "    .dataframe tbody tr th {\n",
              "        vertical-align: top;\n",
              "    }\n",
              "\n",
              "    .dataframe thead th {\n",
              "        text-align: right;\n",
              "    }\n",
              "</style>\n",
              "<table border=\"1\" class=\"dataframe\">\n",
              "  <thead>\n",
              "    <tr style=\"text-align: right;\">\n",
              "      <th></th>\n",
              "      <th>0</th>\n",
              "      <th>1</th>\n",
              "    </tr>\n",
              "  </thead>\n",
              "  <tbody>\n",
              "    <tr>\n",
              "      <th>3</th>\n",
              "      <td>10</td>\n",
              "      <td>68</td>\n",
              "    </tr>\n",
              "    <tr>\n",
              "      <th>10</th>\n",
              "      <td>5</td>\n",
              "      <td>41</td>\n",
              "    </tr>\n",
              "    <tr>\n",
              "      <th>0</th>\n",
              "      <td>11</td>\n",
              "      <td>36</td>\n",
              "    </tr>\n",
              "    <tr>\n",
              "      <th>11</th>\n",
              "      <td>15</td>\n",
              "      <td>34</td>\n",
              "    </tr>\n",
              "    <tr>\n",
              "      <th>6</th>\n",
              "      <td>28</td>\n",
              "      <td>33</td>\n",
              "    </tr>\n",
              "    <tr>\n",
              "      <th>29</th>\n",
              "      <td>16</td>\n",
              "      <td>32</td>\n",
              "    </tr>\n",
              "    <tr>\n",
              "      <th>1</th>\n",
              "      <td>19</td>\n",
              "      <td>31</td>\n",
              "    </tr>\n",
              "    <tr>\n",
              "      <th>12</th>\n",
              "      <td>18</td>\n",
              "      <td>31</td>\n",
              "    </tr>\n",
              "    <tr>\n",
              "      <th>30</th>\n",
              "      <td>21</td>\n",
              "      <td>30</td>\n",
              "    </tr>\n",
              "    <tr>\n",
              "      <th>19</th>\n",
              "      <td>37</td>\n",
              "      <td>30</td>\n",
              "    </tr>\n",
              "    <tr>\n",
              "      <th>5</th>\n",
              "      <td>24</td>\n",
              "      <td>30</td>\n",
              "    </tr>\n",
              "    <tr>\n",
              "      <th>33</th>\n",
              "      <td>6</td>\n",
              "      <td>28</td>\n",
              "    </tr>\n",
              "    <tr>\n",
              "      <th>15</th>\n",
              "      <td>0</td>\n",
              "      <td>28</td>\n",
              "    </tr>\n",
              "    <tr>\n",
              "      <th>26</th>\n",
              "      <td>39</td>\n",
              "      <td>28</td>\n",
              "    </tr>\n",
              "    <tr>\n",
              "      <th>13</th>\n",
              "      <td>25</td>\n",
              "      <td>27</td>\n",
              "    </tr>\n",
              "    <tr>\n",
              "      <th>4</th>\n",
              "      <td>17</td>\n",
              "      <td>27</td>\n",
              "    </tr>\n",
              "    <tr>\n",
              "      <th>9</th>\n",
              "      <td>38</td>\n",
              "      <td>25</td>\n",
              "    </tr>\n",
              "    <tr>\n",
              "      <th>31</th>\n",
              "      <td>34</td>\n",
              "      <td>24</td>\n",
              "    </tr>\n",
              "    <tr>\n",
              "      <th>17</th>\n",
              "      <td>9</td>\n",
              "      <td>24</td>\n",
              "    </tr>\n",
              "    <tr>\n",
              "      <th>21</th>\n",
              "      <td>12</td>\n",
              "      <td>24</td>\n",
              "    </tr>\n",
              "    <tr>\n",
              "      <th>23</th>\n",
              "      <td>14</td>\n",
              "      <td>23</td>\n",
              "    </tr>\n",
              "    <tr>\n",
              "      <th>8</th>\n",
              "      <td>33</td>\n",
              "      <td>23</td>\n",
              "    </tr>\n",
              "    <tr>\n",
              "      <th>38</th>\n",
              "      <td>23</td>\n",
              "      <td>23</td>\n",
              "    </tr>\n",
              "    <tr>\n",
              "      <th>22</th>\n",
              "      <td>27</td>\n",
              "      <td>23</td>\n",
              "    </tr>\n",
              "    <tr>\n",
              "      <th>7</th>\n",
              "      <td>32</td>\n",
              "      <td>23</td>\n",
              "    </tr>\n",
              "    <tr>\n",
              "      <th>32</th>\n",
              "      <td>3</td>\n",
              "      <td>22</td>\n",
              "    </tr>\n",
              "    <tr>\n",
              "      <th>24</th>\n",
              "      <td>13</td>\n",
              "      <td>22</td>\n",
              "    </tr>\n",
              "    <tr>\n",
              "      <th>25</th>\n",
              "      <td>26</td>\n",
              "      <td>21</td>\n",
              "    </tr>\n",
              "    <tr>\n",
              "      <th>28</th>\n",
              "      <td>35</td>\n",
              "      <td>21</td>\n",
              "    </tr>\n",
              "    <tr>\n",
              "      <th>14</th>\n",
              "      <td>30</td>\n",
              "      <td>21</td>\n",
              "    </tr>\n",
              "    <tr>\n",
              "      <th>18</th>\n",
              "      <td>31</td>\n",
              "      <td>20</td>\n",
              "    </tr>\n",
              "    <tr>\n",
              "      <th>2</th>\n",
              "      <td>29</td>\n",
              "      <td>20</td>\n",
              "    </tr>\n",
              "    <tr>\n",
              "      <th>34</th>\n",
              "      <td>1</td>\n",
              "      <td>20</td>\n",
              "    </tr>\n",
              "    <tr>\n",
              "      <th>20</th>\n",
              "      <td>2</td>\n",
              "      <td>18</td>\n",
              "    </tr>\n",
              "    <tr>\n",
              "      <th>37</th>\n",
              "      <td>8</td>\n",
              "      <td>18</td>\n",
              "    </tr>\n",
              "    <tr>\n",
              "      <th>16</th>\n",
              "      <td>4</td>\n",
              "      <td>17</td>\n",
              "    </tr>\n",
              "    <tr>\n",
              "      <th>35</th>\n",
              "      <td>22</td>\n",
              "      <td>14</td>\n",
              "    </tr>\n",
              "    <tr>\n",
              "      <th>36</th>\n",
              "      <td>36</td>\n",
              "      <td>11</td>\n",
              "    </tr>\n",
              "    <tr>\n",
              "      <th>27</th>\n",
              "      <td>7</td>\n",
              "      <td>9</td>\n",
              "    </tr>\n",
              "  </tbody>\n",
              "</table>\n",
              "</div>"
            ],
            "text/plain": [
              "     0   1\n",
              "3   10  68\n",
              "10   5  41\n",
              "0   11  36\n",
              "11  15  34\n",
              "6   28  33\n",
              "29  16  32\n",
              "1   19  31\n",
              "12  18  31\n",
              "30  21  30\n",
              "19  37  30\n",
              "5   24  30\n",
              "33   6  28\n",
              "15   0  28\n",
              "26  39  28\n",
              "13  25  27\n",
              "4   17  27\n",
              "9   38  25\n",
              "31  34  24\n",
              "17   9  24\n",
              "21  12  24\n",
              "23  14  23\n",
              "8   33  23\n",
              "38  23  23\n",
              "22  27  23\n",
              "7   32  23\n",
              "32   3  22\n",
              "24  13  22\n",
              "25  26  21\n",
              "28  35  21\n",
              "14  30  21\n",
              "18  31  20\n",
              "2   29  20\n",
              "34   1  20\n",
              "20   2  18\n",
              "37   8  18\n",
              "16   4  17\n",
              "35  22  14\n",
              "36  36  11\n",
              "27   7   9"
            ]
          },
          "metadata": {},
          "execution_count": 103
        }
      ]
    },
    {
      "cell_type": "markdown",
      "metadata": {
        "id": "gs4sp0U5ZGVX"
      },
      "source": [
        "# Testing Area"
      ]
    },
    {
      "cell_type": "code",
      "metadata": {
        "id": "mlBlEjXyZGVY",
        "colab": {
          "base_uri": "https://localhost:8080/",
          "height": 162
        },
        "outputId": "5f7c3ef4-59ca-4922-9451-57f23812f9aa"
      },
      "source": [
        "1/0"
      ],
      "execution_count": 90,
      "outputs": [
        {
          "output_type": "error",
          "ename": "ZeroDivisionError",
          "evalue": "ignored",
          "traceback": [
            "\u001b[0;31m---------------------------------------------------------------------------\u001b[0m",
            "\u001b[0;31mZeroDivisionError\u001b[0m                         Traceback (most recent call last)",
            "\u001b[0;32m<ipython-input-90-9e1622b385b6>\u001b[0m in \u001b[0;36m<module>\u001b[0;34m()\u001b[0m\n\u001b[0;32m----> 1\u001b[0;31m \u001b[0;36m1\u001b[0m\u001b[0;34m/\u001b[0m\u001b[0;36m0\u001b[0m\u001b[0;34m\u001b[0m\u001b[0;34m\u001b[0m\u001b[0m\n\u001b[0m",
            "\u001b[0;31mZeroDivisionError\u001b[0m: division by zero"
          ]
        }
      ]
    },
    {
      "cell_type": "markdown",
      "metadata": {
        "jp-MarkdownHeadingCollapsed": true,
        "tags": [],
        "id": "ofHOltKMZGVY"
      },
      "source": [
        "<a id=\"section-one\"></a>\n",
        "## Helper Functions\n",
        "\n",
        "**^html links hidden here, fork notebook then click this cell to see it**\n",
        "<a id=\"section-two\"></a>\n",
        "## Section Two\n",
        "**^html links hidden here, fork notebook then click this cell to see it**\n"
      ]
    },
    {
      "cell_type": "code",
      "metadata": {
        "id": "p1HJ3EQlZGVZ"
      },
      "source": [
        "import re\n",
        "\n",
        "lst1 = ['JAIL', 'C1', 'E3', 'H2', 'R1']\n",
        "\n",
        "for x in lst1:    \n",
        "    print(x, lst_monopoly_squares.index(x))\n",
        "\n",
        "lst2 = ['^R', '^U', '^CC', '^CH']\n",
        "\n",
        "for x in lst2:    \n",
        "    r = re.compile(x)\n",
        "    new_list = list(filter(r.match, lst_monopoly_squares))\n",
        "    print(new_list)\n",
        "    \n",
        "    for y in new_list:\n",
        "        print(x, lst_monopoly_squares.index(y))"
      ],
      "execution_count": null,
      "outputs": []
    },
    {
      "cell_type": "markdown",
      "metadata": {
        "id": "oY_oAcG4ZGVa"
      },
      "source": [
        "## Image Testing (Works!)"
      ]
    },
    {
      "cell_type": "code",
      "metadata": {
        "id": "ea8ExNyHjqyV"
      },
      "source": [
        "# Importing the PIL library\n",
        "from PIL import Image\n",
        "from PIL import ImageDraw\n",
        "from PIL import ImageFont"
      ],
      "execution_count": null,
      "outputs": []
    },
    {
      "cell_type": "code",
      "metadata": {
        "id": "8_1gr-oikHhO"
      },
      "source": [
        "import requests\n",
        "from io import BytesIO\n",
        "url = \"https://projecteuler.net/project/images/p084_monopoly_board.png\"\n",
        "response = requests.get(url)\n",
        "orig_img = Image.open(BytesIO(response.content))"
      ],
      "execution_count": null,
      "outputs": []
    },
    {
      "cell_type": "code",
      "metadata": {
        "id": "vn9N6s34qsSb"
      },
      "source": [
        "# Open an Image\n",
        "img = orig_img.copy()\n",
        "\n",
        "myfont = ImageFont.truetype(r'/usr/share/fonts/truetype/liberation/LiberationMono-Regular.ttf', 20)\n",
        "\n",
        "# myfont = ImageFont.truetype(\"arial.ttf\", 1)\n",
        " \n",
        "# Call draw Method to add 2D graphics in an image\n",
        "I1 = ImageDraw.Draw(img) \n",
        "\n",
        "mysq = 0\n",
        "\n",
        "for i in range(4):\n",
        "  \n",
        "  \n",
        "  if i == 0:\n",
        "    print ('walk right 0 to 9')\n",
        "    for sq in range(10):\n",
        "      x = 40.7*sq + 10\n",
        "      y = 37.8*i + 5\n",
        "\n",
        "      m = lst_monopoly_squares[mysq]\n",
        "      mysq+=1\n",
        "\n",
        "      \n",
        "      I1.text((x, y),f'{m}', font=myfont, fill =(255, 0, 0))\n",
        "\n",
        "  if i == 1:\n",
        "    print ('walk down 0 to 9')\n",
        "   \n",
        "    for sq in range(10):\n",
        "      x = 40.7*10 + 10\n",
        "      y = 37.8*sq + 5\n",
        "      m = lst_monopoly_squares[mysq]\n",
        "      mysq+=1      \n",
        "      I1.text((x, y),f'{m}',font=myfont, fill =(255, 0, 0))\n",
        "\n",
        "  if i == 2:\n",
        "    print ('walk left 0 to 9')\n",
        "\n",
        "    for sq in range(10, 0, -1):\n",
        "      x = 40.7*sq + 10\n",
        "      y = 37.8*10 #+ 5\n",
        "      m = lst_monopoly_squares[mysq]\n",
        "      mysq+=1      \n",
        "      I1.text((x, y),f'{m}', font=myfont,fill =(255, 0, 0))\n",
        "  \n",
        "  if i == 3:\n",
        "    print ('walk up 0 to 9')\n",
        "\n",
        "    for sq in range(10, 0, -1):\n",
        "      x = 40.7*0 + 10\n",
        "      y = 37.8*sq + 3\n",
        "      m = lst_monopoly_squares[mysq]\n",
        "      mysq+=1      \n",
        "      I1.text((x, y),f'{m}', font=myfont,fill =(255, 0, 0))\n",
        "\n",
        " # Display edited image\n",
        "img"
      ],
      "execution_count": null,
      "outputs": []
    },
    {
      "cell_type": "code",
      "metadata": {
        "id": "_6e6D4EzkOyn"
      },
      "source": [
        "# Open an Image\n",
        "img = orig_img.copy()\n",
        " \n",
        "# Call draw Method to add 2D graphics in an image\n",
        "I1 = ImageDraw.Draw(img)\n",
        "\n",
        "for sq in range(40):\n",
        "  \n",
        "  x = 40.7*i + 10\n",
        "  for j in range(11):\n",
        "    if (i >=1 and i <= 9) and (j>=1 and j<=9):\n",
        "      continue\n",
        "    \n",
        "  \n",
        "    y = 37.8*j + 5\n",
        "\n",
        "    I1.text((x, y), f'{i},{j}', fill =(255, 0, 0))\n",
        "  \n",
        "# Display edited image\n",
        "img\n"
      ],
      "execution_count": null,
      "outputs": []
    },
    {
      "cell_type": "code",
      "metadata": {
        "id": "pEOlhs06mUgN"
      },
      "source": [
        "# Open an Image\n",
        "img = orig_img.copy()\n",
        " \n",
        "# Call draw Method to add 2D graphics in an image\n",
        "I1 = ImageDraw.Draw(img)\n",
        " \n",
        "# Custom font style and font size\n",
        "# myFont = ImageFont.truetype('FreeMono.ttf', 65)\n",
        " \n",
        "# Add Text to an image\n",
        "\n",
        "for i in range(11):\n",
        "  x = 40.7*i + 10\n",
        "  for j in range(11):\n",
        "    if (i >=1 and i <= 9) and (j>=1 and j<=9):\n",
        "      continue\n",
        "    \n",
        "  \n",
        "    y = 37.8*j + 5\n",
        "\n",
        "    I1.text((x, y), f'{i},{j}', fill =(255, 0, 0))\n",
        "  \n",
        "# Display edited image\n",
        "img\n"
      ],
      "execution_count": null,
      "outputs": []
    },
    {
      "cell_type": "markdown",
      "metadata": {
        "id": "mFm12EVr7Wri"
      },
      "source": [
        "## Simple Test1"
      ]
    },
    {
      "cell_type": "code",
      "metadata": {
        "tags": [],
        "id": "q-kuL75sZGVd"
      },
      "source": [
        "mylist = [5, 15, 25, 35]\n",
        "\n",
        "currno = 36\n",
        "\n",
        "if currno > mylist[-1]:\n",
        "    selection = mylist[0]\n",
        "else:    \n",
        "    for i in mylist:\n",
        "        if currno > i:\n",
        "            continue\n",
        "        else:\n",
        "            selection = i\n",
        "            break\n",
        "\n",
        "print(selection)\n",
        "    "
      ],
      "execution_count": null,
      "outputs": []
    },
    {
      "cell_type": "markdown",
      "metadata": {
        "id": "jh7OeyyxZGVe"
      },
      "source": [
        "## Test Markdown"
      ]
    },
    {
      "cell_type": "markdown",
      "metadata": {
        "id": "QwchXk4WZGVe"
      },
      "source": [
        "Clicking on each link jumps you to the section that is marked. It is really intuitive to use! \n",
        "I would recommend adding a table of contents to any of your published notebooks, so that the reader doesn't get lost.\n",
        "You would want everyone to enjoy reading that kernel that you spent so long on!\n",
        "\n",
        "Links use HTML to target your browser to that specific section of your Kaggle notebook.\n",
        "To see the inner workings and code, please fork this notebook and click on the cells to see the markdown code\n",
        "\n",
        "* [Introduction](#section-one)\n",
        "* [Body](#section-two)\n",
        "    - [Subsectionaaa 1](#subsection-one)\n",
        "    - [Subsectionaaa 2](#anything-you-like)\n",
        "* [Conclusionaaa](#section-three)"
      ]
    },
    {
      "cell_type": "markdown",
      "metadata": {
        "id": "Wqw4A87RZGVe"
      },
      "source": [
        "## Logging Test"
      ]
    },
    {
      "cell_type": "code",
      "metadata": {
        "id": "5QEVMeCKZGVf"
      },
      "source": [
        "# 'application' code\n",
        "logger.debug('debug message')\n",
        "logger.info('info message')\n",
        "logger.info('warn message')\n",
        "logger.error('error message')\n",
        "logger.critical('critical message')"
      ],
      "execution_count": null,
      "outputs": []
    }
  ]
}