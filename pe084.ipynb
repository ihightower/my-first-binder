{
  "nbformat": 4,
  "nbformat_minor": 0,
  "metadata": {
    "kernelspec": {
      "display_name": "Python 3 (ipykernel)",
      "language": "python",
      "name": "python3"
    },
    "language_info": {
      "codemirror_mode": {
        "name": "ipython",
        "version": 3
      },
      "file_extension": ".py",
      "mimetype": "text/x-python",
      "name": "python",
      "nbconvert_exporter": "python",
      "pygments_lexer": "ipython3",
      "version": "3.7.10"
    },
    "toc-autonumbering": true,
    "colab": {
      "name": "pe084.ipynb",
      "provenance": [],
      "toc_visible": true,
      "include_colab_link": true
    }
  },
  "cells": [
    {
      "cell_type": "markdown",
      "metadata": {
        "id": "view-in-github",
        "colab_type": "text"
      },
      "source": [
        "<a href=\"https://colab.research.google.com/github/ihightower/my-first-binder/blob/main/pe084.ipynb\" target=\"_parent\"><img src=\"https://colab.research.google.com/assets/colab-badge.svg\" alt=\"Open In Colab\"/></a>"
      ]
    },
    {
      "cell_type": "markdown",
      "metadata": {
        "id": "kLyvBzqaZGU0"
      },
      "source": [
        "# Import"
      ]
    },
    {
      "cell_type": "code",
      "metadata": {
        "collapsed": true,
        "jupyter": {
          "outputs_hidden": true
        },
        "tags": [],
        "id": "duhX_hrsZGU_"
      },
      "source": [
        "# !pip install pandas"
      ],
      "execution_count": 2,
      "outputs": []
    },
    {
      "cell_type": "code",
      "metadata": {
        "colab": {
          "base_uri": "https://localhost:8080/"
        },
        "id": "1fIvD5W3ZGVC",
        "outputId": "d2461358-3af3-4fc3-b6fc-a11096a4650c"
      },
      "source": [
        "print('last saved 11nov 14:05')"
      ],
      "execution_count": 3,
      "outputs": [
        {
          "output_type": "stream",
          "name": "stdout",
          "text": [
            "last saved 11nov 14:05\n"
          ]
        }
      ]
    },
    {
      "cell_type": "code",
      "metadata": {
        "id": "zjZH2J9hZGVD"
      },
      "source": [
        "import random\n",
        "import pandas as pd\n",
        "import time\n",
        "import numpy as np\n"
      ],
      "execution_count": 24,
      "outputs": []
    },
    {
      "cell_type": "code",
      "metadata": {
        "id": "bkuZ_XQyZGVf"
      },
      "source": [
        "# del logging, logger, ch, formatter\n",
        "from importlib import reload\n",
        "import logging\n",
        "logging.shutdown()\n",
        "reload(logging)\n",
        "\n",
        "\n",
        "# create logger\n",
        "logger = logging.getLogger('simple_example')\n",
        "logger.setLevel(logging.DEBUG)\n",
        "\n",
        " # create console handler and set level to debug\n",
        "ch = logging.StreamHandler()\n",
        "ch.setLevel(logging.DEBUG)\n",
        "\n",
        "# create formatter\n",
        "#formatter = logging.Formatter('%(asctime)s - %(name)s - %(levelname)s - %(message)s')\n",
        "\n",
        "# add formatter to ch\n",
        "#ch.setFormatter(formatter)\n",
        "\n",
        "# add ch to logger\n",
        "logger.addHandler(ch)\n"
      ],
      "execution_count": 5,
      "outputs": []
    },
    {
      "cell_type": "markdown",
      "metadata": {
        "id": "2dkxl8XRZGVE"
      },
      "source": [
        "# Project Euler P084"
      ]
    },
    {
      "cell_type": "markdown",
      "metadata": {
        "id": "sVV0NVL2OPbF"
      },
      "source": [
        "<a href=\"https://projecteuler.net/problem=84\">problem link</a>"
      ]
    },
    {
      "cell_type": "markdown",
      "metadata": {
        "id": "3PVvd-e6ZGVF"
      },
      "source": [
        "<img src=\"https://projecteuler.net/project/images/p084_monopoly_board.png\">\n",
        "\n",
        "\n"
      ]
    },
    {
      "cell_type": "markdown",
      "metadata": {
        "tags": [],
        "id": "N6TEU_PZZGVG"
      },
      "source": [
        "In the game, Monopoly, the standard board is set up in the following way:\n",
        "\n",
        "A player starts on the GO square and adds the scores on two 6-sided dice to determine the number of squares they advance in a clockwise direction. Without any further rules we would expect to visit each square with equal probability: 2.5%. However, landing on G2J (Go To Jail), CC (community chest), and CH (chance) changes this distribution.\n",
        "\n",
        "In addition to G2J, and one card from each of CC and CH, that orders the player to go directly to jail, **if a player rolls three consecutive doubles, they do not advance the result of their 3rd roll. Instead they proceed directly to jail.**\n",
        "\n",
        "At the beginning of the game, the CC and CH cards are shuffled. When a player lands on CC or CH they take a card from the top of the respective pile and, after following the instructions, it is returned to the bottom of the pile. There are sixteen cards in each pile, but for the purpose of this problem we are only concerned with cards that order a movement; any instruction not concerned with movement will be ignored and the player will remain on the CC/CH square.\n",
        "\n",
        "\n",
        "Community Chest (2/16 cards):\n",
        "* Advance to GO\n",
        "* Go to JAIL\n",
        "\n",
        "Chance (10/16 cards):\n",
        "\n",
        "* Advance to GO\n",
        "* Go to JAIL\n",
        "* Go to C1\n",
        "* Go to E3\n",
        "* Go to H2\n",
        "* Go to R1\n",
        "* Go to next R (railway company)\n",
        "* Go to next R\n",
        "* Go to next U (utility company)\n",
        "* Go back 3 squares.\n",
        "\n",
        "\n",
        "The heart of this problem concerns the likelihood of visiting a particular square. That is, the probability of finishing at that square after a roll. For this reason it should be clear that, with the exception of G2J for which the probability of finishing on it is zero, the CH squares will have the lowest probabilities, as 5/8 request a movement to another square, and it is the final square that the player finishes at on each roll that we are interested in. We shall make no distinction between \"Just Visiting\" and being sent to JAIL, and we shall also ignore the rule about requiring a double to \"get out of jail\", assuming that they pay to get out on their next turn.\n",
        "\n",
        "By starting at GO and numbering the squares sequentially from 00 to 39 we can concatenate these two-digit numbers to produce strings that correspond with sets of squares.\n",
        "\n",
        "Statistically it can be shown that the three most popular squares, in order, are JAIL (6.24%) = Square 10, E3 (3.18%) = Square 24, and GO (3.09%) = Square 00. So these three most popular squares can be listed with the six-digit modal string: 102400.\n",
        "\n",
        "If, instead of using two 6-sided dice, two 4-sided dice are used, find the six-digit modal string."
      ]
    },
    {
      "cell_type": "markdown",
      "metadata": {
        "id": "5Q4Nu0eacyMM"
      },
      "source": [
        "# Code Starts"
      ]
    },
    {
      "cell_type": "markdown",
      "metadata": {
        "tags": [],
        "id": "2JIxjx8kZGVI"
      },
      "source": [
        "## Set Monopoly Squares"
      ]
    },
    {
      "cell_type": "code",
      "metadata": {
        "colab": {
          "base_uri": "https://localhost:8080/"
        },
        "id": "vRPzpHeEZGVJ",
        "outputId": "7c014386-c079-4942-fd41-c12bd87f21be"
      },
      "source": [
        "#pe084 - Monopoly odds\n",
        "lst_monopoly_squares = [\n",
        "    'GO', 'A1', 'CC1', 'A2', 'T1', 'R1', 'B1', 'CH1', 'B2', 'B3', 'JAIL', 'C1',\n",
        "    'U1', 'C2', 'C3', 'R2', 'D1', 'CC2', 'D2', 'D3', 'FP', 'E1', 'CH2', 'E2',\n",
        "    'E3', 'R3', 'F1', 'F2', 'U2', 'F3', 'G2J', 'G1', 'G2', 'CC3', 'G3', 'R4',\n",
        "    'CH3', 'H1', 'T2', 'H2'\n",
        "]\n",
        "\n",
        "lst_comchest = [0, 10] + [99] * 14\n",
        "random.shuffle(lst_comchest)\n",
        "\n",
        "lst_chance = [0, 10, 11, 24, 39, 5, [5, 15, 25, 35], [5, 15, 25, 35], [12, 28], -3] + [99] * 6\n",
        "random.shuffle(lst_chance)\n",
        "\n",
        "print(lst_comchest)\n",
        "print(lst_chance)\n",
        "\n"
      ],
      "execution_count": 36,
      "outputs": [
        {
          "output_type": "stream",
          "name": "stdout",
          "text": [
            "[99, 99, 10, 99, 99, 99, 99, 99, 99, 0, 99, 99, 99, 99, 99, 99]\n",
            "[[5, 15, 25, 35], 99, 39, -3, 11, 99, 99, [12, 28], 5, 0, 99, [5, 15, 25, 35], 24, 99, 10, 99]\n"
          ]
        }
      ]
    },
    {
      "cell_type": "code",
      "metadata": {
        "id": "yNeYX9m9ZGVL"
      },
      "source": [
        "lst_comchest_pos = [2, 17, 33]\n",
        "lst_chance_pos = [7, 22, 36]"
      ],
      "execution_count": 7,
      "outputs": []
    },
    {
      "cell_type": "code",
      "metadata": {
        "colab": {
          "base_uri": "https://localhost:8080/"
        },
        "id": "ECykQYTWZGVM",
        "outputId": "d2b14cbf-7aa3-49b5-8294-9d5ed5155d10"
      },
      "source": [
        "print('comechest cards: ', lst_comchest)\n",
        "print('chance cards: ',lst_chance)"
      ],
      "execution_count": 8,
      "outputs": [
        {
          "output_type": "stream",
          "name": "stdout",
          "text": [
            "comechest cards:  [99, 99, 99, 99, 99, 99, 99, 99, 99, 10, 99, 99, 99, 99, 0, 99]\n",
            "chance cards:  [99, 99, 99, 11, [5, 15, 25, 35], 99, 24, 39, 5, -3, 99, [12, 28], 0, 99, [5, 15, 25, 35], 10]\n"
          ]
        }
      ]
    },
    {
      "cell_type": "markdown",
      "metadata": {
        "id": "vavyoejPZGVN"
      },
      "source": [
        "## Functions"
      ]
    },
    {
      "cell_type": "markdown",
      "metadata": {
        "id": "KAkTrrQuZGVO"
      },
      "source": [
        "### func: move_from"
      ]
    },
    {
      "cell_type": "code",
      "metadata": {
        "id": "WY0UFbNjZGVQ"
      },
      "source": [
        "def move_from(currpos):\n",
        "    \n",
        "    global gRollingDoubles\n",
        "    \n",
        "    dice_sides = 4\n",
        "\n",
        "    dice1 = random.randint(1, dice_sides)\n",
        "    dice2 = random.randint(1, dice_sides)\n",
        "    \n",
        "    dice_roll = dice1 + dice2\n",
        "    \n",
        "    if dice1 == dice2:\n",
        "        gRollingDoubles += 1\n",
        "    else:\n",
        "        gRollingDoubles = 0\n",
        " \n",
        "    if gRollingDoubles == 1:\n",
        "        logger.debug(f'       rolled 1st double in {currpos}')\n",
        "        # logger.setLevel(logging.WARNING)\n",
        "        pass\n",
        "    \n",
        "    if gRollingDoubles == 2:\n",
        "        logger.warning(f'       rolled 2nd double in {currpos}')\n",
        "        # logger.setLevel(logging.WARNING)\n",
        "        pass\n",
        "    \n",
        "    if gRollingDoubles == 3:\n",
        "        # logger.setLevel(logging.DEBUG)\n",
        "        \n",
        "        logger.warning(f'       rolled 3rd double in {currpos}... and now going to jail')\n",
        " #         print('rolled 3 doubles, going to jail.. from ', newpos)\n",
        "        newpos = 10 # go to jail\n",
        "        gRollingDoubles = 0\n",
        "        \n",
        "        logger.warning(f'...... dice rolled: {dice1}+{dice2}={dice_roll}, from: {currpos} to: {newpos}')\n",
        "        return newpos\n",
        "\n",
        "    \n",
        "    newpos = (currpos + dice_roll) % 40\n",
        " \n",
        " \n",
        "    logger.debug(f'...... dice rolled: {dice1}+{dice2}={dice_roll}, from: {currpos} to: {newpos}')\n",
        "    \n",
        "    \n",
        "    if newpos == 30: # biggest bug of the century... i put 20 by mistake!\n",
        "        logger.debug(f'in {newpos}... should go to jail. RollingDouble#:{gRollingDoubles}')\n",
        "        newpos = 10\n",
        "        #gRollingDoubles = 0\n",
        "\n",
        "\n",
        "    \n",
        "\n",
        " #     print('\\n...... dice rolled', currpos, dice_roll, newpos)\n",
        "    return newpos"
      ],
      "execution_count": 101,
      "outputs": []
    },
    {
      "cell_type": "markdown",
      "metadata": {
        "id": "X-aghdeUZGVS"
      },
      "source": [
        "### func: take_chance_card"
      ]
    },
    {
      "cell_type": "code",
      "metadata": {
        "id": "VAJK4cncZGVT"
      },
      "source": [
        "# chace cards:  [11, -3, [12, 28], 99, 99, [5, 15, 25, 35], 99, 0, [5, 15, 25, 35], 39, 99, 99, 24, 5, 10, 99]\n",
        "def take_chance_card(currpos):\n",
        "    global gCHANCELOC\n",
        "    newpos = currpos\n",
        "    \n",
        "    chance_card = lst_chance[gCHANCELOC]\n",
        "    logger.warning(f'  in pos:{currpos}, seq: {gCHANCELOC}, card: {chance_card} {type(chance_card)}')\n",
        " #     print('  in pos:', currpos, ' seq: ', gCHANCELOC, ' card: ',  chance_card, type(chance_card))\n",
        "\n",
        "    if (chance_card == 99):\n",
        "        newpos = currpos\n",
        "        pass\n",
        " #         print(' STAYING PUT RIGHT HERE')\n",
        "    elif (type(chance_card) is int and chance_card < 0):\n",
        "        newpos = currpos + chance_card\n",
        "        newpos %= 40\n",
        "        \n",
        " #         print('>>> moving to: ', newpos)\n",
        "        \n",
        "    elif (type(chance_card) is int):   \n",
        "        newpos = chance_card\n",
        " #         print('>>> moving to: ', newpos)\n",
        "        \n",
        "    else:\n",
        " #         print('>>> moving to: ', 'sorry i am a list, i think')\n",
        "                \n",
        "        if currpos > chance_card[-1]:\n",
        "            newpos = chance_card[0]\n",
        "        else:    \n",
        "            for i in chance_card:\n",
        "                if currpos > i:\n",
        "                    continue\n",
        "                else:\n",
        "                    newpos = i\n",
        "                    break\n",
        "        \n",
        "    \n",
        "    \n",
        "    gCHANCELOC += 1\n",
        "    gCHANCELOC %= len(lst_chance)\n",
        "    \n",
        "    return newpos\n",
        "    "
      ],
      "execution_count": 38,
      "outputs": []
    },
    {
      "cell_type": "markdown",
      "metadata": {
        "id": "-C81EsMKZGVU"
      },
      "source": [
        "### func: take_comchest_card"
      ]
    },
    {
      "cell_type": "code",
      "metadata": {
        "tags": [],
        "id": "5d-Xk-7cZGVU"
      },
      "source": [
        "# comechest cards:  [99, 99, 99, 0, 99, 99, 99, 99, 99, 10, 99, 99, 99, 99, 99, 99]\n",
        "\n",
        "def take_comchest_card(currpos):\n",
        "    global gCOMCHESTLOC\n",
        "    newpos = currpos\n",
        "    \n",
        "    comchest_card = lst_comchest[gCOMCHESTLOC]\n",
        "    logger.warning(f'  in pos:{currpos}, seq: {gCOMCHESTLOC}, card: {comchest_card} {type(comchest_card)}')\n",
        "  #     print('  in pos:', currpos, ' seq: ', gCOMCHESTLOC, ' card: ', comchest_card, type(comchest_card))\n",
        "    \n",
        "    if (comchest_card == 99):\n",
        "        newpos = currpos\n",
        "        pass\n",
        " #         print(' STAYING PUT RIGHT HERE')\n",
        "    elif (type(comchest_card) is int):\n",
        "        newpos = comchest_card\n",
        " #         print('>>> moving to: ', newpos)\n",
        "        \n",
        "    else:\n",
        "        pass\n",
        " #         print('>>> moving to: ', 'sorry i am a list, i think')\n",
        "\n",
        "        \n",
        "        \n",
        "        if currpos > comchest_card[-1]:\n",
        "            newpos = comchest_card[0]\n",
        "        else:    \n",
        "            for i in comchest_card:\n",
        "                if currpos > i:\n",
        "                    continue\n",
        "                else:\n",
        "                    newpos = i\n",
        "                    break        \n",
        "        \n",
        "    gCOMCHESTLOC += 1\n",
        "    gCOMCHESTLOC %= len(lst_comchest)\n",
        "    \n",
        "    return newpos"
      ],
      "execution_count": 37,
      "outputs": []
    },
    {
      "cell_type": "markdown",
      "metadata": {
        "id": "lq0GNFZKg5VM"
      },
      "source": [
        "### func: run_simulation"
      ]
    },
    {
      "cell_type": "code",
      "metadata": {
        "id": "XK-taoRPZGVW"
      },
      "source": [
        "def run_simulation(simcount, currpos=0):\n",
        "\n",
        "  for simu in range(simcount):\n",
        "      # time.sleep(1)\n",
        "\n",
        "      currpos = move_from(currpos)\n",
        "      \n",
        "  #     print(' in position now:', currpos, lst_monopoly_squares[currpos])\n",
        "      \n",
        "      if currpos in lst_chance_pos:\n",
        "          \n",
        "          # logger.setLevel(logging.CRITICAL)\n",
        "          \n",
        "          logger.warning('\\n>>> i am taking chance')\n",
        "  #         print('\\n>>> i am taking chance')\n",
        "          currpos = take_chance_card(currpos)\n",
        "          logger.warning(f'   moved to {currpos}\\n')\n",
        "          \n",
        "          # logger.setLevel(logging.INFO)\n",
        "  #         print('.... moved to', currpos)\n",
        "          pass\n",
        "          #print(mychance_card)\n",
        "      \n",
        "      if currpos in lst_comchest_pos:\n",
        "          # logger.setLevel(logging.CRITICAL)\n",
        "          # logger.setLevel(logging.INFO)\n",
        "          logger.warning('\\n>>> i am taking community chest')\n",
        "  #         print('\\n>>> i am community chest')\n",
        "          currpos = take_comchest_card(currpos)\n",
        "          logger.warning(f'   moved to {currpos}\\n')\n",
        "          # logger.setLevel(logging.INFO)\n",
        "\n",
        "  #         print('.... moved to', currpos)\n",
        "          #print(mycomchest_card)\n",
        "      \n",
        "      # if gRollingDoubles == 1:\n",
        "      #   continue\n",
        "\n",
        "      logger.info(f'yes move counted {currpos}')\n",
        "      dictsq[currpos] = dictsq.get(currpos, 0) + 1\n",
        "\n",
        "  #     print(dice2, cuminsquare, insquare)\n",
        "\n",
        "  print(dict(sorted(dictsq.items())))\n",
        "\n",
        "  data_items = dictsq.items()\n",
        "  data_list = list(data_items)\n",
        "\n",
        "  df = pd.DataFrame(data_list)\n",
        "  return df\n",
        "  #df.sort_values([1], ascending=False)\n",
        "\n",
        " "
      ],
      "execution_count": 40,
      "outputs": []
    },
    {
      "cell_type": "markdown",
      "metadata": {
        "id": "UMFkcVBQZGVV"
      },
      "source": [
        "# Run Simulation"
      ]
    },
    {
      "cell_type": "code",
      "metadata": {
        "colab": {
          "base_uri": "https://localhost:8080/",
          "height": 1000
        },
        "id": "lSyDLNqgYNza",
        "outputId": "a3de9ede-b37e-4b85-bdc2-4bb49fc96783"
      },
      "source": [
        " # answer: 102400\n",
        "\n",
        "currpos = 0 #helllo\n",
        "dictsq = {}\n",
        "\n",
        "gCOMCHESTLOC = 0\n",
        "gCHANCELOC = 0\n",
        "gRollingDoubles = 0\n",
        "\n",
        "# logger.setLevel(logging.DEBUG)\n",
        "# logger.setLevel(logging.WARNING)\n",
        "logger.setLevel(logging.CRITICAL)\n",
        "\n",
        "simcount = 1_000_000\n",
        "df = run_simulation(simcount)\n",
        "\n",
        "\n",
        "df['pct'] = df.iloc[:,1]/simcount *100\n",
        "df.sort_values([1], ascending=False)"
      ],
      "execution_count": 102,
      "outputs": [
        {
          "output_type": "stream",
          "name": "stdout",
          "text": [
            "{0: 27683, 1: 17577, 2: 16691, 3: 20635, 4: 23098, 5: 28779, 6: 20906, 7: 7494, 8: 21490, 9: 21007, 10: 70420, 11: 24252, 12: 24156, 13: 25137, 14: 28832, 15: 36192, 16: 32425, 17: 27139, 18: 29809, 19: 30382, 20: 30065, 21: 30718, 22: 11392, 23: 29782, 24: 32999, 25: 31096, 26: 26478, 27: 25409, 28: 28225, 29: 27674, 31: 28127, 32: 26074, 33: 21477, 34: 21811, 35: 20006, 36: 7967, 37: 21165, 38: 20898, 39: 24533}\n"
          ]
        },
        {
          "output_type": "execute_result",
          "data": {
            "text/html": [
              "<div>\n",
              "<style scoped>\n",
              "    .dataframe tbody tr th:only-of-type {\n",
              "        vertical-align: middle;\n",
              "    }\n",
              "\n",
              "    .dataframe tbody tr th {\n",
              "        vertical-align: top;\n",
              "    }\n",
              "\n",
              "    .dataframe thead th {\n",
              "        text-align: right;\n",
              "    }\n",
              "</style>\n",
              "<table border=\"1\" class=\"dataframe\">\n",
              "  <thead>\n",
              "    <tr style=\"text-align: right;\">\n",
              "      <th></th>\n",
              "      <th>0</th>\n",
              "      <th>1</th>\n",
              "      <th>pct</th>\n",
              "    </tr>\n",
              "  </thead>\n",
              "  <tbody>\n",
              "    <tr>\n",
              "      <th>8</th>\n",
              "      <td>10</td>\n",
              "      <td>70420</td>\n",
              "      <td>7.0420</td>\n",
              "    </tr>\n",
              "    <tr>\n",
              "      <th>0</th>\n",
              "      <td>15</td>\n",
              "      <td>36192</td>\n",
              "      <td>3.6192</td>\n",
              "    </tr>\n",
              "    <tr>\n",
              "      <th>10</th>\n",
              "      <td>24</td>\n",
              "      <td>32999</td>\n",
              "      <td>3.2999</td>\n",
              "    </tr>\n",
              "    <tr>\n",
              "      <th>28</th>\n",
              "      <td>16</td>\n",
              "      <td>32425</td>\n",
              "      <td>3.2425</td>\n",
              "    </tr>\n",
              "    <tr>\n",
              "      <th>2</th>\n",
              "      <td>25</td>\n",
              "      <td>31096</td>\n",
              "      <td>3.1096</td>\n",
              "    </tr>\n",
              "    <tr>\n",
              "      <th>1</th>\n",
              "      <td>21</td>\n",
              "      <td>30718</td>\n",
              "      <td>3.0718</td>\n",
              "    </tr>\n",
              "    <tr>\n",
              "      <th>9</th>\n",
              "      <td>19</td>\n",
              "      <td>30382</td>\n",
              "      <td>3.0382</td>\n",
              "    </tr>\n",
              "    <tr>\n",
              "      <th>23</th>\n",
              "      <td>20</td>\n",
              "      <td>30065</td>\n",
              "      <td>3.0065</td>\n",
              "    </tr>\n",
              "    <tr>\n",
              "      <th>17</th>\n",
              "      <td>18</td>\n",
              "      <td>29809</td>\n",
              "      <td>2.9809</td>\n",
              "    </tr>\n",
              "    <tr>\n",
              "      <th>29</th>\n",
              "      <td>23</td>\n",
              "      <td>29782</td>\n",
              "      <td>2.9782</td>\n",
              "    </tr>\n",
              "    <tr>\n",
              "      <th>16</th>\n",
              "      <td>14</td>\n",
              "      <td>28832</td>\n",
              "      <td>2.8832</td>\n",
              "    </tr>\n",
              "    <tr>\n",
              "      <th>5</th>\n",
              "      <td>5</td>\n",
              "      <td>28779</td>\n",
              "      <td>2.8779</td>\n",
              "    </tr>\n",
              "    <tr>\n",
              "      <th>24</th>\n",
              "      <td>28</td>\n",
              "      <td>28225</td>\n",
              "      <td>2.8225</td>\n",
              "    </tr>\n",
              "    <tr>\n",
              "      <th>20</th>\n",
              "      <td>31</td>\n",
              "      <td>28127</td>\n",
              "      <td>2.8127</td>\n",
              "    </tr>\n",
              "    <tr>\n",
              "      <th>35</th>\n",
              "      <td>0</td>\n",
              "      <td>27683</td>\n",
              "      <td>2.7683</td>\n",
              "    </tr>\n",
              "    <tr>\n",
              "      <th>11</th>\n",
              "      <td>29</td>\n",
              "      <td>27674</td>\n",
              "      <td>2.7674</td>\n",
              "    </tr>\n",
              "    <tr>\n",
              "      <th>7</th>\n",
              "      <td>17</td>\n",
              "      <td>27139</td>\n",
              "      <td>2.7139</td>\n",
              "    </tr>\n",
              "    <tr>\n",
              "      <th>19</th>\n",
              "      <td>26</td>\n",
              "      <td>26478</td>\n",
              "      <td>2.6478</td>\n",
              "    </tr>\n",
              "    <tr>\n",
              "      <th>3</th>\n",
              "      <td>32</td>\n",
              "      <td>26074</td>\n",
              "      <td>2.6074</td>\n",
              "    </tr>\n",
              "    <tr>\n",
              "      <th>33</th>\n",
              "      <td>27</td>\n",
              "      <td>25409</td>\n",
              "      <td>2.5409</td>\n",
              "    </tr>\n",
              "    <tr>\n",
              "      <th>6</th>\n",
              "      <td>13</td>\n",
              "      <td>25137</td>\n",
              "      <td>2.5137</td>\n",
              "    </tr>\n",
              "    <tr>\n",
              "      <th>22</th>\n",
              "      <td>39</td>\n",
              "      <td>24533</td>\n",
              "      <td>2.4533</td>\n",
              "    </tr>\n",
              "    <tr>\n",
              "      <th>27</th>\n",
              "      <td>11</td>\n",
              "      <td>24252</td>\n",
              "      <td>2.4252</td>\n",
              "    </tr>\n",
              "    <tr>\n",
              "      <th>32</th>\n",
              "      <td>12</td>\n",
              "      <td>24156</td>\n",
              "      <td>2.4156</td>\n",
              "    </tr>\n",
              "    <tr>\n",
              "      <th>14</th>\n",
              "      <td>4</td>\n",
              "      <td>23098</td>\n",
              "      <td>2.3098</td>\n",
              "    </tr>\n",
              "    <tr>\n",
              "      <th>25</th>\n",
              "      <td>34</td>\n",
              "      <td>21811</td>\n",
              "      <td>2.1811</td>\n",
              "    </tr>\n",
              "    <tr>\n",
              "      <th>37</th>\n",
              "      <td>8</td>\n",
              "      <td>21490</td>\n",
              "      <td>2.1490</td>\n",
              "    </tr>\n",
              "    <tr>\n",
              "      <th>21</th>\n",
              "      <td>33</td>\n",
              "      <td>21477</td>\n",
              "      <td>2.1477</td>\n",
              "    </tr>\n",
              "    <tr>\n",
              "      <th>4</th>\n",
              "      <td>37</td>\n",
              "      <td>21165</td>\n",
              "      <td>2.1165</td>\n",
              "    </tr>\n",
              "    <tr>\n",
              "      <th>15</th>\n",
              "      <td>9</td>\n",
              "      <td>21007</td>\n",
              "      <td>2.1007</td>\n",
              "    </tr>\n",
              "    <tr>\n",
              "      <th>26</th>\n",
              "      <td>6</td>\n",
              "      <td>20906</td>\n",
              "      <td>2.0906</td>\n",
              "    </tr>\n",
              "    <tr>\n",
              "      <th>34</th>\n",
              "      <td>38</td>\n",
              "      <td>20898</td>\n",
              "      <td>2.0898</td>\n",
              "    </tr>\n",
              "    <tr>\n",
              "      <th>36</th>\n",
              "      <td>3</td>\n",
              "      <td>20635</td>\n",
              "      <td>2.0635</td>\n",
              "    </tr>\n",
              "    <tr>\n",
              "      <th>12</th>\n",
              "      <td>35</td>\n",
              "      <td>20006</td>\n",
              "      <td>2.0006</td>\n",
              "    </tr>\n",
              "    <tr>\n",
              "      <th>13</th>\n",
              "      <td>1</td>\n",
              "      <td>17577</td>\n",
              "      <td>1.7577</td>\n",
              "    </tr>\n",
              "    <tr>\n",
              "      <th>38</th>\n",
              "      <td>2</td>\n",
              "      <td>16691</td>\n",
              "      <td>1.6691</td>\n",
              "    </tr>\n",
              "    <tr>\n",
              "      <th>18</th>\n",
              "      <td>22</td>\n",
              "      <td>11392</td>\n",
              "      <td>1.1392</td>\n",
              "    </tr>\n",
              "    <tr>\n",
              "      <th>30</th>\n",
              "      <td>36</td>\n",
              "      <td>7967</td>\n",
              "      <td>0.7967</td>\n",
              "    </tr>\n",
              "    <tr>\n",
              "      <th>31</th>\n",
              "      <td>7</td>\n",
              "      <td>7494</td>\n",
              "      <td>0.7494</td>\n",
              "    </tr>\n",
              "  </tbody>\n",
              "</table>\n",
              "</div>"
            ],
            "text/plain": [
              "     0      1     pct\n",
              "8   10  70420  7.0420\n",
              "0   15  36192  3.6192\n",
              "10  24  32999  3.2999\n",
              "28  16  32425  3.2425\n",
              "2   25  31096  3.1096\n",
              "1   21  30718  3.0718\n",
              "9   19  30382  3.0382\n",
              "23  20  30065  3.0065\n",
              "17  18  29809  2.9809\n",
              "29  23  29782  2.9782\n",
              "16  14  28832  2.8832\n",
              "5    5  28779  2.8779\n",
              "24  28  28225  2.8225\n",
              "20  31  28127  2.8127\n",
              "35   0  27683  2.7683\n",
              "11  29  27674  2.7674\n",
              "7   17  27139  2.7139\n",
              "19  26  26478  2.6478\n",
              "3   32  26074  2.6074\n",
              "33  27  25409  2.5409\n",
              "6   13  25137  2.5137\n",
              "22  39  24533  2.4533\n",
              "27  11  24252  2.4252\n",
              "32  12  24156  2.4156\n",
              "14   4  23098  2.3098\n",
              "25  34  21811  2.1811\n",
              "37   8  21490  2.1490\n",
              "21  33  21477  2.1477\n",
              "4   37  21165  2.1165\n",
              "15   9  21007  2.1007\n",
              "26   6  20906  2.0906\n",
              "34  38  20898  2.0898\n",
              "36   3  20635  2.0635\n",
              "12  35  20006  2.0006\n",
              "13   1  17577  1.7577\n",
              "38   2  16691  1.6691\n",
              "18  22  11392  1.1392\n",
              "30  36   7967  0.7967\n",
              "31   7   7494  0.7494"
            ]
          },
          "metadata": {},
          "execution_count": 102
        }
      ]
    },
    {
      "cell_type": "code",
      "metadata": {
        "id": "mlBlEjXyZGVY",
        "colab": {
          "base_uri": "https://localhost:8080/",
          "height": 162
        },
        "outputId": "c0b98cec-0971-451b-f580-b108455c0b7f"
      },
      "source": [
        "1/0"
      ],
      "execution_count": 14,
      "outputs": [
        {
          "output_type": "error",
          "ename": "ZeroDivisionError",
          "evalue": "ignored",
          "traceback": [
            "\u001b[0;31m---------------------------------------------------------------------------\u001b[0m",
            "\u001b[0;31mZeroDivisionError\u001b[0m                         Traceback (most recent call last)",
            "\u001b[0;32m<ipython-input-14-9e1622b385b6>\u001b[0m in \u001b[0;36m<module>\u001b[0;34m()\u001b[0m\n\u001b[0;32m----> 1\u001b[0;31m \u001b[0;36m1\u001b[0m\u001b[0;34m/\u001b[0m\u001b[0;36m0\u001b[0m\u001b[0;34m\u001b[0m\u001b[0;34m\u001b[0m\u001b[0m\n\u001b[0m",
            "\u001b[0;31mZeroDivisionError\u001b[0m: division by zero"
          ]
        }
      ]
    },
    {
      "cell_type": "markdown",
      "metadata": {
        "id": "oY_oAcG4ZGVa"
      },
      "source": [
        "# Monopoly Square - Image Manipulation"
      ]
    },
    {
      "cell_type": "code",
      "metadata": {
        "id": "ea8ExNyHjqyV"
      },
      "source": [
        "# Importing the PIL library\n",
        "from PIL import Image\n",
        "from PIL import ImageDraw\n",
        "from PIL import ImageFont"
      ],
      "execution_count": 16,
      "outputs": []
    },
    {
      "cell_type": "code",
      "metadata": {
        "id": "8_1gr-oikHhO"
      },
      "source": [
        "import requests\n",
        "from io import BytesIO\n",
        "url = \"https://projecteuler.net/project/images/p084_monopoly_board.png\"\n",
        "response = requests.get(url)\n",
        "orig_img = Image.open(BytesIO(response.content))"
      ],
      "execution_count": 17,
      "outputs": []
    },
    {
      "cell_type": "code",
      "metadata": {
        "id": "vn9N6s34qsSb",
        "colab": {
          "base_uri": "https://localhost:8080/",
          "height": 500
        },
        "outputId": "a894606a-bce2-417c-f456-2694945e6d87"
      },
      "source": [
        "# Open an Image\n",
        "img = orig_img.copy()\n",
        "\n",
        "myfont = ImageFont.truetype(r'/usr/share/fonts/truetype/liberation/LiberationMono-Regular.ttf', 20)\n",
        "\n",
        "# myfont = ImageFont.truetype(\"arial.ttf\", 1)\n",
        " \n",
        "# Call draw Method to add 2D graphics in an image\n",
        "I1 = ImageDraw.Draw(img) \n",
        "\n",
        "mysq = -1\n",
        "\n",
        "for i in range(4):\n",
        "  \n",
        "  \n",
        "  if i == 0:\n",
        "    print ('walk right 0 to 9')\n",
        "    for sq in range(10):\n",
        "      x = 40.7*sq + 10\n",
        "      y = 37.8*i + 5\n",
        "\n",
        "      m = lst_monopoly_squares[mysq]\n",
        "      mysq+=1\n",
        "\n",
        "      \n",
        "      I1.text((x, y),f'{mysq}', font=myfont, fill =(255, 0, 0))\n",
        "\n",
        "  if i == 1:\n",
        "    print ('walk down 0 to 9')\n",
        "   \n",
        "    for sq in range(10):\n",
        "      x = 40.7*10 + 10\n",
        "      y = 37.8*sq + 5\n",
        "      m = lst_monopoly_squares[mysq]\n",
        "      mysq+=1      \n",
        "      I1.text((x, y),f'{mysq}',font=myfont, fill =(255, 0, 0))\n",
        "\n",
        "  if i == 2:\n",
        "    print ('walk left 0 to 9')\n",
        "\n",
        "    for sq in range(10, 0, -1):\n",
        "      x = 40.7*sq + 10\n",
        "      y = 37.8*10 #+ 5\n",
        "      m = lst_monopoly_squares[mysq]\n",
        "      mysq+=1      \n",
        "      I1.text((x, y),f'{mysq}', font=myfont,fill =(255, 0, 0))\n",
        "  \n",
        "  if i == 3:\n",
        "    print ('walk up 0 to 9')\n",
        "\n",
        "    for sq in range(10, 0, -1):\n",
        "      x = 40.7*0 + 10\n",
        "      y = 37.8*sq + 3\n",
        "      m = lst_monopoly_squares[mysq]\n",
        "      mysq+=1      \n",
        "      I1.text((x, y),f'{mysq}', font=myfont,fill =(255, 0, 0))\n",
        "\n",
        " # Display edited image\n",
        "img"
      ],
      "execution_count": 18,
      "outputs": [
        {
          "output_type": "stream",
          "name": "stdout",
          "text": [
            "walk right 0 to 9\n",
            "walk down 0 to 9\n",
            "walk left 0 to 9\n",
            "walk up 0 to 9\n"
          ]
        },
        {
          "output_type": "execute_result",
          "data": {
            "image/png": "[encoded data removed]",
            "text/plain": [
              "<PIL.Image.Image image mode=RGBA size=448x416 at 0x7F66B7D34910>"
            ]
          },
          "metadata": {},
          "execution_count": 18
        }
      ]
    },
    {
      "cell_type": "code",
      "metadata": {
        "id": "_6e6D4EzkOyn",
        "colab": {
          "base_uri": "https://localhost:8080/",
          "height": 433
        },
        "outputId": "88cf7c98-3c3d-4d7f-e68a-a4e3fd6bdd26"
      },
      "source": [
        "# Open an Image\n",
        "img = orig_img.copy()\n",
        " \n",
        "# Call draw Method to add 2D graphics in an image\n",
        "I1 = ImageDraw.Draw(img)\n",
        "\n",
        "for sq in range(40):\n",
        "  \n",
        "  x = 40.7*i + 10\n",
        "  for j in range(11):\n",
        "    if (i >=1 and i <= 9) and (j>=1 and j<=9):\n",
        "      continue\n",
        "    \n",
        "  \n",
        "    y = 37.8*j + 5\n",
        "\n",
        "    I1.text((x, y), f'{i},{j}', fill =(255, 0, 0))\n",
        "  \n",
        "# Display edited image\n",
        "img\n"
      ],
      "execution_count": 107,
      "outputs": [
        {
          "output_type": "execute_result",
          "data": {
            "image/png": "[encoded data removed]",
            "text/plain": [
              "<PIL.Image.Image image mode=RGBA size=448x416 at 0x7F66B02FDC90>"
            ]
          },
          "metadata": {},
          "execution_count": 107
        }
      ]
    },
    {
      "cell_type": "code",
      "metadata": {
        "id": "pEOlhs06mUgN",
        "colab": {
          "base_uri": "https://localhost:8080/",
          "height": 433
        },
        "outputId": "28771e63-8d90-49a8-d8fd-d0039e1368f9"
      },
      "source": [
        "# Open an Image\n",
        "img = orig_img.copy()\n",
        " \n",
        "# Call draw Method to add 2D graphics in an image\n",
        "I1 = ImageDraw.Draw(img)\n",
        " \n",
        "# Custom font style and font size\n",
        "# myFont = ImageFont.truetype('FreeMono.ttf', 65)\n",
        " \n",
        "# Add Text to an image\n",
        "\n",
        "for i in range(11):\n",
        "  x = 40.7*i + 10\n",
        "  for j in range(11):\n",
        "    if (i >=1 and i <= 9) and (j>=1 and j<=9):\n",
        "      continue\n",
        "    \n",
        "  \n",
        "    y = 37.8*j + 5\n",
        "\n",
        "    I1.text((x, y), f'{i},{j}', fill =(255, 0, 0))\n",
        "  \n",
        "# Display edited image\n",
        "img\n"
      ],
      "execution_count": 106,
      "outputs": [
        {
          "output_type": "execute_result",
          "data": {
            "image/png": "[encoded data removed]",
            "text/plain": [
              "<PIL.Image.Image image mode=RGBA size=448x416 at 0x7F66B01BA490>"
            ]
          },
          "metadata": {},
          "execution_count": 106
        }
      ]
    },
    {
      "cell_type": "markdown",
      "metadata": {
        "id": "NUkS-6MmrQya"
      },
      "source": [
        "# Testing Area"
      ]
    },
    {
      "cell_type": "markdown",
      "metadata": {
        "id": "mFm12EVr7Wri"
      },
      "source": [
        "## Simple Test1"
      ]
    },
    {
      "cell_type": "code",
      "metadata": {
        "tags": [],
        "id": "q-kuL75sZGVd",
        "colab": {
          "base_uri": "https://localhost:8080/"
        },
        "outputId": "fa0079a3-1ea8-4f02-805f-162c2294579c"
      },
      "source": [
        "mylist = [5, 15, 25, 35]\n",
        "\n",
        "currno = 36\n",
        "\n",
        "if currno > mylist[-1]:\n",
        "    selection = mylist[0]\n",
        "else:    \n",
        "    for i in mylist:\n",
        "        if currno > i:\n",
        "            continue\n",
        "        else:\n",
        "            selection = i\n",
        "            break\n",
        "\n",
        "print(selection)\n",
        "    "
      ],
      "execution_count": 105,
      "outputs": [
        {
          "output_type": "stream",
          "name": "stdout",
          "text": [
            "5\n"
          ]
        }
      ]
    },
    {
      "cell_type": "markdown",
      "metadata": {
        "id": "Wqw4A87RZGVe"
      },
      "source": [
        "## Logging Test"
      ]
    },
    {
      "cell_type": "code",
      "metadata": {
        "id": "5QEVMeCKZGVf",
        "colab": {
          "base_uri": "https://localhost:8080/"
        },
        "outputId": "69518836-b03a-47e2-fb5e-7dc7027c4a4a"
      },
      "source": [
        "# 'application' code\n",
        "logger.debug('debug message')\n",
        "logger.info('info message')\n",
        "logger.info('warn message')\n",
        "logger.error('error message')\n",
        "logger.critical('critical message')"
      ],
      "execution_count": 104,
      "outputs": [
        {
          "output_type": "stream",
          "name": "stderr",
          "text": [
            "critical message\n"
          ]
        }
      ]
    }
  ]
}