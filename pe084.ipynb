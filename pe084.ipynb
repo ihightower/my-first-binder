{
  "nbformat": 4,
  "nbformat_minor": 0,
  "metadata": {
    "kernelspec": {
      "display_name": "Python 3 (ipykernel)",
      "language": "python",
      "name": "python3"
    },
    "language_info": {
      "codemirror_mode": {
        "name": "ipython",
        "version": 3
      },
      "file_extension": ".py",
      "mimetype": "text/x-python",
      "name": "python",
      "nbconvert_exporter": "python",
      "pygments_lexer": "ipython3",
      "version": "3.7.10"
    },
    "toc-autonumbering": true,
    "colab": {
      "name": "pe084.ipynb",
      "provenance": [],
      "toc_visible": true,
      "include_colab_link": true
    }
  },
  "cells": [
    {
      "cell_type": "markdown",
      "metadata": {
        "id": "view-in-github",
        "colab_type": "text"
      },
      "source": [
        "<a href=\"https://colab.research.google.com/github/ihightower/my-first-binder/blob/main/pe084.ipynb\" target=\"_parent\"><img src=\"https://colab.research.google.com/assets/colab-badge.svg\" alt=\"Open In Colab\"/></a>"
      ]
    },
    {
      "cell_type": "markdown",
      "metadata": {
        "id": "kLyvBzqaZGU0"
      },
      "source": [
        "# Import"
      ]
    },
    {
      "cell_type": "code",
      "metadata": {
        "collapsed": true,
        "jupyter": {
          "outputs_hidden": true
        },
        "tags": [],
        "id": "duhX_hrsZGU_"
      },
      "source": [
        "# !pip install pandas"
      ],
      "execution_count": 1,
      "outputs": []
    },
    {
      "cell_type": "code",
      "metadata": {
        "colab": {
          "base_uri": "https://localhost:8080/"
        },
        "id": "1fIvD5W3ZGVC",
        "outputId": "4b6b980d-590b-4abd-ee06-66265081cb8a"
      },
      "source": [
        "print('last saved 11nov 14:05')"
      ],
      "execution_count": 2,
      "outputs": [
        {
          "output_type": "stream",
          "name": "stdout",
          "text": [
            "last saved 11nov 14:05\n"
          ]
        }
      ]
    },
    {
      "cell_type": "code",
      "metadata": {
        "id": "zjZH2J9hZGVD"
      },
      "source": [
        "import random\n",
        "import pandas as pd\n",
        "import time\n"
      ],
      "execution_count": 3,
      "outputs": []
    },
    {
      "cell_type": "code",
      "metadata": {
        "id": "bkuZ_XQyZGVf"
      },
      "source": [
        "# del logging, logger, ch, formatter\n",
        "from importlib import reload\n",
        "import logging\n",
        "logging.shutdown()\n",
        "reload(logging)\n",
        "\n",
        "\n",
        "# create logger\n",
        "logger = logging.getLogger('simple_example')\n",
        "logger.setLevel(logging.DEBUG)\n",
        "\n",
        " # create console handler and set level to debug\n",
        "ch = logging.StreamHandler()\n",
        "ch.setLevel(logging.DEBUG)\n",
        "\n",
        "# create formatter\n",
        "#formatter = logging.Formatter('%(asctime)s - %(name)s - %(levelname)s - %(message)s')\n",
        "\n",
        "# add formatter to ch\n",
        "#ch.setFormatter(formatter)\n",
        "\n",
        "# add ch to logger\n",
        "logger.addHandler(ch)\n"
      ],
      "execution_count": 4,
      "outputs": []
    },
    {
      "cell_type": "markdown",
      "metadata": {
        "id": "2dkxl8XRZGVE"
      },
      "source": [
        "# Project Euler P084"
      ]
    },
    {
      "cell_type": "markdown",
      "metadata": {
        "id": "3PVvd-e6ZGVF"
      },
      "source": [
        "<img src=\"https://projecteuler.net/project/images/p084_monopoly_board.png\">\n",
        "\n",
        "\n"
      ]
    },
    {
      "cell_type": "markdown",
      "metadata": {
        "tags": [],
        "id": "N6TEU_PZZGVG"
      },
      "source": [
        "In the game, Monopoly, the standard board is set up in the following way:\n",
        "\n",
        "A player starts on the GO square and adds the scores on two 6-sided dice to determine the number of squares they advance in a clockwise direction. Without any further rules we would expect to visit each square with equal probability: 2.5%. However, landing on G2J (Go To Jail), CC (community chest), and CH (chance) changes this distribution.\n",
        "\n",
        "In addition to G2J, and one card from each of CC and CH, that orders the player to go directly to jail, **if a player rolls three consecutive doubles, they do not advance the result of their 3rd roll. Instead they proceed directly to jail.**\n",
        "\n",
        "At the beginning of the game, the CC and CH cards are shuffled. When a player lands on CC or CH they take a card from the top of the respective pile and, after following the instructions, it is returned to the bottom of the pile. There are sixteen cards in each pile, but for the purpose of this problem we are only concerned with cards that order a movement; any instruction not concerned with movement will be ignored and the player will remain on the CC/CH square.\n",
        "\n",
        "\n",
        "Community Chest (2/16 cards):\n",
        "* Advance to GO\n",
        "* Go to JAIL\n",
        "\n",
        "Chance (10/16 cards):\n",
        "\n",
        "* Advance to GO\n",
        "* Go to JAIL\n",
        "* Go to C1\n",
        "* Go to E3\n",
        "* Go to H2\n",
        "* Go to R1\n",
        "* Go to next R (railway company)\n",
        "* Go to next R\n",
        "* Go to next U (utility company)\n",
        "* Go back 3 squares.\n",
        "\n",
        "\n",
        "The heart of this problem concerns the likelihood of visiting a particular square. That is, the probability of finishing at that square after a roll. For this reason it should be clear that, with the exception of G2J for which the probability of finishing on it is zero, the CH squares will have the lowest probabilities, as 5/8 request a movement to another square, and it is the final square that the player finishes at on each roll that we are interested in. We shall make no distinction between \"Just Visiting\" and being sent to JAIL, and we shall also ignore the rule about requiring a double to \"get out of jail\", assuming that they pay to get out on their next turn.\n",
        "\n",
        "By starting at GO and numbering the squares sequentially from 00 to 39 we can concatenate these two-digit numbers to produce strings that correspond with sets of squares.\n",
        "\n",
        "Statistically it can be shown that the three most popular squares, in order, are JAIL (6.24%) = Square 10, E3 (3.18%) = Square 24, and GO (3.09%) = Square 00. So these three most popular squares can be listed with the six-digit modal string: 102400.\n",
        "\n",
        "If, instead of using two 6-sided dice, two 4-sided dice are used, find the six-digit modal string."
      ]
    },
    {
      "cell_type": "markdown",
      "metadata": {
        "id": "5Q4Nu0eacyMM"
      },
      "source": [
        "# Code Starts"
      ]
    },
    {
      "cell_type": "markdown",
      "metadata": {
        "tags": [],
        "id": "2JIxjx8kZGVI"
      },
      "source": [
        "## Set Monopoly Squares"
      ]
    },
    {
      "cell_type": "code",
      "metadata": {
        "colab": {
          "base_uri": "https://localhost:8080/"
        },
        "id": "vRPzpHeEZGVJ",
        "outputId": "df7e480a-50e8-4de0-a8a8-5f81fdd8bfbf"
      },
      "source": [
        "#pe084 - Monopoly odds\n",
        "lst_monopoly_squares = [\n",
        "    'GO', 'A1', 'CC1', 'A2', 'T1', 'R1', 'B1', 'CH1', 'B2', 'B3', 'JAIL', 'C1',\n",
        "    'U1', 'C2', 'C3', 'R2', 'D1', 'CC2', 'D2', 'D3', 'FP', 'E1', 'CH2', 'E2',\n",
        "    'E3', 'R3', 'F1', 'F2', 'U2', 'F3', 'G2J', 'G1', 'G2', 'CC3', 'G3', 'R4',\n",
        "    'CH3', 'H1', 'T2', 'H2'\n",
        "]\n",
        "\n",
        "lst_comchest = [0, 10] + [99] * 14\n",
        "random.shuffle(lst_comchest)\n",
        "\n",
        "lst_chance = [0, 10, 11, 24, 39, 5, [5, 15, 25, 35], [5, 15, 25, 35], [12, 28], -3] + [99] * 6\n",
        "random.shuffle(lst_chance)\n",
        "\n",
        "print(lst_comchest)\n",
        "print(lst_chance)\n",
        "\n"
      ],
      "execution_count": 5,
      "outputs": [
        {
          "output_type": "stream",
          "name": "stdout",
          "text": [
            "[99, 99, 10, 99, 99, 0, 99, 99, 99, 99, 99, 99, 99, 99, 99, 99]\n",
            "[99, 5, 24, -3, 99, 99, 0, 99, [5, 15, 25, 35], 39, [12, 28], 99, [5, 15, 25, 35], 99, 11, 10]\n"
          ]
        }
      ]
    },
    {
      "cell_type": "code",
      "metadata": {
        "id": "yNeYX9m9ZGVL"
      },
      "source": [
        "lst_comchest_pos = [2, 17, 33]\n",
        "lst_chance_pos = [7, 22, 36]"
      ],
      "execution_count": 6,
      "outputs": []
    },
    {
      "cell_type": "code",
      "metadata": {
        "colab": {
          "base_uri": "https://localhost:8080/"
        },
        "id": "ECykQYTWZGVM",
        "outputId": "f555a7a3-df78-4306-ee31-dcde9d76268e"
      },
      "source": [
        "print('comechest cards: ', lst_comchest)\n",
        "print('chance cards: ',lst_chance)"
      ],
      "execution_count": 7,
      "outputs": [
        {
          "output_type": "stream",
          "name": "stdout",
          "text": [
            "comechest cards:  [99, 99, 10, 99, 99, 0, 99, 99, 99, 99, 99, 99, 99, 99, 99, 99]\n",
            "chance cards:  [99, 5, 24, -3, 99, 99, 0, 99, [5, 15, 25, 35], 39, [12, 28], 99, [5, 15, 25, 35], 99, 11, 10]\n"
          ]
        }
      ]
    },
    {
      "cell_type": "markdown",
      "metadata": {
        "id": "vavyoejPZGVN"
      },
      "source": [
        "## Functions"
      ]
    },
    {
      "cell_type": "markdown",
      "metadata": {
        "id": "KAkTrrQuZGVO"
      },
      "source": [
        "### func: move_from"
      ]
    },
    {
      "cell_type": "code",
      "metadata": {
        "id": "WY0UFbNjZGVQ"
      },
      "source": [
        "def move_from(currpos):\n",
        "    \n",
        "    global gRollingDoubles\n",
        "    \n",
        "    dice_sides = 6\n",
        "    \n",
        "    dice1 = random.randint(1, dice_sides)\n",
        "    dice2 = random.randint(1, dice_sides)\n",
        "    \n",
        "    dice_roll = dice1 + dice2\n",
        "    \n",
        "    if dice1 == dice2:\n",
        "        gRollingDoubles += 1\n",
        "    else:\n",
        "        gRollingDoubles = 0\n",
        " \n",
        "    if gRollingDoubles == 1:\n",
        "        logger.debug(f'       rolled 1st double in {currpos}')\n",
        "        # logger.setLevel(logging.WARNING)\n",
        "        pass\n",
        "    \n",
        "    if gRollingDoubles == 2:\n",
        "        logger.warning(f'       rolled 2nd double in {currpos}')\n",
        "        # logger.setLevel(logging.WARNING)\n",
        "        pass\n",
        "    \n",
        "    if gRollingDoubles == 3:\n",
        "        # logger.setLevel(logging.DEBUG)\n",
        "        \n",
        "        logger.warning(f'       rolled 3rd double in {currpos}... and now going to jail')\n",
        " #         print('rolled 3 doubles, going to jail.. from ', newpos)\n",
        "        newpos = 10 # go to jail\n",
        "        gRollingDoubles = 0\n",
        "        \n",
        "        logger.warning(f'...... dice rolled: {dice1}+{dice2}={dice_roll}, from: {currpos} to: {newpos}')\n",
        "        return newpos\n",
        "\n",
        "    \n",
        "    newpos = (currpos + dice_roll) % 40\n",
        " \n",
        " \n",
        "    logger.debug(f'...... dice rolled: {dice1}+{dice2}={dice_roll}, from: {currpos} to: {newpos}')\n",
        "    \n",
        "    \n",
        "    if newpos == 20:\n",
        "        logger.debug(f'in {newpos}... should go to jail. RollingDouble#:{gRollingDoubles}')\n",
        "        newpos = 10\n",
        "        #gRollingDoubles = 0\n",
        "\n",
        "\n",
        "    \n",
        "\n",
        " #     print('\\n...... dice rolled', currpos, dice_roll, newpos)\n",
        "    return newpos"
      ],
      "execution_count": 17,
      "outputs": []
    },
    {
      "cell_type": "markdown",
      "metadata": {
        "id": "4m3EKsiVZGVR"
      },
      "source": [
        "\n",
        "\n",
        "```\n",
        "...... dice rolled: 6, from: 25 to: 31\n",
        "...... dice rolled: 9, from: 31 to: 0\n",
        "rolled 1st double in 0\n",
        "...... dice rolled: 10, from: 0 to: 10\n",
        "...... dice rolled: 10, from: 10 to: 10\n",
        "```\n",
        "\n"
      ]
    },
    {
      "cell_type": "markdown",
      "metadata": {
        "id": "X-aghdeUZGVS"
      },
      "source": [
        "### func: take_chance_card"
      ]
    },
    {
      "cell_type": "code",
      "metadata": {
        "id": "VAJK4cncZGVT"
      },
      "source": [
        "# chace cards:  [11, -3, [12, 28], 99, 99, [5, 15, 25, 35], 99, 0, [5, 15, 25, 35], 39, 99, 99, 24, 5, 10, 99]\n",
        "def take_chance_card(currpos):\n",
        "    global gCHANCELOC\n",
        "    newpos = currpos\n",
        "    \n",
        "    chance_card = lst_chance[gCHANCELOC]\n",
        "    logger.info(f'  in pos:{currpos}, seq: {gCHANCELOC}, card: {chance_card} {type(chance_card)}')\n",
        " #     print('  in pos:', currpos, ' seq: ', gCHANCELOC, ' card: ',  chance_card, type(chance_card))\n",
        "\n",
        "    if (chance_card == 99):\n",
        "        newpos = currpos\n",
        "        pass\n",
        " #         print(' STAYING PUT RIGHT HERE')\n",
        "    elif (type(chance_card) is int and chance_card < 0):\n",
        "        newpos = currpos + chance_card\n",
        "        newpos %= 40\n",
        "        \n",
        " #         print('>>> moving to: ', newpos)\n",
        "        \n",
        "    elif (type(chance_card) is int):   \n",
        "        newpos = chance_card\n",
        " #         print('>>> moving to: ', newpos)\n",
        "        \n",
        "    else:\n",
        " #         print('>>> moving to: ', 'sorry i am a list, i think')\n",
        "                \n",
        "        if currpos > chance_card[-1]:\n",
        "            newpos = chance_card[0]\n",
        "        else:    \n",
        "            for i in chance_card:\n",
        "                if currpos > i:\n",
        "                    continue\n",
        "                else:\n",
        "                    newpos = i\n",
        "                    break\n",
        "        \n",
        "    \n",
        "    \n",
        "    gCHANCELOC += 1\n",
        "    gCHANCELOC %= len(lst_chance)\n",
        "    \n",
        "    return newpos\n",
        "    "
      ],
      "execution_count": 9,
      "outputs": []
    },
    {
      "cell_type": "markdown",
      "metadata": {
        "id": "-C81EsMKZGVU"
      },
      "source": [
        "### func: take_comchest_card"
      ]
    },
    {
      "cell_type": "code",
      "metadata": {
        "tags": [],
        "id": "5d-Xk-7cZGVU",
        "cellView": "form"
      },
      "source": [
        "#@title\n",
        "# comechest cards:  [99, 99, 99, 0, 99, 99, 99, 99, 99, 10, 99, 99, 99, 99, 99, 99]\n",
        "\n",
        "def take_comchest_card(currpos):\n",
        "    global gCOMCHESTLOC\n",
        "    newpos = currpos\n",
        "    \n",
        "    comchest_card = lst_comchest[gCOMCHESTLOC]\n",
        "    logger.info(f'  in pos:{currpos}, seq: {gCOMCHESTLOC}, card: {comchest_card} {type(comchest_card)}')\n",
        "  #     print('  in pos:', currpos, ' seq: ', gCOMCHESTLOC, ' card: ', comchest_card, type(comchest_card))\n",
        "    \n",
        "    if (comchest_card == 99):\n",
        "        newpos = currpos\n",
        "        pass\n",
        " #         print(' STAYING PUT RIGHT HERE')\n",
        "    elif (type(comchest_card) is int):\n",
        "        newpos = comchest_card\n",
        " #         print('>>> moving to: ', newpos)\n",
        "        \n",
        "    else:\n",
        "        pass\n",
        " #         print('>>> moving to: ', 'sorry i am a list, i think')\n",
        "\n",
        "        \n",
        "        \n",
        "        if currpos > comchest_card[-1]:\n",
        "            newpos = comchest_card[0]\n",
        "        else:    \n",
        "            for i in comchest_card:\n",
        "                if currpos > i:\n",
        "                    continue\n",
        "                else:\n",
        "                    newpos = i\n",
        "                    break        \n",
        "        \n",
        "    gCOMCHESTLOC += 1\n",
        "    gCOMCHESTLOC %= len(lst_comchest)\n",
        "    \n",
        "    return newpos"
      ],
      "execution_count": 10,
      "outputs": []
    },
    {
      "cell_type": "markdown",
      "metadata": {
        "id": "lq0GNFZKg5VM"
      },
      "source": [
        "### func: run_simulation"
      ]
    },
    {
      "cell_type": "code",
      "metadata": {
        "id": "XK-taoRPZGVW"
      },
      "source": [
        "def run_simulation(simcount, currpos=0):\n",
        "\n",
        "  for simu in range(simcount):\n",
        "      # time.sleep(1)\n",
        "\n",
        "      currpos = move_from(currpos)\n",
        "      \n",
        "  #     print(' in position now:', currpos, lst_monopoly_squares[currpos])\n",
        "      \n",
        "      if currpos in lst_chance_pos:\n",
        "          \n",
        "          # logger.setLevel(logging.CRITICAL)\n",
        "          \n",
        "          logger.info('\\n>>> i am taking chance')\n",
        "  #         print('\\n>>> i am taking chance')\n",
        "          currpos = take_chance_card(currpos)\n",
        "          logger.info(f'   moved to {currpos}\\n')\n",
        "          \n",
        "          # logger.setLevel(logging.INFO)\n",
        "  #         print('.... moved to', currpos)\n",
        "          pass\n",
        "          #print(mychance_card)\n",
        "      \n",
        "      if currpos in lst_comchest_pos:\n",
        "          # logger.setLevel(logging.CRITICAL)\n",
        "          # logger.setLevel(logging.INFO)\n",
        "          logger.info('\\n>>> i am taking community chest')\n",
        "  #         print('\\n>>> i am community chest')\n",
        "          currpos = take_comchest_card(currpos)\n",
        "          logger.info(f'   moved to {currpos}\\n')\n",
        "          # logger.setLevel(logging.INFO)\n",
        "\n",
        "  #         print('.... moved to', currpos)\n",
        "          #print(mycomchest_card)\n",
        "      \n",
        "      if gRollingDoubles == 1:\n",
        "        continue\n",
        "\n",
        "      if gRollingDoubles == 0 or True:\n",
        "        logger.info(f'yes move counted {currpos}')\n",
        "        dictsq[currpos] = dictsq.get(currpos, 0) + 1\n",
        "\n",
        "  #     print(dice2, cuminsquare, insquare)\n",
        "\n",
        "  print(dict(sorted(dictsq.items())))\n",
        "\n",
        "  data_items = dictsq.items()\n",
        "  data_list = list(data_items)\n",
        "\n",
        "  df = pd.DataFrame(data_list)\n",
        "  return df\n",
        "  #df.sort_values([1], ascending=False)\n",
        "\n",
        " "
      ],
      "execution_count": 14,
      "outputs": []
    },
    {
      "cell_type": "markdown",
      "metadata": {
        "id": "UMFkcVBQZGVV"
      },
      "source": [
        "# Run Simulation"
      ]
    },
    {
      "cell_type": "markdown",
      "metadata": {
        "id": "sVV0NVL2OPbF"
      },
      "source": [
        "<a href=\"https://projecteuler.net/problem=84\">problem link</a>"
      ]
    },
    {
      "cell_type": "code",
      "metadata": {
        "colab": {
          "base_uri": "https://localhost:8080/",
          "height": 1000
        },
        "id": "lSyDLNqgYNza",
        "outputId": "d7a0a5a1-05e5-4a4c-fa96-3f0bebf4da4c"
      },
      "source": [
        " # answer: 102400\n",
        "\n",
        "currpos = 0 #helllo\n",
        "dictsq = {}\n",
        "\n",
        "gCOMCHESTLOC = 0\n",
        "gCHANCELOC = 0\n",
        "gRollingDoubles = 0\n",
        "\n",
        "# logger.setLevel(logging.DEBUG)\n",
        "# logger.setLevel(logging.WARNING)\n",
        "logger.setLevel(logging.CRITICAL)\n",
        "\n",
        "simcount = 2_000_000\n",
        "df = run_simulation(simcount)\n",
        "\n",
        "\n",
        "df['pct'] = df.iloc[:,1]/simcount *100\n",
        "df.sort_values([1], ascending=False)"
      ],
      "execution_count": 28,
      "outputs": [
        {
          "output_type": "stream",
          "name": "stdout",
          "text": [
            "{0: 55699, 1: 37393, 2: 32685, 3: 37518, 4: 41083, 5: 52660, 6: 40882, 7: 15825, 8: 41947, 9: 41683, 10: 115725, 11: 47940, 12: 43905, 13: 43636, 14: 42800, 15: 54123, 16: 49706, 17: 48890, 18: 52220, 19: 57145, 21: 51694, 22: 18639, 23: 45711, 24: 54868, 25: 47691, 26: 42125, 27: 37088, 28: 42442, 29: 36752, 30: 40947, 31: 40404, 32: 43138, 33: 39350, 34: 42204, 35: 41766, 36: 14658, 37: 40535, 38: 40334, 39: 47222}\n"
          ]
        },
        {
          "output_type": "execute_result",
          "data": {
            "text/html": [
              "<div>\n",
              "<style scoped>\n",
              "    .dataframe tbody tr th:only-of-type {\n",
              "        vertical-align: middle;\n",
              "    }\n",
              "\n",
              "    .dataframe tbody tr th {\n",
              "        vertical-align: top;\n",
              "    }\n",
              "\n",
              "    .dataframe thead th {\n",
              "        text-align: right;\n",
              "    }\n",
              "</style>\n",
              "<table border=\"1\" class=\"dataframe\">\n",
              "  <thead>\n",
              "    <tr style=\"text-align: right;\">\n",
              "      <th></th>\n",
              "      <th>0</th>\n",
              "      <th>1</th>\n",
              "      <th>pct</th>\n",
              "    </tr>\n",
              "  </thead>\n",
              "  <tbody>\n",
              "    <tr>\n",
              "      <th>5</th>\n",
              "      <td>10</td>\n",
              "      <td>115725</td>\n",
              "      <td>5.78625</td>\n",
              "    </tr>\n",
              "    <tr>\n",
              "      <th>1</th>\n",
              "      <td>19</td>\n",
              "      <td>57145</td>\n",
              "      <td>2.85725</td>\n",
              "    </tr>\n",
              "    <tr>\n",
              "      <th>7</th>\n",
              "      <td>0</td>\n",
              "      <td>55699</td>\n",
              "      <td>2.78495</td>\n",
              "    </tr>\n",
              "    <tr>\n",
              "      <th>10</th>\n",
              "      <td>24</td>\n",
              "      <td>54868</td>\n",
              "      <td>2.74340</td>\n",
              "    </tr>\n",
              "    <tr>\n",
              "      <th>14</th>\n",
              "      <td>15</td>\n",
              "      <td>54123</td>\n",
              "      <td>2.70615</td>\n",
              "    </tr>\n",
              "    <tr>\n",
              "      <th>31</th>\n",
              "      <td>5</td>\n",
              "      <td>52660</td>\n",
              "      <td>2.63300</td>\n",
              "    </tr>\n",
              "    <tr>\n",
              "      <th>6</th>\n",
              "      <td>18</td>\n",
              "      <td>52220</td>\n",
              "      <td>2.61100</td>\n",
              "    </tr>\n",
              "    <tr>\n",
              "      <th>20</th>\n",
              "      <td>21</td>\n",
              "      <td>51694</td>\n",
              "      <td>2.58470</td>\n",
              "    </tr>\n",
              "    <tr>\n",
              "      <th>27</th>\n",
              "      <td>16</td>\n",
              "      <td>49706</td>\n",
              "      <td>2.48530</td>\n",
              "    </tr>\n",
              "    <tr>\n",
              "      <th>9</th>\n",
              "      <td>17</td>\n",
              "      <td>48890</td>\n",
              "      <td>2.44450</td>\n",
              "    </tr>\n",
              "    <tr>\n",
              "      <th>36</th>\n",
              "      <td>11</td>\n",
              "      <td>47940</td>\n",
              "      <td>2.39700</td>\n",
              "    </tr>\n",
              "    <tr>\n",
              "      <th>15</th>\n",
              "      <td>25</td>\n",
              "      <td>47691</td>\n",
              "      <td>2.38455</td>\n",
              "    </tr>\n",
              "    <tr>\n",
              "      <th>32</th>\n",
              "      <td>39</td>\n",
              "      <td>47222</td>\n",
              "      <td>2.36110</td>\n",
              "    </tr>\n",
              "    <tr>\n",
              "      <th>38</th>\n",
              "      <td>23</td>\n",
              "      <td>45711</td>\n",
              "      <td>2.28555</td>\n",
              "    </tr>\n",
              "    <tr>\n",
              "      <th>19</th>\n",
              "      <td>12</td>\n",
              "      <td>43905</td>\n",
              "      <td>2.19525</td>\n",
              "    </tr>\n",
              "    <tr>\n",
              "      <th>25</th>\n",
              "      <td>13</td>\n",
              "      <td>43636</td>\n",
              "      <td>2.18180</td>\n",
              "    </tr>\n",
              "    <tr>\n",
              "      <th>3</th>\n",
              "      <td>32</td>\n",
              "      <td>43138</td>\n",
              "      <td>2.15690</td>\n",
              "    </tr>\n",
              "    <tr>\n",
              "      <th>30</th>\n",
              "      <td>14</td>\n",
              "      <td>42800</td>\n",
              "      <td>2.14000</td>\n",
              "    </tr>\n",
              "    <tr>\n",
              "      <th>2</th>\n",
              "      <td>28</td>\n",
              "      <td>42442</td>\n",
              "      <td>2.12210</td>\n",
              "    </tr>\n",
              "    <tr>\n",
              "      <th>33</th>\n",
              "      <td>34</td>\n",
              "      <td>42204</td>\n",
              "      <td>2.11020</td>\n",
              "    </tr>\n",
              "    <tr>\n",
              "      <th>16</th>\n",
              "      <td>26</td>\n",
              "      <td>42125</td>\n",
              "      <td>2.10625</td>\n",
              "    </tr>\n",
              "    <tr>\n",
              "      <th>0</th>\n",
              "      <td>8</td>\n",
              "      <td>41947</td>\n",
              "      <td>2.09735</td>\n",
              "    </tr>\n",
              "    <tr>\n",
              "      <th>26</th>\n",
              "      <td>35</td>\n",
              "      <td>41766</td>\n",
              "      <td>2.08830</td>\n",
              "    </tr>\n",
              "    <tr>\n",
              "      <th>29</th>\n",
              "      <td>9</td>\n",
              "      <td>41683</td>\n",
              "      <td>2.08415</td>\n",
              "    </tr>\n",
              "    <tr>\n",
              "      <th>8</th>\n",
              "      <td>4</td>\n",
              "      <td>41083</td>\n",
              "      <td>2.05415</td>\n",
              "    </tr>\n",
              "    <tr>\n",
              "      <th>11</th>\n",
              "      <td>30</td>\n",
              "      <td>40947</td>\n",
              "      <td>2.04735</td>\n",
              "    </tr>\n",
              "    <tr>\n",
              "      <th>24</th>\n",
              "      <td>6</td>\n",
              "      <td>40882</td>\n",
              "      <td>2.04410</td>\n",
              "    </tr>\n",
              "    <tr>\n",
              "      <th>28</th>\n",
              "      <td>37</td>\n",
              "      <td>40535</td>\n",
              "      <td>2.02675</td>\n",
              "    </tr>\n",
              "    <tr>\n",
              "      <th>34</th>\n",
              "      <td>31</td>\n",
              "      <td>40404</td>\n",
              "      <td>2.02020</td>\n",
              "    </tr>\n",
              "    <tr>\n",
              "      <th>12</th>\n",
              "      <td>38</td>\n",
              "      <td>40334</td>\n",
              "      <td>2.01670</td>\n",
              "    </tr>\n",
              "    <tr>\n",
              "      <th>22</th>\n",
              "      <td>33</td>\n",
              "      <td>39350</td>\n",
              "      <td>1.96750</td>\n",
              "    </tr>\n",
              "    <tr>\n",
              "      <th>35</th>\n",
              "      <td>3</td>\n",
              "      <td>37518</td>\n",
              "      <td>1.87590</td>\n",
              "    </tr>\n",
              "    <tr>\n",
              "      <th>4</th>\n",
              "      <td>1</td>\n",
              "      <td>37393</td>\n",
              "      <td>1.86965</td>\n",
              "    </tr>\n",
              "    <tr>\n",
              "      <th>21</th>\n",
              "      <td>27</td>\n",
              "      <td>37088</td>\n",
              "      <td>1.85440</td>\n",
              "    </tr>\n",
              "    <tr>\n",
              "      <th>23</th>\n",
              "      <td>29</td>\n",
              "      <td>36752</td>\n",
              "      <td>1.83760</td>\n",
              "    </tr>\n",
              "    <tr>\n",
              "      <th>18</th>\n",
              "      <td>2</td>\n",
              "      <td>32685</td>\n",
              "      <td>1.63425</td>\n",
              "    </tr>\n",
              "    <tr>\n",
              "      <th>37</th>\n",
              "      <td>22</td>\n",
              "      <td>18639</td>\n",
              "      <td>0.93195</td>\n",
              "    </tr>\n",
              "    <tr>\n",
              "      <th>13</th>\n",
              "      <td>7</td>\n",
              "      <td>15825</td>\n",
              "      <td>0.79125</td>\n",
              "    </tr>\n",
              "    <tr>\n",
              "      <th>17</th>\n",
              "      <td>36</td>\n",
              "      <td>14658</td>\n",
              "      <td>0.73290</td>\n",
              "    </tr>\n",
              "  </tbody>\n",
              "</table>\n",
              "</div>"
            ],
            "text/plain": [
              "     0       1      pct\n",
              "5   10  115725  5.78625\n",
              "1   19   57145  2.85725\n",
              "7    0   55699  2.78495\n",
              "10  24   54868  2.74340\n",
              "14  15   54123  2.70615\n",
              "31   5   52660  2.63300\n",
              "6   18   52220  2.61100\n",
              "20  21   51694  2.58470\n",
              "27  16   49706  2.48530\n",
              "9   17   48890  2.44450\n",
              "36  11   47940  2.39700\n",
              "15  25   47691  2.38455\n",
              "32  39   47222  2.36110\n",
              "38  23   45711  2.28555\n",
              "19  12   43905  2.19525\n",
              "25  13   43636  2.18180\n",
              "3   32   43138  2.15690\n",
              "30  14   42800  2.14000\n",
              "2   28   42442  2.12210\n",
              "33  34   42204  2.11020\n",
              "16  26   42125  2.10625\n",
              "0    8   41947  2.09735\n",
              "26  35   41766  2.08830\n",
              "29   9   41683  2.08415\n",
              "8    4   41083  2.05415\n",
              "11  30   40947  2.04735\n",
              "24   6   40882  2.04410\n",
              "28  37   40535  2.02675\n",
              "34  31   40404  2.02020\n",
              "12  38   40334  2.01670\n",
              "22  33   39350  1.96750\n",
              "35   3   37518  1.87590\n",
              "4    1   37393  1.86965\n",
              "21  27   37088  1.85440\n",
              "23  29   36752  1.83760\n",
              "18   2   32685  1.63425\n",
              "37  22   18639  0.93195\n",
              "13   7   15825  0.79125\n",
              "17  36   14658  0.73290"
            ]
          },
          "metadata": {},
          "execution_count": 28
        }
      ]
    },
    {
      "cell_type": "code",
      "metadata": {
        "id": "mlBlEjXyZGVY",
        "colab": {
          "base_uri": "https://localhost:8080/",
          "height": 162
        },
        "outputId": "9d9ac609-ab1e-46be-8fab-7a62282ca4b0"
      },
      "source": [
        "1/0"
      ],
      "execution_count": 13,
      "outputs": [
        {
          "output_type": "error",
          "ename": "ZeroDivisionError",
          "evalue": "ignored",
          "traceback": [
            "\u001b[0;31m---------------------------------------------------------------------------\u001b[0m",
            "\u001b[0;31mZeroDivisionError\u001b[0m                         Traceback (most recent call last)",
            "\u001b[0;32m<ipython-input-13-9e1622b385b6>\u001b[0m in \u001b[0;36m<module>\u001b[0;34m()\u001b[0m\n\u001b[0;32m----> 1\u001b[0;31m \u001b[0;36m1\u001b[0m\u001b[0;34m/\u001b[0m\u001b[0;36m0\u001b[0m\u001b[0;34m\u001b[0m\u001b[0;34m\u001b[0m\u001b[0m\n\u001b[0m",
            "\u001b[0;31mZeroDivisionError\u001b[0m: division by zero"
          ]
        }
      ]
    },
    {
      "cell_type": "markdown",
      "metadata": {
        "jp-MarkdownHeadingCollapsed": true,
        "tags": [],
        "id": "ofHOltKMZGVY"
      },
      "source": [
        "<a id=\"section-one\"></a>\n",
        "## Helper Functions\n",
        "\n",
        "**^html links hidden here, fork notebook then click this cell to see it**\n",
        "<a id=\"section-two\"></a>\n",
        "## Section Two\n",
        "**^html links hidden here, fork notebook then click this cell to see it**\n"
      ]
    },
    {
      "cell_type": "code",
      "metadata": {
        "id": "p1HJ3EQlZGVZ"
      },
      "source": [
        "import re\n",
        "\n",
        "lst1 = ['JAIL', 'C1', 'E3', 'H2', 'R1']\n",
        "\n",
        "for x in lst1:    \n",
        "    print(x, lst_monopoly_squares.index(x))\n",
        "\n",
        "lst2 = ['^R', '^U', '^CC', '^CH']\n",
        "\n",
        "for x in lst2:    \n",
        "    r = re.compile(x)\n",
        "    new_list = list(filter(r.match, lst_monopoly_squares))\n",
        "    print(new_list)\n",
        "    \n",
        "    for y in new_list:\n",
        "        print(x, lst_monopoly_squares.index(y))"
      ],
      "execution_count": null,
      "outputs": []
    },
    {
      "cell_type": "markdown",
      "metadata": {
        "id": "oY_oAcG4ZGVa"
      },
      "source": [
        "## Image Testing (Works!)"
      ]
    },
    {
      "cell_type": "code",
      "metadata": {
        "id": "ea8ExNyHjqyV"
      },
      "source": [
        "# Importing the PIL library\n",
        "from PIL import Image\n",
        "from PIL import ImageDraw\n",
        "from PIL import ImageFont"
      ],
      "execution_count": 22,
      "outputs": []
    },
    {
      "cell_type": "code",
      "metadata": {
        "id": "8_1gr-oikHhO"
      },
      "source": [
        "import requests\n",
        "from io import BytesIO\n",
        "url = \"https://projecteuler.net/project/images/p084_monopoly_board.png\"\n",
        "response = requests.get(url)\n",
        "orig_img = Image.open(BytesIO(response.content))"
      ],
      "execution_count": 23,
      "outputs": []
    },
    {
      "cell_type": "code",
      "metadata": {
        "id": "vn9N6s34qsSb",
        "colab": {
          "base_uri": "https://localhost:8080/",
          "height": 500
        },
        "outputId": "7a10ea96-9a07-4153-b1cd-101f8a2c2dd2"
      },
      "source": [
        "# Open an Image\n",
        "img = orig_img.copy()\n",
        "\n",
        "myfont = ImageFont.truetype(r'/usr/share/fonts/truetype/liberation/LiberationMono-Regular.ttf', 20)\n",
        "\n",
        "# myfont = ImageFont.truetype(\"arial.ttf\", 1)\n",
        " \n",
        "# Call draw Method to add 2D graphics in an image\n",
        "I1 = ImageDraw.Draw(img) \n",
        "\n",
        "mysq = -1\n",
        "\n",
        "for i in range(4):\n",
        "  \n",
        "  \n",
        "  if i == 0:\n",
        "    print ('walk right 0 to 9')\n",
        "    for sq in range(10):\n",
        "      x = 40.7*sq + 10\n",
        "      y = 37.8*i + 5\n",
        "\n",
        "      m = lst_monopoly_squares[mysq]\n",
        "      mysq+=1\n",
        "\n",
        "      \n",
        "      I1.text((x, y),f'{mysq}', font=myfont, fill =(255, 0, 0))\n",
        "\n",
        "  if i == 1:\n",
        "    print ('walk down 0 to 9')\n",
        "   \n",
        "    for sq in range(10):\n",
        "      x = 40.7*10 + 10\n",
        "      y = 37.8*sq + 5\n",
        "      m = lst_monopoly_squares[mysq]\n",
        "      mysq+=1      \n",
        "      I1.text((x, y),f'{mysq}',font=myfont, fill =(255, 0, 0))\n",
        "\n",
        "  if i == 2:\n",
        "    print ('walk left 0 to 9')\n",
        "\n",
        "    for sq in range(10, 0, -1):\n",
        "      x = 40.7*sq + 10\n",
        "      y = 37.8*10 #+ 5\n",
        "      m = lst_monopoly_squares[mysq]\n",
        "      mysq+=1      \n",
        "      I1.text((x, y),f'{mysq}', font=myfont,fill =(255, 0, 0))\n",
        "  \n",
        "  if i == 3:\n",
        "    print ('walk up 0 to 9')\n",
        "\n",
        "    for sq in range(10, 0, -1):\n",
        "      x = 40.7*0 + 10\n",
        "      y = 37.8*sq + 3\n",
        "      m = lst_monopoly_squares[mysq]\n",
        "      mysq+=1      \n",
        "      I1.text((x, y),f'{mysq}', font=myfont,fill =(255, 0, 0))\n",
        "\n",
        " # Display edited image\n",
        "img"
      ],
      "execution_count": 27,
      "outputs": [
        {
          "output_type": "stream",
          "name": "stdout",
          "text": [
            "walk right 0 to 9\n",
            "walk down 0 to 9\n",
            "walk left 0 to 9\n",
            "walk up 0 to 9\n"
          ]
        },
        {
          "output_type": "execute_result",
          "data": {
            "image/png": "[encoded data removed]",
            "text/plain": [
              "<PIL.Image.Image image mode=RGBA size=448x416 at 0x7F3FC555F9D0>"
            ]
          },
          "metadata": {},
          "execution_count": 27
        }
      ]
    },
    {
      "cell_type": "code",
      "metadata": {
        "id": "_6e6D4EzkOyn",
        "colab": {
          "base_uri": "https://localhost:8080/",
          "height": 433
        },
        "outputId": "3f5fcb68-e2f2-41b0-96d9-42e39bc3136a"
      },
      "source": [
        "# Open an Image\n",
        "img = orig_img.copy()\n",
        " \n",
        "# Call draw Method to add 2D graphics in an image\n",
        "I1 = ImageDraw.Draw(img)\n",
        "\n",
        "for sq in range(40):\n",
        "  \n",
        "  x = 40.7*i + 10\n",
        "  for j in range(11):\n",
        "    if (i >=1 and i <= 9) and (j>=1 and j<=9):\n",
        "      continue\n",
        "    \n",
        "  \n",
        "    y = 37.8*j + 5\n",
        "\n",
        "    I1.text((x, y), f'{i},{j}', fill =(255, 0, 0))\n",
        "  \n",
        "# Display edited image\n",
        "img\n"
      ],
      "execution_count": 25,
      "outputs": [
        {
          "output_type": "execute_result",
          "data": {
            "image/png": "[encoded data removed]",
            "text/plain": [
              "<PIL.Image.Image image mode=RGBA size=448x416 at 0x7F3FC4704090>"
            ]
          },
          "metadata": {},
          "execution_count": 25
        }
      ]
    },
    {
      "cell_type": "code",
      "metadata": {
        "id": "pEOlhs06mUgN"
      },
      "source": [
        "# Open an Image\n",
        "img = orig_img.copy()\n",
        " \n",
        "# Call draw Method to add 2D graphics in an image\n",
        "I1 = ImageDraw.Draw(img)\n",
        " \n",
        "# Custom font style and font size\n",
        "# myFont = ImageFont.truetype('FreeMono.ttf', 65)\n",
        " \n",
        "# Add Text to an image\n",
        "\n",
        "for i in range(11):\n",
        "  x = 40.7*i + 10\n",
        "  for j in range(11):\n",
        "    if (i >=1 and i <= 9) and (j>=1 and j<=9):\n",
        "      continue\n",
        "    \n",
        "  \n",
        "    y = 37.8*j + 5\n",
        "\n",
        "    I1.text((x, y), f'{i},{j}', fill =(255, 0, 0))\n",
        "  \n",
        "# Display edited image\n",
        "img\n"
      ],
      "execution_count": null,
      "outputs": []
    },
    {
      "cell_type": "markdown",
      "metadata": {
        "id": "mFm12EVr7Wri"
      },
      "source": [
        "## Simple Test1"
      ]
    },
    {
      "cell_type": "code",
      "metadata": {
        "tags": [],
        "id": "q-kuL75sZGVd"
      },
      "source": [
        "mylist = [5, 15, 25, 35]\n",
        "\n",
        "currno = 36\n",
        "\n",
        "if currno > mylist[-1]:\n",
        "    selection = mylist[0]\n",
        "else:    \n",
        "    for i in mylist:\n",
        "        if currno > i:\n",
        "            continue\n",
        "        else:\n",
        "            selection = i\n",
        "            break\n",
        "\n",
        "print(selection)\n",
        "    "
      ],
      "execution_count": null,
      "outputs": []
    },
    {
      "cell_type": "markdown",
      "metadata": {
        "id": "jh7OeyyxZGVe"
      },
      "source": [
        "## Test Markdown"
      ]
    },
    {
      "cell_type": "markdown",
      "metadata": {
        "id": "QwchXk4WZGVe"
      },
      "source": [
        "Clicking on each link jumps you to the section that is marked. It is really intuitive to use! \n",
        "I would recommend adding a table of contents to any of your published notebooks, so that the reader doesn't get lost.\n",
        "You would want everyone to enjoy reading that kernel that you spent so long on!\n",
        "\n",
        "Links use HTML to target your browser to that specific section of your Kaggle notebook.\n",
        "To see the inner workings and code, please fork this notebook and click on the cells to see the markdown code\n",
        "\n",
        "* [Introduction](#section-one)\n",
        "* [Body](#section-two)\n",
        "    - [Subsectionaaa 1](#subsection-one)\n",
        "    - [Subsectionaaa 2](#anything-you-like)\n",
        "* [Conclusionaaa](#section-three)"
      ]
    },
    {
      "cell_type": "markdown",
      "metadata": {
        "id": "Wqw4A87RZGVe"
      },
      "source": [
        "## Logging Test"
      ]
    },
    {
      "cell_type": "code",
      "metadata": {
        "id": "5QEVMeCKZGVf"
      },
      "source": [
        "# 'application' code\n",
        "logger.debug('debug message')\n",
        "logger.info('info message')\n",
        "logger.info('warn message')\n",
        "logger.error('error message')\n",
        "logger.critical('critical message')"
      ],
      "execution_count": null,
      "outputs": []
    }
  ]
}