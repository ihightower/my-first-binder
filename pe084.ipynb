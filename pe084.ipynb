{
  "nbformat": 4,
  "nbformat_minor": 0,
  "metadata": {
    "kernelspec": {
      "display_name": "Python 3 (ipykernel)",
      "language": "python",
      "name": "python3"
    },
    "language_info": {
      "codemirror_mode": {
        "name": "ipython",
        "version": 3
      },
      "file_extension": ".py",
      "mimetype": "text/x-python",
      "name": "python",
      "nbconvert_exporter": "python",
      "pygments_lexer": "ipython3",
      "version": "3.7.10"
    },
    "toc-autonumbering": true,
    "colab": {
      "name": "pe084.ipynb",
      "provenance": [],
      "toc_visible": true,
      "include_colab_link": true
    }
  },
  "cells": [
    {
      "cell_type": "markdown",
      "metadata": {
        "id": "view-in-github",
        "colab_type": "text"
      },
      "source": [
        "<a href=\"https://colab.research.google.com/github/ihightower/my-first-binder/blob/main/pe084.ipynb\" target=\"_parent\"><img src=\"https://colab.research.google.com/assets/colab-badge.svg\" alt=\"Open In Colab\"/></a>"
      ]
    },
    {
      "cell_type": "markdown",
      "metadata": {
        "id": "kLyvBzqaZGU0"
      },
      "source": [
        "# Import"
      ]
    },
    {
      "cell_type": "code",
      "metadata": {
        "collapsed": true,
        "jupyter": {
          "outputs_hidden": true
        },
        "tags": [],
        "colab": {
          "base_uri": "https://localhost:8080/"
        },
        "id": "duhX_hrsZGU_",
        "outputId": "583ec9c1-b43d-4586-810a-25703b3863fd"
      },
      "source": [
        "# !pip install pandas"
      ],
      "execution_count": null,
      "outputs": [
        {
          "output_type": "stream",
          "name": "stdout",
          "text": [
            "Requirement already satisfied: pandas in /usr/local/lib/python3.7/dist-packages (1.1.5)\n",
            "Requirement already satisfied: python-dateutil>=2.7.3 in /usr/local/lib/python3.7/dist-packages (from pandas) (2.8.2)\n",
            "Requirement already satisfied: pytz>=2017.2 in /usr/local/lib/python3.7/dist-packages (from pandas) (2018.9)\n",
            "Requirement already satisfied: numpy>=1.15.4 in /usr/local/lib/python3.7/dist-packages (from pandas) (1.19.5)\n",
            "Requirement already satisfied: six>=1.5 in /usr/local/lib/python3.7/dist-packages (from python-dateutil>=2.7.3->pandas) (1.15.0)\n"
          ]
        }
      ]
    },
    {
      "cell_type": "code",
      "metadata": {
        "colab": {
          "base_uri": "https://localhost:8080/"
        },
        "id": "1fIvD5W3ZGVC",
        "outputId": "c57cdf0a-52ab-4018-db3a-fd554a2fc0e3"
      },
      "source": [
        "print('last saved 11nov 14:05')"
      ],
      "execution_count": 1,
      "outputs": [
        {
          "output_type": "stream",
          "name": "stdout",
          "text": [
            "last saved 11nov 14:05\n"
          ]
        }
      ]
    },
    {
      "cell_type": "code",
      "metadata": {
        "id": "zjZH2J9hZGVD"
      },
      "source": [
        "import random\n",
        "import pandas as pd\n",
        "import time\n"
      ],
      "execution_count": 3,
      "outputs": []
    },
    {
      "cell_type": "code",
      "metadata": {
        "id": "bkuZ_XQyZGVf"
      },
      "source": [
        "# del logging, logger, ch, formatter\n",
        "from importlib import reload\n",
        "import logging\n",
        "logging.shutdown()\n",
        "reload(logging)\n",
        "\n",
        "\n",
        "# create logger\n",
        "logger = logging.getLogger('simple_example')\n",
        "logger.setLevel(logging.DEBUG)\n",
        "\n",
        " # create console handler and set level to debug\n",
        "ch = logging.StreamHandler()\n",
        "ch.setLevel(logging.DEBUG)\n",
        "\n",
        "# create formatter\n",
        "#formatter = logging.Formatter('%(asctime)s - %(name)s - %(levelname)s - %(message)s')\n",
        "\n",
        "# add formatter to ch\n",
        "#ch.setFormatter(formatter)\n",
        "\n",
        "# add ch to logger\n",
        "logger.addHandler(ch)\n"
      ],
      "execution_count": 4,
      "outputs": []
    },
    {
      "cell_type": "markdown",
      "metadata": {
        "id": "2dkxl8XRZGVE"
      },
      "source": [
        "# Project Euler P084"
      ]
    },
    {
      "cell_type": "markdown",
      "metadata": {
        "id": "3PVvd-e6ZGVF"
      },
      "source": [
        "<img src=\"https://projecteuler.net/project/images/p084_monopoly_board.png\">\n",
        "\n",
        "\n"
      ]
    },
    {
      "cell_type": "markdown",
      "metadata": {
        "tags": [],
        "id": "N6TEU_PZZGVG"
      },
      "source": [
        "In the game, Monopoly, the standard board is set up in the following way:\n",
        "\n",
        "Community Chest (2/16 cards):\n",
        "* Advance to GO\n",
        "* Go to JAIL\n",
        "\n",
        "Chance (10/16 cards):\n",
        "\n",
        "* Advance to GO\n",
        "* Go to JAIL\n",
        "* Go to C1\n",
        "* Go to E3\n",
        "* Go to H2\n",
        "* Go to R1\n",
        "* Go to next R (railway company)\n",
        "* Go to next R\n",
        "* Go to next U (utility company)\n",
        "* Go back 3 squares.\n",
        "\n",
        "\n",
        "The heart of this problem concerns the likelihood of visiting a particular square. That is, the probability of finishing at that square after a roll. For this reason it should be clear that, with the exception of G2J for which the probability of finishing on it is zero, the CH squares will have the lowest probabilities, as 5/8 request a movement to another square, and it is the final square that the player finishes at on each roll that we are interested in. We shall make no distinction between \"Just Visiting\" and being sent to JAIL, and we shall also ignore the rule about requiring a double to \"get out of jail\", assuming that they pay to get out on their next turn.\n",
        "\n",
        "By starting at GO and numbering the squares sequentially from 00 to 39 we can concatenate these two-digit numbers to produce strings that correspond with sets of squares.\n",
        "\n",
        "Statistically it can be shown that the three most popular squares, in order, are JAIL (6.24%) = Square 10, E3 (3.18%) = Square 24, and GO (3.09%) = Square 00. So these three most popular squares can be listed with the six-digit modal string: 102400.\n",
        "\n",
        "If, instead of using two 6-sided dice, two 4-sided dice are used, find the six-digit modal string."
      ]
    },
    {
      "cell_type": "markdown",
      "metadata": {
        "id": "5Q4Nu0eacyMM"
      },
      "source": [
        "# Code Starts"
      ]
    },
    {
      "cell_type": "markdown",
      "metadata": {
        "tags": [],
        "id": "2JIxjx8kZGVI"
      },
      "source": [
        "## Set Monopoly Squares"
      ]
    },
    {
      "cell_type": "code",
      "metadata": {
        "colab": {
          "base_uri": "https://localhost:8080/"
        },
        "id": "vRPzpHeEZGVJ",
        "outputId": "5a102535-5b34-4ed7-9357-97b56e59ad9e"
      },
      "source": [
        "#pe084 - Monopoly odds\n",
        "lst_monopoly_squares = [\n",
        "    'GO', 'A1', 'CC1', 'A2', 'T1', 'R1', 'B1', 'CH1', 'B2', 'B3', 'JAIL', 'C1',\n",
        "    'U1', 'C2', 'C3', 'R2', 'D1', 'CC2', 'D2', 'D3', 'FP', 'E1', 'CH2', 'E2',\n",
        "    'E3', 'R3', 'F1', 'F2', 'U2', 'F3', 'G2J', 'G1', 'G2', 'CC3', 'G3', 'R4',\n",
        "    'CH3', 'H1', 'T2', 'H2'\n",
        "]\n",
        "\n",
        "lst_comchest = [0, 10] + [99] * 14\n",
        "random.shuffle(lst_comchest)\n",
        "\n",
        "lst_chance = [0, 10, 11, 24, 39, 5, [5, 15, 25, 35], [5, 15, 25, 35], [12, 28], -3] + [99] * 6\n",
        "random.shuffle(lst_chance)\n",
        "\n",
        "print(lst_comchest)\n",
        "print(lst_chance)\n",
        "\n"
      ],
      "execution_count": 5,
      "outputs": [
        {
          "output_type": "stream",
          "name": "stdout",
          "text": [
            "[99, 99, 99, 10, 99, 99, 99, 99, 99, 99, 99, 99, 0, 99, 99, 99]\n",
            "[[5, 15, 25, 35], 24, [5, 15, 25, 35], -3, 99, 0, 11, 99, [12, 28], 99, 99, 99, 99, 5, 39, 10]\n"
          ]
        }
      ]
    },
    {
      "cell_type": "code",
      "metadata": {
        "id": "yNeYX9m9ZGVL"
      },
      "source": [
        "lst_comchest_pos = [2, 17, 33]\n",
        "lst_chance_pos = [7, 22, 36]"
      ],
      "execution_count": null,
      "outputs": []
    },
    {
      "cell_type": "code",
      "metadata": {
        "colab": {
          "base_uri": "https://localhost:8080/"
        },
        "id": "ECykQYTWZGVM",
        "outputId": "a4ca5177-5e15-4ce6-db8e-15910a02b61c"
      },
      "source": [
        "print('comechest cards: ', lst_comchest)\n",
        "print('chance cards: ',lst_chance)"
      ],
      "execution_count": null,
      "outputs": [
        {
          "output_type": "stream",
          "name": "stdout",
          "text": [
            "comechest cards:  [99, 99, 99, 99, 99, 10, 99, 99, 99, 99, 0, 99, 99, 99, 99, 99]\n",
            "chance cards:  [5, [5, 15, 25, 35], [12, 28], 99, 99, 99, [5, 15, 25, 35], 10, 99, 11, 99, 0, -3, 39, 24, 99]\n"
          ]
        }
      ]
    },
    {
      "cell_type": "markdown",
      "metadata": {
        "id": "vavyoejPZGVN"
      },
      "source": [
        "## Functions"
      ]
    },
    {
      "cell_type": "markdown",
      "metadata": {
        "id": "KAkTrrQuZGVO"
      },
      "source": [
        "### func: move_from"
      ]
    },
    {
      "cell_type": "code",
      "metadata": {
        "id": "WY0UFbNjZGVQ"
      },
      "source": [
        "def move_from(currpos):\n",
        "    \n",
        "    global gRollingDoubles\n",
        "    \n",
        "    dice_sides = 6\n",
        "    \n",
        "    dice1 = random.randint(1, dice_sides)\n",
        "    dice2 = random.randint(1, dice_sides)\n",
        "    \n",
        "    dice_roll = dice1 + dice2\n",
        "    \n",
        "    if dice1 == dice2:\n",
        "        gRollingDoubles += 1\n",
        "    else:\n",
        "        gRollingDoubles = 0\n",
        " \n",
        "    if gRollingDoubles == 1:\n",
        "        logger.debug(f'       rolled 1st double in {currpos}')\n",
        "        pass\n",
        "    \n",
        "    if gRollingDoubles == 2:\n",
        "        logger.debug(f'       rolled 2nd double in {currpos}')\n",
        "        pass\n",
        "    \n",
        "    if gRollingDoubles == 3:\n",
        "        logger.debug(f'       rolled3rd double in {currpos}... and now going to jail')\n",
        " #         print('rolled 3 doubles, going to jail.. from ', newpos)\n",
        "        newpos = 10 # go to jail\n",
        "        gRollingDoubles = 0\n",
        "        return newpos\n",
        "\n",
        "    \n",
        "    newpos = (currpos + dice_roll) % 40\n",
        " \n",
        " \n",
        "    logger.debug(f'...... dice rolled: {dice1}+{dice2}={dice_roll}, from: {currpos} to: {newpos}')\n",
        "    \n",
        "    \n",
        "    if newpos == 20:\n",
        "        logger.debug(f'in {newpos}... should go to jail. RollingDouble#:{gRollingDoubles}')\n",
        "        newpos = 10\n",
        "        gRollingDoubles = 0\n",
        "\n",
        "\n",
        "    \n",
        "\n",
        " #     print('\\n...... dice rolled', currpos, dice_roll, newpos)\n",
        "    return newpos"
      ],
      "execution_count": null,
      "outputs": []
    },
    {
      "cell_type": "markdown",
      "metadata": {
        "id": "4m3EKsiVZGVR"
      },
      "source": [
        "\n",
        "\n",
        "```\n",
        "...... dice rolled: 6, from: 25 to: 31\n",
        "...... dice rolled: 9, from: 31 to: 0\n",
        "rolled 1st double in 0\n",
        "...... dice rolled: 10, from: 0 to: 10\n",
        "...... dice rolled: 10, from: 10 to: 10\n",
        "```\n",
        "\n"
      ]
    },
    {
      "cell_type": "markdown",
      "metadata": {
        "id": "X-aghdeUZGVS"
      },
      "source": [
        "### func: take_chance_card"
      ]
    },
    {
      "cell_type": "code",
      "metadata": {
        "id": "VAJK4cncZGVT"
      },
      "source": [
        "# chace cards:  [11, -3, [12, 28], 99, 99, [5, 15, 25, 35], 99, 0, [5, 15, 25, 35], 39, 99, 99, 24, 5, 10, 99]\n",
        "def take_chance_card(currpos):\n",
        "    global gCHANCELOC\n",
        "    newpos = currpos\n",
        "    \n",
        "    chance_card = lst_chance[gCHANCELOC]\n",
        "    logger.info(f'  in pos:{currpos}, seq: {gCHANCELOC}, card: {chance_card} {type(chance_card)}')\n",
        " #     print('  in pos:', currpos, ' seq: ', gCHANCELOC, ' card: ',  chance_card, type(chance_card))\n",
        "\n",
        "    if (chance_card == 99):\n",
        "        newpos = currpos\n",
        "        pass\n",
        " #         print(' STAYING PUT RIGHT HERE')\n",
        "    elif (type(chance_card) is int and chance_card < 0):\n",
        "        newpos = currpos + chance_card\n",
        "        newpos %= 40\n",
        "        \n",
        " #         print('>>> moving to: ', newpos)\n",
        "        \n",
        "    elif (type(chance_card) is int):   \n",
        "        newpos = chance_card\n",
        " #         print('>>> moving to: ', newpos)\n",
        "        \n",
        "    else:\n",
        " #         print('>>> moving to: ', 'sorry i am a list, i think')\n",
        "                \n",
        "        if currpos > chance_card[-1]:\n",
        "            newpos = chance_card[0]\n",
        "        else:    \n",
        "            for i in chance_card:\n",
        "                if currpos > i:\n",
        "                    continue\n",
        "                else:\n",
        "                    newpos = i\n",
        "                    break\n",
        "        \n",
        "    \n",
        "    \n",
        "    gCHANCELOC += 1\n",
        "    gCHANCELOC %= len(lst_chance)\n",
        "    \n",
        "    return newpos\n",
        "    "
      ],
      "execution_count": null,
      "outputs": []
    },
    {
      "cell_type": "markdown",
      "metadata": {
        "id": "-C81EsMKZGVU"
      },
      "source": [
        "### func: take_comchest_card"
      ]
    },
    {
      "cell_type": "code",
      "metadata": {
        "tags": [],
        "id": "5d-Xk-7cZGVU"
      },
      "source": [
        "# comechest cards:  [99, 99, 99, 0, 99, 99, 99, 99, 99, 10, 99, 99, 99, 99, 99, 99]\n",
        "\n",
        "def take_comchest_card(currpos):\n",
        "    global gCOMCHESTLOC\n",
        "    newpos = currpos\n",
        "    \n",
        "    comchest_card = lst_comchest[gCOMCHESTLOC]\n",
        "    logger.info(f'  in pos:{currpos}, seq: {gCOMCHESTLOC}, card: {comchest_card} {type(comchest_card)}')\n",
        "  #     print('  in pos:', currpos, ' seq: ', gCOMCHESTLOC, ' card: ', comchest_card, type(comchest_card))\n",
        "    \n",
        "    if (comchest_card == 99):\n",
        "        newpos = currpos\n",
        "        pass\n",
        " #         print(' STAYING PUT RIGHT HERE')\n",
        "    elif (type(comchest_card) is int):\n",
        "        newpos = comchest_card\n",
        " #         print('>>> moving to: ', newpos)\n",
        "        \n",
        "    else:\n",
        "        pass\n",
        " #         print('>>> moving to: ', 'sorry i am a list, i think')\n",
        "\n",
        "        \n",
        "        \n",
        "        if currpos > comchest_card[-1]:\n",
        "            newpos = comchest_card[0]\n",
        "        else:    \n",
        "            for i in comchest_card:\n",
        "                if currpos > i:\n",
        "                    continue\n",
        "                else:\n",
        "                    newpos = i\n",
        "                    break        \n",
        "        \n",
        "    gCOMCHESTLOC += 1\n",
        "    gCOMCHESTLOC %= len(lst_comchest)\n",
        "    \n",
        "    return newpos"
      ],
      "execution_count": null,
      "outputs": []
    },
    {
      "cell_type": "markdown",
      "metadata": {
        "id": "lq0GNFZKg5VM"
      },
      "source": [
        "### func: run_simulation"
      ]
    },
    {
      "cell_type": "code",
      "metadata": {
        "id": "XK-taoRPZGVW"
      },
      "source": [
        "def run_simulation(simcount, currpos=0):\n",
        "  for simu in range(simcount):\n",
        "      # time.sleep(1)\n",
        "\n",
        "      currpos = move_from(currpos)\n",
        "      \n",
        "  #     print(' in position now:', currpos, lst_monopoly_squares[currpos])\n",
        "      \n",
        "      if currpos in lst_chance_pos:\n",
        "          \n",
        "          # logger.setLevel(logging.CRITICAL)\n",
        "          \n",
        "          logger.info('\\n>>> i am taking chance')\n",
        "  #         print('\\n>>> i am taking chance')\n",
        "          currpos = take_chance_card(currpos)\n",
        "          logger.info(f'   moved to {currpos}\\n')\n",
        "          \n",
        "          # logger.setLevel(logging.INFO)\n",
        "  #         print('.... moved to', currpos)\n",
        "          pass\n",
        "          #print(mychance_card)\n",
        "      \n",
        "      if currpos in lst_comchest_pos:\n",
        "          # logger.setLevel(logging.CRITICAL)\n",
        "          # logger.setLevel(logging.INFO)\n",
        "          logger.info('\\n>>> i am taking community chest')\n",
        "  #         print('\\n>>> i am community chest')\n",
        "          currpos = take_comchest_card(currpos)\n",
        "          logger.info(f'   moved to {currpos}\\n')\n",
        "          # logger.setLevel(logging.INFO)\n",
        "\n",
        "  #         print('.... moved to', currpos)\n",
        "          #print(mycomchest_card)\n",
        "          \n",
        "\n",
        "      dictsq[currpos] = dictsq.get(currpos, 0) + 1\n",
        "\n",
        "  #     print(dice2, cuminsquare, insquare)\n",
        "\n",
        "  print(dict(sorted(dictsq.items())))\n",
        "\n",
        "  data_items = dictsq.items()\n",
        "  data_list = list(data_items)\n",
        "\n",
        "  df = pd.DataFrame(data_list)\n",
        "  return df\n",
        "  #df.sort_values([1], ascending=False)\n",
        "\n",
        "  # answer: 102400"
      ],
      "execution_count": null,
      "outputs": []
    },
    {
      "cell_type": "markdown",
      "metadata": {
        "id": "UMFkcVBQZGVV"
      },
      "source": [
        "# Run Simulation"
      ]
    },
    {
      "cell_type": "code",
      "metadata": {
        "id": "O-OZY6CBsG_4",
        "colab": {
          "base_uri": "https://localhost:8080/",
          "height": 715
        },
        "outputId": "df31db08-cd72-4ad2-b7df-813d5edc3bc7"
      },
      "source": [
        "import altair as alt\n",
        "from vega_datasets import data\n",
        "\n",
        "source = data.movies.url\n",
        "\n",
        "pts = alt.selection(type=\"single\", encodings=['x'])\n",
        "\n",
        "rect = alt.Chart(data.movies.url).mark_rect().encode(\n",
        "    alt.X('IMDB_Rating:Q', bin=True),\n",
        "    alt.Y('Rotten_Tomatoes_Rating:Q', bin=True),\n",
        "    alt.Color('count()',\n",
        "        scale=alt.Scale(scheme='greenblue'),\n",
        "        legend=alt.Legend(title='Total Records')\n",
        "    )\n",
        ")\n",
        "\n",
        "circ = rect.mark_point().encode(\n",
        "    alt.ColorValue('grey'),\n",
        "    alt.Size('count()',\n",
        "        legend=alt.Legend(title='Records in Selection')\n",
        "    )\n",
        ").transform_filter(\n",
        "    pts\n",
        ")\n",
        "\n",
        "bar = alt.Chart(source).mark_bar().encode(\n",
        "    x='Major_Genre:N',\n",
        "    y='count()',\n",
        "    color=alt.condition(pts, alt.ColorValue(\"steelblue\"), alt.ColorValue(\"grey\"))\n",
        ").properties(\n",
        "    width=550,\n",
        "    height=200\n",
        ").add_selection(pts)\n",
        "\n",
        "alt.vconcat(\n",
        "    rect + circ,\n",
        "    bar\n",
        ").resolve_legend(\n",
        "    color=\"independent\",\n",
        "    size=\"independent\"\n",
        ")"
      ],
      "execution_count": null,
      "outputs": [
        {
          "output_type": "execute_result",
          "data": {
            "text/plain": [
              "alt.VConcatChart(...)"
            ],
            "text/html": [
              "\n",
              "<div id=\"altair-viz-bcedb5a5919a45c8b23588749af91cd3\"></div>\n",
              "<script type=\"text/javascript\">\n",
              "  (function(spec, embedOpt){\n",
              "    let outputDiv = document.currentScript.previousElementSibling;\n",
              "    if (outputDiv.id !== \"altair-viz-bcedb5a5919a45c8b23588749af91cd3\") {\n",
              "      outputDiv = document.getElementById(\"altair-viz-bcedb5a5919a45c8b23588749af91cd3\");\n",
              "    }\n",
              "    const paths = {\n",
              "      \"vega\": \"https://cdn.jsdelivr.net/npm//vega@5?noext\",\n",
              "      \"vega-lib\": \"https://cdn.jsdelivr.net/npm//vega-lib?noext\",\n",
              "      \"vega-lite\": \"https://cdn.jsdelivr.net/npm//vega-lite@4.8.1?noext\",\n",
              "      \"vega-embed\": \"https://cdn.jsdelivr.net/npm//vega-embed@6?noext\",\n",
              "    };\n",
              "\n",
              "    function loadScript(lib) {\n",
              "      return new Promise(function(resolve, reject) {\n",
              "        var s = document.createElement('script');\n",
              "        s.src = paths[lib];\n",
              "        s.async = true;\n",
              "        s.onload = () => resolve(paths[lib]);\n",
              "        s.onerror = () => reject(`Error loading script: ${paths[lib]}`);\n",
              "        document.getElementsByTagName(\"head\")[0].appendChild(s);\n",
              "      });\n",
              "    }\n",
              "\n",
              "    function showError(err) {\n",
              "      outputDiv.innerHTML = `<div class=\"error\" style=\"color:red;\">${err}</div>`;\n",
              "      throw err;\n",
              "    }\n",
              "\n",
              "    function displayChart(vegaEmbed) {\n",
              "      vegaEmbed(outputDiv, spec, embedOpt)\n",
              "        .catch(err => showError(`Javascript Error: ${err.message}<br>This usually means there's a typo in your chart specification. See the javascript console for the full traceback.`));\n",
              "    }\n",
              "\n",
              "    if(typeof define === \"function\" && define.amd) {\n",
              "      requirejs.config({paths});\n",
              "      require([\"vega-embed\"], displayChart, err => showError(`Error loading script: ${err.message}`));\n",
              "    } else if (typeof vegaEmbed === \"function\") {\n",
              "      displayChart(vegaEmbed);\n",
              "    } else {\n",
              "      loadScript(\"vega\")\n",
              "        .then(() => loadScript(\"vega-lite\"))\n",
              "        .then(() => loadScript(\"vega-embed\"))\n",
              "        .catch(showError)\n",
              "        .then(() => displayChart(vegaEmbed));\n",
              "    }\n",
              "  })({\"config\": {\"view\": {\"continuousWidth\": 400, \"continuousHeight\": 300}}, \"vconcat\": [{\"layer\": [{\"mark\": \"rect\", \"encoding\": {\"color\": {\"type\": \"quantitative\", \"aggregate\": \"count\", \"legend\": {\"title\": \"Total Records\"}, \"scale\": {\"scheme\": \"greenblue\"}}, \"x\": {\"type\": \"quantitative\", \"bin\": true, \"field\": \"IMDB_Rating\"}, \"y\": {\"type\": \"quantitative\", \"bin\": true, \"field\": \"Rotten_Tomatoes_Rating\"}}}, {\"mark\": \"point\", \"encoding\": {\"color\": {\"value\": \"grey\"}, \"size\": {\"type\": \"quantitative\", \"aggregate\": \"count\", \"legend\": {\"title\": \"Records in Selection\"}}, \"x\": {\"type\": \"quantitative\", \"bin\": true, \"field\": \"IMDB_Rating\"}, \"y\": {\"type\": \"quantitative\", \"bin\": true, \"field\": \"Rotten_Tomatoes_Rating\"}}, \"transform\": [{\"filter\": {\"selection\": \"selector002\"}}]}], \"data\": {\"url\": \"https://cdn.jsdelivr.net/npm/vega-datasets@v1.29.0/data/movies.json\"}}, {\"data\": {\"url\": \"https://cdn.jsdelivr.net/npm/vega-datasets@v1.29.0/data/movies.json\"}, \"mark\": \"bar\", \"encoding\": {\"color\": {\"condition\": {\"value\": \"steelblue\", \"selection\": \"selector002\"}, \"value\": \"grey\"}, \"x\": {\"type\": \"nominal\", \"field\": \"Major_Genre\"}, \"y\": {\"type\": \"quantitative\", \"aggregate\": \"count\"}}, \"height\": 200, \"selection\": {\"selector002\": {\"type\": \"single\", \"encodings\": [\"x\"]}}, \"width\": 550}], \"resolve\": {\"legend\": {\"color\": \"independent\", \"size\": \"independent\"}}, \"$schema\": \"https://vega.github.io/schema/vega-lite/v4.8.1.json\"}, {\"mode\": \"vega-lite\"});\n",
              "</script>"
            ]
          },
          "metadata": {},
          "execution_count": 64
        }
      ]
    },
    {
      "cell_type": "code",
      "metadata": {
        "id": "f7gIqoc2fduv",
        "colab": {
          "base_uri": "https://localhost:8080/"
        },
        "outputId": "1cc829b1-096c-47cc-abd9-32bc40a569b6"
      },
      "source": [
        "currpos = 0 #helllo\n",
        "dictsq = {}\n",
        "\n",
        "gCOMCHESTLOC = 0\n",
        "gCHANCELOC = 0\n",
        "gRollingDoubles = 0\n",
        "\n",
        "logger.setLevel(logging.CRITICAL)\n",
        "\n",
        "simcount = 1000000\n",
        "\n",
        "df = run_simulation(simcount)"
      ],
      "execution_count": null,
      "outputs": [
        {
          "output_type": "stream",
          "name": "stdout",
          "text": [
            "{0: 32307, 1: 22269, 2: 19201, 3: 22024, 4: 24611, 5: 30597, 6: 23646, 7: 8445, 8: 24444, 9: 23804, 10: 67079, 11: 27720, 12: 26885, 13: 24769, 14: 25718, 15: 30520, 16: 29166, 17: 27307, 18: 30569, 19: 32351, 21: 29726, 22: 10743, 23: 26633, 24: 30668, 25: 29018, 26: 23912, 27: 22810, 28: 24299, 29: 22607, 30: 23188, 31: 23672, 32: 24433, 33: 22946, 34: 24367, 35: 24088, 36: 9412, 37: 23267, 38: 23229, 39: 27550}\n"
          ]
        }
      ]
    },
    {
      "cell_type": "code",
      "metadata": {
        "id": "sC8QKJbPiBfR",
        "colab": {
          "base_uri": "https://localhost:8080/",
          "height": 1000
        },
        "outputId": "cf7d7add-87b3-4119-9e03-d53cc71311b7"
      },
      "source": [
        "df.sort_values([1], ascending=False)"
      ],
      "execution_count": null,
      "outputs": [
        {
          "output_type": "execute_result",
          "data": {
            "text/html": [
              "<div>\n",
              "<style scoped>\n",
              "    .dataframe tbody tr th:only-of-type {\n",
              "        vertical-align: middle;\n",
              "    }\n",
              "\n",
              "    .dataframe tbody tr th {\n",
              "        vertical-align: top;\n",
              "    }\n",
              "\n",
              "    .dataframe thead th {\n",
              "        text-align: right;\n",
              "    }\n",
              "</style>\n",
              "<table border=\"1\" class=\"dataframe\">\n",
              "  <thead>\n",
              "    <tr style=\"text-align: right;\">\n",
              "      <th></th>\n",
              "      <th>0</th>\n",
              "      <th>1</th>\n",
              "    </tr>\n",
              "  </thead>\n",
              "  <tbody>\n",
              "    <tr>\n",
              "      <th>8</th>\n",
              "      <td>10</td>\n",
              "      <td>67079</td>\n",
              "    </tr>\n",
              "    <tr>\n",
              "      <th>11</th>\n",
              "      <td>19</td>\n",
              "      <td>32351</td>\n",
              "    </tr>\n",
              "    <tr>\n",
              "      <th>15</th>\n",
              "      <td>0</td>\n",
              "      <td>32307</td>\n",
              "    </tr>\n",
              "    <tr>\n",
              "      <th>28</th>\n",
              "      <td>24</td>\n",
              "      <td>30668</td>\n",
              "    </tr>\n",
              "    <tr>\n",
              "      <th>0</th>\n",
              "      <td>5</td>\n",
              "      <td>30597</td>\n",
              "    </tr>\n",
              "    <tr>\n",
              "      <th>9</th>\n",
              "      <td>18</td>\n",
              "      <td>30569</td>\n",
              "    </tr>\n",
              "    <tr>\n",
              "      <th>2</th>\n",
              "      <td>15</td>\n",
              "      <td>30520</td>\n",
              "    </tr>\n",
              "    <tr>\n",
              "      <th>3</th>\n",
              "      <td>21</td>\n",
              "      <td>29726</td>\n",
              "    </tr>\n",
              "    <tr>\n",
              "      <th>25</th>\n",
              "      <td>16</td>\n",
              "      <td>29166</td>\n",
              "    </tr>\n",
              "    <tr>\n",
              "      <th>22</th>\n",
              "      <td>25</td>\n",
              "      <td>29018</td>\n",
              "    </tr>\n",
              "    <tr>\n",
              "      <th>16</th>\n",
              "      <td>11</td>\n",
              "      <td>27720</td>\n",
              "    </tr>\n",
              "    <tr>\n",
              "      <th>33</th>\n",
              "      <td>39</td>\n",
              "      <td>27550</td>\n",
              "    </tr>\n",
              "    <tr>\n",
              "      <th>38</th>\n",
              "      <td>17</td>\n",
              "      <td>27307</td>\n",
              "    </tr>\n",
              "    <tr>\n",
              "      <th>10</th>\n",
              "      <td>12</td>\n",
              "      <td>26885</td>\n",
              "    </tr>\n",
              "    <tr>\n",
              "      <th>31</th>\n",
              "      <td>23</td>\n",
              "      <td>26633</td>\n",
              "    </tr>\n",
              "    <tr>\n",
              "      <th>21</th>\n",
              "      <td>14</td>\n",
              "      <td>25718</td>\n",
              "    </tr>\n",
              "    <tr>\n",
              "      <th>24</th>\n",
              "      <td>13</td>\n",
              "      <td>24769</td>\n",
              "    </tr>\n",
              "    <tr>\n",
              "      <th>30</th>\n",
              "      <td>4</td>\n",
              "      <td>24611</td>\n",
              "    </tr>\n",
              "    <tr>\n",
              "      <th>1</th>\n",
              "      <td>8</td>\n",
              "      <td>24444</td>\n",
              "    </tr>\n",
              "    <tr>\n",
              "      <th>14</th>\n",
              "      <td>32</td>\n",
              "      <td>24433</td>\n",
              "    </tr>\n",
              "    <tr>\n",
              "      <th>18</th>\n",
              "      <td>34</td>\n",
              "      <td>24367</td>\n",
              "    </tr>\n",
              "    <tr>\n",
              "      <th>12</th>\n",
              "      <td>28</td>\n",
              "      <td>24299</td>\n",
              "    </tr>\n",
              "    <tr>\n",
              "      <th>27</th>\n",
              "      <td>35</td>\n",
              "      <td>24088</td>\n",
              "    </tr>\n",
              "    <tr>\n",
              "      <th>4</th>\n",
              "      <td>26</td>\n",
              "      <td>23912</td>\n",
              "    </tr>\n",
              "    <tr>\n",
              "      <th>36</th>\n",
              "      <td>9</td>\n",
              "      <td>23804</td>\n",
              "    </tr>\n",
              "    <tr>\n",
              "      <th>37</th>\n",
              "      <td>31</td>\n",
              "      <td>23672</td>\n",
              "    </tr>\n",
              "    <tr>\n",
              "      <th>26</th>\n",
              "      <td>6</td>\n",
              "      <td>23646</td>\n",
              "    </tr>\n",
              "    <tr>\n",
              "      <th>17</th>\n",
              "      <td>37</td>\n",
              "      <td>23267</td>\n",
              "    </tr>\n",
              "    <tr>\n",
              "      <th>6</th>\n",
              "      <td>38</td>\n",
              "      <td>23229</td>\n",
              "    </tr>\n",
              "    <tr>\n",
              "      <th>29</th>\n",
              "      <td>30</td>\n",
              "      <td>23188</td>\n",
              "    </tr>\n",
              "    <tr>\n",
              "      <th>5</th>\n",
              "      <td>33</td>\n",
              "      <td>22946</td>\n",
              "    </tr>\n",
              "    <tr>\n",
              "      <th>13</th>\n",
              "      <td>27</td>\n",
              "      <td>22810</td>\n",
              "    </tr>\n",
              "    <tr>\n",
              "      <th>32</th>\n",
              "      <td>29</td>\n",
              "      <td>22607</td>\n",
              "    </tr>\n",
              "    <tr>\n",
              "      <th>23</th>\n",
              "      <td>1</td>\n",
              "      <td>22269</td>\n",
              "    </tr>\n",
              "    <tr>\n",
              "      <th>35</th>\n",
              "      <td>3</td>\n",
              "      <td>22024</td>\n",
              "    </tr>\n",
              "    <tr>\n",
              "      <th>7</th>\n",
              "      <td>2</td>\n",
              "      <td>19201</td>\n",
              "    </tr>\n",
              "    <tr>\n",
              "      <th>19</th>\n",
              "      <td>22</td>\n",
              "      <td>10743</td>\n",
              "    </tr>\n",
              "    <tr>\n",
              "      <th>34</th>\n",
              "      <td>36</td>\n",
              "      <td>9412</td>\n",
              "    </tr>\n",
              "    <tr>\n",
              "      <th>20</th>\n",
              "      <td>7</td>\n",
              "      <td>8445</td>\n",
              "    </tr>\n",
              "  </tbody>\n",
              "</table>\n",
              "</div>"
            ],
            "text/plain": [
              "     0      1\n",
              "8   10  67079\n",
              "11  19  32351\n",
              "15   0  32307\n",
              "28  24  30668\n",
              "0    5  30597\n",
              "9   18  30569\n",
              "2   15  30520\n",
              "3   21  29726\n",
              "25  16  29166\n",
              "22  25  29018\n",
              "16  11  27720\n",
              "33  39  27550\n",
              "38  17  27307\n",
              "10  12  26885\n",
              "31  23  26633\n",
              "21  14  25718\n",
              "24  13  24769\n",
              "30   4  24611\n",
              "1    8  24444\n",
              "14  32  24433\n",
              "18  34  24367\n",
              "12  28  24299\n",
              "27  35  24088\n",
              "4   26  23912\n",
              "36   9  23804\n",
              "37  31  23672\n",
              "26   6  23646\n",
              "17  37  23267\n",
              "6   38  23229\n",
              "29  30  23188\n",
              "5   33  22946\n",
              "13  27  22810\n",
              "32  29  22607\n",
              "23   1  22269\n",
              "35   3  22024\n",
              "7    2  19201\n",
              "19  22  10743\n",
              "34  36   9412\n",
              "20   7   8445"
            ]
          },
          "metadata": {},
          "execution_count": 60
        }
      ]
    },
    {
      "cell_type": "markdown",
      "metadata": {
        "id": "gs4sp0U5ZGVX"
      },
      "source": [
        "# Testing Area"
      ]
    },
    {
      "cell_type": "code",
      "metadata": {
        "id": "mlBlEjXyZGVY"
      },
      "source": [
        "1/0"
      ],
      "execution_count": null,
      "outputs": []
    },
    {
      "cell_type": "markdown",
      "metadata": {
        "jp-MarkdownHeadingCollapsed": true,
        "tags": [],
        "id": "ofHOltKMZGVY"
      },
      "source": [
        "<a id=\"section-one\"></a>\n",
        "## Helper Functions\n",
        "\n",
        "**^html links hidden here, fork notebook then click this cell to see it**\n",
        "<a id=\"section-two\"></a>\n",
        "## Section Two\n",
        "**^html links hidden here, fork notebook then click this cell to see it**\n"
      ]
    },
    {
      "cell_type": "code",
      "metadata": {
        "id": "p1HJ3EQlZGVZ"
      },
      "source": [
        "import re\n",
        "\n",
        "lst1 = ['JAIL', 'C1', 'E3', 'H2', 'R1']\n",
        "\n",
        "for x in lst1:    \n",
        "    print(x, lst_monopoly_squares.index(x))\n",
        "\n",
        "lst2 = ['^R', '^U', '^CC', '^CH']\n",
        "\n",
        "for x in lst2:    \n",
        "    r = re.compile(x)\n",
        "    new_list = list(filter(r.match, lst_monopoly_squares))\n",
        "    print(new_list)\n",
        "    \n",
        "    for y in new_list:\n",
        "        print(x, lst_monopoly_squares.index(y))"
      ],
      "execution_count": null,
      "outputs": []
    },
    {
      "cell_type": "markdown",
      "metadata": {
        "id": "oY_oAcG4ZGVa"
      },
      "source": [
        "## Image Testing (Works!)"
      ]
    },
    {
      "cell_type": "code",
      "metadata": {
        "id": "ea8ExNyHjqyV"
      },
      "source": [
        "# Importing the PIL library\n",
        "from PIL import Image\n",
        "from PIL import ImageDraw\n",
        "from PIL import ImageFont"
      ],
      "execution_count": 27,
      "outputs": []
    },
    {
      "cell_type": "code",
      "metadata": {
        "id": "8_1gr-oikHhO"
      },
      "source": [
        "import requests\n",
        "from io import BytesIO\n",
        "url = \"https://projecteuler.net/project/images/p084_monopoly_board.png\"\n",
        "response = requests.get(url)\n",
        "orig_img = Image.open(BytesIO(response.content))"
      ],
      "execution_count": 22,
      "outputs": []
    },
    {
      "cell_type": "code",
      "metadata": {
        "colab": {
          "base_uri": "https://localhost:8080/",
          "height": 505
        },
        "id": "vn9N6s34qsSb",
        "outputId": "b4ecce5e-1ace-4299-fffe-ea556cab4088"
      },
      "source": [
        "# Open an Image\n",
        "img = orig_img.copy()\n",
        "\n",
        "myfont = ImageFont.truetype(r'/usr/share/fonts/truetype/liberation/LiberationMono-Regular.ttf', 20)\n",
        "\n",
        "# myfont = ImageFont.truetype(\"arial.ttf\", 1)\n",
        " \n",
        "# Call draw Method to add 2D graphics in an image\n",
        "I1 = ImageDraw.Draw(img) \n",
        "\n",
        "mysq = 0\n",
        "\n",
        "for i in range(4):\n",
        "  \n",
        "  \n",
        "  if i == 0:\n",
        "    print ('walk right 0 to 9')\n",
        "    for sq in range(10):\n",
        "      x = 40.7*sq + 10\n",
        "      y = 37.8*i + 5\n",
        "\n",
        "      m = lst_monopoly_squares[mysq]\n",
        "      mysq+=1\n",
        "\n",
        "      \n",
        "      I1.text((x, y),f'{m}', font=myfont, fill =(255, 0, 0))\n",
        "\n",
        "  if i == 1:\n",
        "    print ('walk down 0 to 9')\n",
        "   \n",
        "    for sq in range(10):\n",
        "      x = 40.7*10 + 10\n",
        "      y = 37.8*sq + 5\n",
        "      m = lst_monopoly_squares[mysq]\n",
        "      mysq+=1      \n",
        "      I1.text((x, y),f'{m}',font=myfont, fill =(255, 0, 0))\n",
        "\n",
        "  if i == 2:\n",
        "    print ('walk left 0 to 9')\n",
        "\n",
        "    for sq in range(10, 0, -1):\n",
        "      x = 40.7*sq + 10\n",
        "      y = 37.8*10 #+ 5\n",
        "      m = lst_monopoly_squares[mysq]\n",
        "      mysq+=1      \n",
        "      I1.text((x, y),f'{m}', font=myfont,fill =(255, 0, 0))\n",
        "  \n",
        "  if i == 3:\n",
        "    print ('walk up 0 to 9')\n",
        "\n",
        "    for sq in range(10, 0, -1):\n",
        "      x = 40.7*0 + 10\n",
        "      y = 37.8*sq + 3\n",
        "      m = lst_monopoly_squares[mysq]\n",
        "      mysq+=1      \n",
        "      I1.text((x, y),f'{m}', font=myfont,fill =(255, 0, 0))\n",
        "\n",
        " # Display edited image\n",
        "img"
      ],
      "execution_count": 75,
      "outputs": [
        {
          "output_type": "stream",
          "name": "stdout",
          "text": [
            "walk right 0 to 9\n",
            "walk down 0 to 9\n",
            "walk left 0 to 9\n",
            "walk up 0 to 9\n"
          ]
        },
        {
          "output_type": "execute_result",
          "data": {
            "image/png": "[encoded data removed]",
            "text/plain": [
              "<PIL.Image.Image image mode=RGBA size=448x416 at 0x7F0CA047A750>"
            ]
          },
          "metadata": {},
          "execution_count": 75
        }
      ]
    },
    {
      "cell_type": "code",
      "metadata": {
        "colab": {
          "base_uri": "https://localhost:8080/",
          "height": 433
        },
        "id": "_6e6D4EzkOyn",
        "outputId": "8a140a09-9e59-46a6-d434-fe879a8130fa"
      },
      "source": [
        "# Open an Image\n",
        "img = orig_img.copy()\n",
        " \n",
        "# Call draw Method to add 2D graphics in an image\n",
        "I1 = ImageDraw.Draw(img)\n",
        "\n",
        "for sq in range(40):\n",
        "  \n",
        "  x = 40.7*i + 10\n",
        "  for j in range(11):\n",
        "    if (i >=1 and i <= 9) and (j>=1 and j<=9):\n",
        "      continue\n",
        "    \n",
        "  \n",
        "    y = 37.8*j + 5\n",
        "\n",
        "    I1.text((x, y), f'{i},{j}', fill =(255, 0, 0))\n",
        "  \n",
        "# Display edited image\n",
        "img\n"
      ],
      "execution_count": 42,
      "outputs": [
        {
          "output_type": "execute_result",
          "data": {
            "image/png": "[encoded data removed]",
            "text/plain": [
              "<PIL.Image.Image image mode=RGBA size=448x416 at 0x7F0CA4D39290>"
            ]
          },
          "metadata": {},
          "execution_count": 42
        }
      ]
    },
    {
      "cell_type": "code",
      "metadata": {
        "colab": {
          "base_uri": "https://localhost:8080/",
          "height": 433
        },
        "id": "pEOlhs06mUgN",
        "outputId": "4fb2f3a5-b4e2-4c76-dd6f-3beea61166ee"
      },
      "source": [
        "# Open an Image\n",
        "img = orig_img.copy()\n",
        " \n",
        "# Call draw Method to add 2D graphics in an image\n",
        "I1 = ImageDraw.Draw(img)\n",
        " \n",
        "# Custom font style and font size\n",
        "# myFont = ImageFont.truetype('FreeMono.ttf', 65)\n",
        " \n",
        "# Add Text to an image\n",
        "\n",
        "for i in range(11):\n",
        "  x = 40.7*i + 10\n",
        "  for j in range(11):\n",
        "    if (i >=1 and i <= 9) and (j>=1 and j<=9):\n",
        "      continue\n",
        "    \n",
        "  \n",
        "    y = 37.8*j + 5\n",
        "\n",
        "    I1.text((x, y), f'{i},{j}', fill =(255, 0, 0))\n",
        "  \n",
        "# Display edited image\n",
        "img\n"
      ],
      "execution_count": 41,
      "outputs": [
        {
          "output_type": "execute_result",
          "data": {
            "image/png": "[encoded data removed]",
            "text/plain": [
              "<PIL.Image.Image image mode=RGBA size=448x416 at 0x7F0CA4432AD0>"
            ]
          },
          "metadata": {},
          "execution_count": 41
        }
      ]
    },
    {
      "cell_type": "markdown",
      "metadata": {
        "id": "mFm12EVr7Wri"
      },
      "source": [
        "## Simple Test1"
      ]
    },
    {
      "cell_type": "code",
      "metadata": {
        "tags": [],
        "id": "q-kuL75sZGVd"
      },
      "source": [
        "mylist = [5, 15, 25, 35]\n",
        "\n",
        "currno = 36\n",
        "\n",
        "if currno > mylist[-1]:\n",
        "    selection = mylist[0]\n",
        "else:    \n",
        "    for i in mylist:\n",
        "        if currno > i:\n",
        "            continue\n",
        "        else:\n",
        "            selection = i\n",
        "            break\n",
        "\n",
        "print(selection)\n",
        "    "
      ],
      "execution_count": null,
      "outputs": []
    },
    {
      "cell_type": "markdown",
      "metadata": {
        "id": "jh7OeyyxZGVe"
      },
      "source": [
        "## Test Markdown"
      ]
    },
    {
      "cell_type": "markdown",
      "metadata": {
        "id": "QwchXk4WZGVe"
      },
      "source": [
        "Clicking on each link jumps you to the section that is marked. It is really intuitive to use! \n",
        "I would recommend adding a table of contents to any of your published notebooks, so that the reader doesn't get lost.\n",
        "You would want everyone to enjoy reading that kernel that you spent so long on!\n",
        "\n",
        "Links use HTML to target your browser to that specific section of your Kaggle notebook.\n",
        "To see the inner workings and code, please fork this notebook and click on the cells to see the markdown code\n",
        "\n",
        "* [Introduction](#section-one)\n",
        "* [Body](#section-two)\n",
        "    - [Subsectionaaa 1](#subsection-one)\n",
        "    - [Subsectionaaa 2](#anything-you-like)\n",
        "* [Conclusionaaa](#section-three)"
      ]
    },
    {
      "cell_type": "markdown",
      "metadata": {
        "id": "Wqw4A87RZGVe"
      },
      "source": [
        "## Logging Test"
      ]
    },
    {
      "cell_type": "code",
      "metadata": {
        "id": "5QEVMeCKZGVf"
      },
      "source": [
        "# 'application' code\n",
        "logger.debug('debug message')\n",
        "logger.info('info message')\n",
        "logger.info('warn message')\n",
        "logger.error('error message')\n",
        "logger.critical('critical message')"
      ],
      "execution_count": null,
      "outputs": []
    }
  ]
}